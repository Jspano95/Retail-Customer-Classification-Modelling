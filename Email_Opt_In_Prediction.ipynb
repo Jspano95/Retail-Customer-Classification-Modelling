{
 "cells": [
  {
   "cell_type": "markdown",
   "id": "78c1390f",
   "metadata": {},
   "source": [
    "# TABLE OF CONTENTS\n",
    "\n",
    "####  INITIAL DATA PREPARATION\n",
    "* [Initial Data Imports, Variable Explanations & Merging](#initial_data_import)\n",
    "* [Initial Data Exploration & Visualisations](#ide)\n",
    "* [Data: Dummy Variable Creation](#data_pre)\n",
    "* [Feature Engineering & Data Cleaning](#feature_eng)\n",
    "\n",
    "#### Classification Models\n",
    "* [Un-tuned classification models comparisons & cross validation testing](#models)\n",
    "* [Tuned classification models comparisons](#tuned_models)\n",
    "    * [Additional Voting Classifier Approaches](#add_vc)\n",
    "* [Tuned Classification Models on Test Data (out-of-sample) Prediction Accuracy](#oos_models)\n",
    "* [Final Model Prediction Results Summary and Discussion](#model_results)"
   ]
  },
  {
   "cell_type": "code",
   "execution_count": null,
   "id": "3d29aabf",
   "metadata": {},
   "outputs": [],
   "source": []
  },
  {
   "attachments": {
    "image-4.png": {
     "image/png": "[encoded data removed]"
    },
    "image-5.png": {
     "image/png": "[encoded data removed]"
    },
    "image-6.png": {
     "image/png": "[encoded data removed]"
    }
   },
   "cell_type": "markdown",
   "id": "02fc23b1",
   "metadata": {},
   "source": [
    "## BRIEF PROJECT OUTLINE: \n",
    "\n",
    "### PURPOSE OF CLASSIFICATION MODELS & PROJECT \n",
    "* The overarching purpose of these models (this project) is to determine why some loyalty customers have chosen to opt into email marketing and others have chosen to opt out. The data shows that those customers who opt in have higher average spends, thus it is important to determine whether customers who are already spending more choose to opt in or whether opting in results in a higher average spend. To determine this, I construct various data features which capture demographics of customers and utilise various classification models to determine outcomes based off the input demographics / data features. A desired takeaways is to understand what features underpin each group and inform decisions on how to influence customers to opt into email marketing. \n",
    "\n",
    "#### THE  DATA: \n",
    "* Original data is 52K entries of sales data across 12+ departments and several hundred unique customers with unique individual characteristics: post code, age, gender, shopping frequency and average spend across different departments. Data ranges from 2019 to early 2021.\n",
    "\n",
    "#### PROJECT FLOW:\n",
    "\n",
    "* After initial data exploration and data cleaning, I create a variety of features for the classification models:\n",
    "    * Customer Duration (Time between first and last transactions)\n",
    "    * One-Hot Encode post code data by customer, customer gender, department sales frequencies by customer\n",
    "    * Standardise these variables without mean (Ex. post-code) to preserve the sparse matrix nature of the data\n",
    "        * Also standardise: age of each customer\n",
    "        \n",
    "        \n",
    "* A severe class imbalance problem was present between customers who opted into email marketing (majority class) vs those who didn't (minority class). To remedy this, I upscaled the minority class with replacement to balance the two classes\n",
    "    * Also tried downscaling the majority class in a separate iteration and found the former method to be superior\n",
    "\n",
    "\n",
    "* I first run the following models before tuning and compare performance (accuracy) across the average of (5) cross validations on the training data\n",
    "    * Naive Bayes (baseline measurement)\n",
    "    * Logistic Regression\n",
    "    * Decision Tree Classifier\n",
    "    * Random Forest Classifier\n",
    "    * K-nearest neighbors\n",
    "    * Support Vector Classifier\n",
    "    * XGBoost Classifier\n",
    "    * Soft & Hard Voting Classifiers\n",
    "\n",
    "\n",
    "### UN-TUNED (INITIAL) MODEL RESULTS\n",
    "![image-5.png](attachment:image-5.png)\n",
    "\n",
    "\n",
    "* With the exception of the naive bayes, I tune the above models and re-measure the performance the same way\n",
    "    * I also experiment with different weightings of soft voting classifiers \n",
    "    \n",
    "    \n",
    "###  TUNED CLASSIFICATION MODEL RESULTS     \n",
    "![image-6.png](attachment:image-6.png)\n",
    "\n",
    "    \n",
    "### OUT OF SAMPLE PREDICTION RESULTS    \n",
    "* The final result is the individual tuned classification models perform best; consequently, I perform predictions on the test data with the trained model to measure out-of-sample predictive strength\n",
    "\n",
    "![image-4.png](attachment:image-4.png)\n",
    "\n",
    "\n",
    "\n",
    "###### FOR FULL RESULTS REPORTING AND VISUALS, FOLLOW THE ABOVE HYPERLINKS FOR THE RELATIVE SECTION"
   ]
  },
  {
   "cell_type": "code",
   "execution_count": null,
   "id": "19e46a16",
   "metadata": {},
   "outputs": [],
   "source": []
  },
  {
   "cell_type": "markdown",
   "id": "568dfbcf",
   "metadata": {},
   "source": [
    "## PACKAGES\n",
    "* NOTE: some additional packages are imported in the \"classification\" models section, concurrently with the introduction of each model "
   ]
  },
  {
   "cell_type": "code",
   "execution_count": 1,
   "id": "3358afe2",
   "metadata": {},
   "outputs": [],
   "source": [
    "## import packages ## \n",
    "import warnings\n",
    "import sys\n",
    "if not sys.warnoptions:\n",
    "    warnings.filterwarnings(\"ignore\")  "
   ]
  },
  {
   "cell_type": "code",
   "execution_count": 2,
   "id": "33944149",
   "metadata": {},
   "outputs": [],
   "source": [
    "# core packages\n",
    "import numpy as np \n",
    "import pandas as pd\n",
    "\n",
    "## graphing packages ## \n",
    "import matplotlib.pyplot as plt\n",
    "import seaborn as sns\n",
    "%matplotlib inline\n",
    "\n",
    "## date working / printing packages\n",
    "import datetime\n",
    "from datetime import date, timedelta, datetime  "
   ]
  },
  {
   "cell_type": "code",
   "execution_count": 3,
   "id": "6edf7357",
   "metadata": {},
   "outputs": [],
   "source": [
    "# model packages \n",
    "from sklearn.metrics import accuracy_score \n",
    "from sklearn.preprocessing import MinMaxScaler, StandardScaler, LabelEncoder\n",
    "from sklearn.model_selection import train_test_split"
   ]
  },
  {
   "cell_type": "code",
   "execution_count": 4,
   "id": "918079fc",
   "metadata": {},
   "outputs": [],
   "source": [
    "## optional packages / display preferences ##\n",
    "from IPython.display import display\n",
    "pd.options.display.float_format = \"{:,.2f}\".format\n",
    "np.set_printoptions(precision=2)\n",
    "pd.set_option('display.max_columns', 50)\n",
    "plt.style.use('seaborn')"
   ]
  },
  {
   "cell_type": "code",
   "execution_count": null,
   "id": "5035d904",
   "metadata": {},
   "outputs": [],
   "source": []
  },
  {
   "cell_type": "code",
   "execution_count": null,
   "id": "bf75a4ee",
   "metadata": {},
   "outputs": [],
   "source": []
  },
  {
   "cell_type": "markdown",
   "id": "285f9609",
   "metadata": {},
   "source": [
    "<a id='initial_data_import'></a>\n",
    "\n",
    "## IMPORT FIRST DATA FILE: SALES DATA\n",
    "* E.G. data contains sales by department, by customer"
   ]
  },
  {
   "cell_type": "code",
   "execution_count": 3,
   "id": "11c5768e",
   "metadata": {},
   "outputs": [],
   "source": [
    "# import xlsx file\n",
    "weekly_customer_sales_bydep = pd.read_excel(r'weekly_customer_sales_department_data_mw.xlsx')"
   ]
  },
  {
   "cell_type": "code",
   "execution_count": 5,
   "id": "62ca9d34",
   "metadata": {},
   "outputs": [],
   "source": [
    "# [optional] temporarily need REGEX; then can del re\n",
    "import regex as re\n",
    "\n",
    "# CLEAN DF COLUMN NAMES OF SYMBOLS / SPACES: \n",
    "# make all characters lowercase, remove spaces etc.\n",
    "for i, val in enumerate(weekly_customer_sales_bydep.columns.values):\n",
    "    weekly_customer_sales_bydep.columns.values[i] = re.sub('[^A-Za-z0-9]+', '', val.lower())"
   ]
  },
  {
   "cell_type": "code",
   "execution_count": 9,
   "id": "85271529",
   "metadata": {},
   "outputs": [],
   "source": [
    "# === NOTE === # \n",
    "# to protect the anonymity of the data, the actual store_name has been replaced with a code word\n",
    "# this store name has been hidden below, replaced by the string \"####\"\n",
    "weekly_customer_sales_bydep['store'] = weekly_customer_sales_bydep['store'].replace(\"####\", \"MW\")"
   ]
  },
  {
   "cell_type": "code",
   "execution_count": 16,
   "id": "ca86dfe8",
   "metadata": {},
   "outputs": [],
   "source": [
    "# for privacy concerns, we keep identify a unique customer by their card number and hide their full-name\n",
    "weekly_customer_sales_bydep.drop(['fullname'], axis=1, inplace=True)"
   ]
  },
  {
   "cell_type": "code",
   "execution_count": 18,
   "id": "febad655",
   "metadata": {},
   "outputs": [
    {
     "name": "stdout",
     "output_type": "stream",
     "text": [
      "<class 'pandas.core.frame.DataFrame'>\n",
      "RangeIndex: 51524 entries, 0 to 51523\n",
      "Data columns (total 9 columns):\n",
      " #   Column           Non-Null Count  Dtype  \n",
      "---  ------           --------------  -----  \n",
      " 0   store            51524 non-null  object \n",
      " 1   weekendingname   51524 non-null  object \n",
      " 2   sales            51524 non-null  float64\n",
      " 3   baskets          51524 non-null  int64  \n",
      " 4   sumofcardnumber  48741 non-null  float64\n",
      " 5   sumofage         14926 non-null  float64\n",
      " 6   gender           48741 non-null  object \n",
      " 7   city             16414 non-null  object \n",
      " 8   department       51524 non-null  object \n",
      "dtypes: float64(3), int64(1), object(5)\n",
      "memory usage: 3.5+ MB\n"
     ]
    }
   ],
   "source": [
    "weekly_customer_sales_bydep.info()"
   ]
  },
  {
   "cell_type": "markdown",
   "id": "2efae73a",
   "metadata": {},
   "source": [
    "* NOTE: a lot of missing data around age and city (post-code)"
   ]
  },
  {
   "cell_type": "code",
   "execution_count": 21,
   "id": "d93a5acc",
   "metadata": {},
   "outputs": [],
   "source": [
    "# rename some of those long/verbose column names for simplicity \n",
    "weekly_customer_sales_bydep.rename(columns = {'weekendingname':'week_ending',\n",
    "                                             'sumofcardnumber':'card_num',\n",
    "                                             'sumofage':'age'}, inplace=True)"
   ]
  },
  {
   "cell_type": "code",
   "execution_count": 22,
   "id": "4d700e8e",
   "metadata": {},
   "outputs": [
    {
     "data": {
      "text/plain": [
       "store              0\n",
       "week_ending        0\n",
       "sales              0\n",
       "baskets            0\n",
       "card_num        2783\n",
       "age            36598\n",
       "gender          2783\n",
       "city           35110\n",
       "department         0\n",
       "dtype: int64"
      ]
     },
     "execution_count": 22,
     "metadata": {},
     "output_type": "execute_result"
    }
   ],
   "source": [
    "# visualise Null values for the DF\n",
    "weekly_customer_sales_bydep.isnull().sum()"
   ]
  },
  {
   "cell_type": "code",
   "execution_count": null,
   "id": "1dd1666f",
   "metadata": {},
   "outputs": [],
   "source": []
  },
  {
   "cell_type": "markdown",
   "id": "e3705222",
   "metadata": {},
   "source": [
    "#### Remove sales entries that don't have a corressponding customer (card_num) attached\n",
    "* Other category NaN - E.G. Gender, will be handled in the feature creation section just before the classification models"
   ]
  },
  {
   "cell_type": "code",
   "execution_count": 30,
   "id": "d178ed20",
   "metadata": {},
   "outputs": [],
   "source": [
    "# we see at the begenning of each \"week_ending\", there is aggregate department-level store sales information we don't need\n",
    "# there is no associated card_num with this information obviously, so we can drop it\n",
    "weekly_customer_sales_bydep.dropna(subset=['card_num'], inplace=True)"
   ]
  },
  {
   "cell_type": "code",
   "execution_count": 31,
   "id": "6d853b4b",
   "metadata": {},
   "outputs": [
    {
     "data": {
      "text/html": [
       "<div>\n",
       "<style scoped>\n",
       "    .dataframe tbody tr th:only-of-type {\n",
       "        vertical-align: middle;\n",
       "    }\n",
       "\n",
       "    .dataframe tbody tr th {\n",
       "        vertical-align: top;\n",
       "    }\n",
       "\n",
       "    .dataframe thead th {\n",
       "        text-align: right;\n",
       "    }\n",
       "</style>\n",
       "<table border=\"1\" class=\"dataframe\">\n",
       "  <thead>\n",
       "    <tr style=\"text-align: right;\">\n",
       "      <th></th>\n",
       "      <th>store</th>\n",
       "      <th>week_ending</th>\n",
       "      <th>sales</th>\n",
       "      <th>baskets</th>\n",
       "      <th>card_num</th>\n",
       "      <th>age</th>\n",
       "      <th>gender</th>\n",
       "      <th>city</th>\n",
       "      <th>department</th>\n",
       "    </tr>\n",
       "  </thead>\n",
       "  <tbody>\n",
       "    <tr>\n",
       "      <th>23</th>\n",
       "      <td>MW</td>\n",
       "      <td>Jan 06, 2019</td>\n",
       "      <td>8.58</td>\n",
       "      <td>3</td>\n",
       "      <td>1.112257e+17</td>\n",
       "      <td>NaN</td>\n",
       "      <td>Unknown</td>\n",
       "      <td>NaN</td>\n",
       "      <td>BREAD</td>\n",
       "    </tr>\n",
       "    <tr>\n",
       "      <th>24</th>\n",
       "      <td>MW</td>\n",
       "      <td>Jan 06, 2019</td>\n",
       "      <td>34.75</td>\n",
       "      <td>1</td>\n",
       "      <td>1.112257e+17</td>\n",
       "      <td>NaN</td>\n",
       "      <td>Unknown</td>\n",
       "      <td>NaN</td>\n",
       "      <td>CIGS &amp; TOBACCO</td>\n",
       "    </tr>\n",
       "    <tr>\n",
       "      <th>25</th>\n",
       "      <td>MW</td>\n",
       "      <td>Jan 06, 2019</td>\n",
       "      <td>4.99</td>\n",
       "      <td>1</td>\n",
       "      <td>1.112257e+17</td>\n",
       "      <td>NaN</td>\n",
       "      <td>Unknown</td>\n",
       "      <td>NaN</td>\n",
       "      <td>CONFECTIONERY</td>\n",
       "    </tr>\n",
       "    <tr>\n",
       "      <th>26</th>\n",
       "      <td>MW</td>\n",
       "      <td>Jan 06, 2019</td>\n",
       "      <td>11.44</td>\n",
       "      <td>1</td>\n",
       "      <td>1.112257e+17</td>\n",
       "      <td>NaN</td>\n",
       "      <td>Unknown</td>\n",
       "      <td>NaN</td>\n",
       "      <td>DAIRY</td>\n",
       "    </tr>\n",
       "    <tr>\n",
       "      <th>27</th>\n",
       "      <td>MW</td>\n",
       "      <td>Jan 06, 2019</td>\n",
       "      <td>26.62</td>\n",
       "      <td>4</td>\n",
       "      <td>1.112257e+17</td>\n",
       "      <td>NaN</td>\n",
       "      <td>Unknown</td>\n",
       "      <td>NaN</td>\n",
       "      <td>FRUIT &amp; VEG</td>\n",
       "    </tr>\n",
       "  </tbody>\n",
       "</table>\n",
       "</div>"
      ],
      "text/plain": [
       "   store   week_ending  sales  baskets      card_num  age   gender city  \\\n",
       "23    MW  Jan 06, 2019   8.58        3  1.112257e+17  NaN  Unknown  NaN   \n",
       "24    MW  Jan 06, 2019  34.75        1  1.112257e+17  NaN  Unknown  NaN   \n",
       "25    MW  Jan 06, 2019   4.99        1  1.112257e+17  NaN  Unknown  NaN   \n",
       "26    MW  Jan 06, 2019  11.44        1  1.112257e+17  NaN  Unknown  NaN   \n",
       "27    MW  Jan 06, 2019  26.62        4  1.112257e+17  NaN  Unknown  NaN   \n",
       "\n",
       "        department  \n",
       "23           BREAD  \n",
       "24  CIGS & TOBACCO  \n",
       "25   CONFECTIONERY  \n",
       "26           DAIRY  \n",
       "27     FRUIT & VEG  "
      ]
     },
     "execution_count": 31,
     "metadata": {},
     "output_type": "execute_result"
    }
   ],
   "source": [
    "weekly_customer_sales_bydep.head()"
   ]
  },
  {
   "cell_type": "code",
   "execution_count": null,
   "id": "a2b4146e",
   "metadata": {},
   "outputs": [],
   "source": []
  },
  {
   "cell_type": "markdown",
   "id": "fbe9972e",
   "metadata": {},
   "source": [
    "### [OPTIONAL] \n",
    "* Pickle the DF thus far"
   ]
  },
  {
   "cell_type": "code",
   "execution_count": 32,
   "id": "5a849da8",
   "metadata": {},
   "outputs": [],
   "source": [
    "weekly_customer_sales_bydep.to_pickle(\"./weekly_customer_sales_bydep.pkl\")\n",
    "#weekly_customer_sales_bydep = pd.read_pickle(\"./weekly_customer_sales_bydep.pkl\") "
   ]
  },
  {
   "cell_type": "code",
   "execution_count": null,
   "id": "9aac5952",
   "metadata": {},
   "outputs": [],
   "source": []
  },
  {
   "cell_type": "code",
   "execution_count": null,
   "id": "4a3aa2a8",
   "metadata": {},
   "outputs": [],
   "source": []
  },
  {
   "cell_type": "markdown",
   "id": "54cc15fe",
   "metadata": {},
   "source": [
    "## IMPORT (2ND DATA FILE): CUSTOMER INFORMATION FILE\n",
    "* Contains relevant information like: email marketing allowed, post code etc. \n",
    "* This data will be merged onto the above file \"weekly_customer_sales_bydep\""
   ]
  },
  {
   "cell_type": "code",
   "execution_count": 37,
   "id": "75788d8d",
   "metadata": {},
   "outputs": [],
   "source": [
    "# import supplementary file with customer information\n",
    "customer_emailopt_in_file = pd.read_excel(r'mw_customer_information_emailoptin.xlsx')"
   ]
  },
  {
   "cell_type": "code",
   "execution_count": 40,
   "id": "1935efc8",
   "metadata": {},
   "outputs": [],
   "source": [
    "# once again, drop the full_name for privacy reasons \n",
    "customer_emailopt_in_file.drop(['Full Name'], axis=1, inplace=True)"
   ]
  },
  {
   "cell_type": "code",
   "execution_count": 42,
   "id": "cc7981be",
   "metadata": {},
   "outputs": [],
   "source": [
    "# to facilitate the merge, we will rename the relevant columns \n",
    "customer_emailopt_in_file.rename(columns={'IsHomeEmailMarketingAllowed':'email_status',\n",
    "                                         'Sum of Card Number':'card_num',\n",
    "                                         'PostCode':'post_code'}, inplace=True)"
   ]
  },
  {
   "cell_type": "markdown",
   "id": "e1122093",
   "metadata": {},
   "source": [
    "## E.G. Of the two DFs data for one individual customer (card_num)\n",
    "* Visualise the data available in each DF for a singular random customer with card_num = '59626613925472'"
   ]
  },
  {
   "cell_type": "code",
   "execution_count": 44,
   "id": "0acaef18",
   "metadata": {},
   "outputs": [
    {
     "data": {
      "text/html": [
       "<div>\n",
       "<style scoped>\n",
       "    .dataframe tbody tr th:only-of-type {\n",
       "        vertical-align: middle;\n",
       "    }\n",
       "\n",
       "    .dataframe tbody tr th {\n",
       "        vertical-align: top;\n",
       "    }\n",
       "\n",
       "    .dataframe thead th {\n",
       "        text-align: right;\n",
       "    }\n",
       "</style>\n",
       "<table border=\"1\" class=\"dataframe\">\n",
       "  <thead>\n",
       "    <tr style=\"text-align: right;\">\n",
       "      <th></th>\n",
       "      <th>Store</th>\n",
       "      <th>Gender</th>\n",
       "      <th>City</th>\n",
       "      <th>email_status</th>\n",
       "      <th>card_num</th>\n",
       "      <th>Sum of CardCustomerAccountKey</th>\n",
       "      <th>post_code</th>\n",
       "    </tr>\n",
       "  </thead>\n",
       "  <tbody>\n",
       "    <tr>\n",
       "      <th>0</th>\n",
       "      <td>Mermaid Waters</td>\n",
       "      <td>Female</td>\n",
       "      <td>Miami</td>\n",
       "      <td>True</td>\n",
       "      <td>59626613925472</td>\n",
       "      <td>4070132</td>\n",
       "      <td>4220.0</td>\n",
       "    </tr>\n",
       "  </tbody>\n",
       "</table>\n",
       "</div>"
      ],
      "text/plain": [
       "            Store  Gender   City  email_status        card_num  \\\n",
       "0  Mermaid Waters  Female  Miami          True  59626613925472   \n",
       "\n",
       "   Sum of CardCustomerAccountKey  post_code  \n",
       "0                        4070132     4220.0  "
      ]
     },
     "execution_count": 44,
     "metadata": {},
     "output_type": "execute_result"
    }
   ],
   "source": [
    "customer_emailopt_in_file.loc[customer_emailopt_in_file.card_num==59626613925472]"
   ]
  },
  {
   "cell_type": "code",
   "execution_count": 46,
   "id": "9fee0a98",
   "metadata": {},
   "outputs": [
    {
     "data": {
      "text/html": [
       "<div>\n",
       "<style scoped>\n",
       "    .dataframe tbody tr th:only-of-type {\n",
       "        vertical-align: middle;\n",
       "    }\n",
       "\n",
       "    .dataframe tbody tr th {\n",
       "        vertical-align: top;\n",
       "    }\n",
       "\n",
       "    .dataframe thead th {\n",
       "        text-align: right;\n",
       "    }\n",
       "</style>\n",
       "<table border=\"1\" class=\"dataframe\">\n",
       "  <thead>\n",
       "    <tr style=\"text-align: right;\">\n",
       "      <th></th>\n",
       "      <th>store</th>\n",
       "      <th>week_ending</th>\n",
       "      <th>sales</th>\n",
       "      <th>baskets</th>\n",
       "      <th>card_num</th>\n",
       "      <th>age</th>\n",
       "      <th>gender</th>\n",
       "      <th>city</th>\n",
       "      <th>department</th>\n",
       "    </tr>\n",
       "  </thead>\n",
       "  <tbody>\n",
       "    <tr>\n",
       "      <th>6017</th>\n",
       "      <td>MW</td>\n",
       "      <td>Apr 21, 2019</td>\n",
       "      <td>1.99</td>\n",
       "      <td>1</td>\n",
       "      <td>5.962661e+13</td>\n",
       "      <td>792.0</td>\n",
       "      <td>Female</td>\n",
       "      <td>Miami</td>\n",
       "      <td>BREAD</td>\n",
       "    </tr>\n",
       "    <tr>\n",
       "      <th>6018</th>\n",
       "      <td>MW</td>\n",
       "      <td>Apr 21, 2019</td>\n",
       "      <td>5.00</td>\n",
       "      <td>1</td>\n",
       "      <td>5.962661e+13</td>\n",
       "      <td>792.0</td>\n",
       "      <td>Female</td>\n",
       "      <td>Miami</td>\n",
       "      <td>CONFECTIONERY</td>\n",
       "    </tr>\n",
       "    <tr>\n",
       "      <th>6019</th>\n",
       "      <td>MW</td>\n",
       "      <td>Apr 21, 2019</td>\n",
       "      <td>1.00</td>\n",
       "      <td>1</td>\n",
       "      <td>5.962661e+13</td>\n",
       "      <td>792.0</td>\n",
       "      <td>Female</td>\n",
       "      <td>Miami</td>\n",
       "      <td>DAIRY</td>\n",
       "    </tr>\n",
       "    <tr>\n",
       "      <th>6020</th>\n",
       "      <td>MW</td>\n",
       "      <td>Apr 21, 2019</td>\n",
       "      <td>15.00</td>\n",
       "      <td>1</td>\n",
       "      <td>5.962661e+13</td>\n",
       "      <td>792.0</td>\n",
       "      <td>Female</td>\n",
       "      <td>Miami</td>\n",
       "      <td>SEASONAL LINES</td>\n",
       "    </tr>\n",
       "    <tr>\n",
       "      <th>6021</th>\n",
       "      <td>MW</td>\n",
       "      <td>Apr 21, 2019</td>\n",
       "      <td>3.00</td>\n",
       "      <td>1</td>\n",
       "      <td>5.962661e+13</td>\n",
       "      <td>792.0</td>\n",
       "      <td>Female</td>\n",
       "      <td>Miami</td>\n",
       "      <td>SNACKFOODS</td>\n",
       "    </tr>\n",
       "  </tbody>\n",
       "</table>\n",
       "</div>"
      ],
      "text/plain": [
       "     store   week_ending  sales  baskets      card_num    age  gender   city  \\\n",
       "6017    MW  Apr 21, 2019   1.99        1  5.962661e+13  792.0  Female  Miami   \n",
       "6018    MW  Apr 21, 2019   5.00        1  5.962661e+13  792.0  Female  Miami   \n",
       "6019    MW  Apr 21, 2019   1.00        1  5.962661e+13  792.0  Female  Miami   \n",
       "6020    MW  Apr 21, 2019  15.00        1  5.962661e+13  792.0  Female  Miami   \n",
       "6021    MW  Apr 21, 2019   3.00        1  5.962661e+13  792.0  Female  Miami   \n",
       "\n",
       "          department  \n",
       "6017           BREAD  \n",
       "6018   CONFECTIONERY  \n",
       "6019           DAIRY  \n",
       "6020  SEASONAL LINES  \n",
       "6021      SNACKFOODS  "
      ]
     },
     "execution_count": 46,
     "metadata": {},
     "output_type": "execute_result"
    }
   ],
   "source": [
    "weekly_customer_sales_bydep.loc[weekly_customer_sales_bydep.card_num==59626613925472].head()"
   ]
  },
  {
   "cell_type": "code",
   "execution_count": null,
   "id": "4d5fd51d",
   "metadata": {},
   "outputs": [],
   "source": []
  },
  {
   "cell_type": "code",
   "execution_count": 49,
   "id": "eeaf1f4b",
   "metadata": {},
   "outputs": [],
   "source": [
    "# filter for the information we need in the merge (don't need gender / city again etc.)\n",
    "customer_emailopt_in_file = customer_emailopt_in_file[['card_num','email_status','post_code']]"
   ]
  },
  {
   "cell_type": "code",
   "execution_count": null,
   "id": "17415fb6",
   "metadata": {},
   "outputs": [],
   "source": []
  },
  {
   "cell_type": "code",
   "execution_count": null,
   "id": "0fd7b0b7",
   "metadata": {},
   "outputs": [],
   "source": []
  },
  {
   "cell_type": "markdown",
   "id": "b756a84f",
   "metadata": {},
   "source": [
    "## MERGE THE TWO DFs \n",
    "* merge sales data with customer identifying information"
   ]
  },
  {
   "cell_type": "code",
   "execution_count": 57,
   "id": "16cec888",
   "metadata": {},
   "outputs": [],
   "source": [
    "weekly_customer_fulldf = pd.merge_ordered(weekly_customer_sales_bydep, customer_emailopt_in_file, \n",
    "                                          fill_method='ffill', right_by='card_num')"
   ]
  },
  {
   "cell_type": "code",
   "execution_count": 58,
   "id": "82b7daa5",
   "metadata": {},
   "outputs": [
    {
     "name": "stdout",
     "output_type": "stream",
     "text": [
      "<class 'pandas.core.frame.DataFrame'>\n",
      "RangeIndex: 26903 entries, 0 to 26902\n",
      "Data columns (total 11 columns):\n",
      " #   Column        Non-Null Count  Dtype  \n",
      "---  ------        --------------  -----  \n",
      " 0   store         26693 non-null  object \n",
      " 1   week_ending   26693 non-null  object \n",
      " 2   sales         26693 non-null  float64\n",
      " 3   baskets       26693 non-null  float64\n",
      " 4   card_num      26903 non-null  int64  \n",
      " 5   age           13869 non-null  float64\n",
      " 6   gender        26693 non-null  object \n",
      " 7   city          15734 non-null  object \n",
      " 8   department    26693 non-null  object \n",
      " 9   email_status  26903 non-null  bool   \n",
      " 10  post_code     24577 non-null  float64\n",
      "dtypes: bool(1), float64(4), int64(1), object(5)\n",
      "memory usage: 2.1+ MB\n"
     ]
    }
   ],
   "source": [
    "weekly_customer_fulldf.info()"
   ]
  },
  {
   "cell_type": "code",
   "execution_count": null,
   "id": "efad303e",
   "metadata": {},
   "outputs": [],
   "source": []
  },
  {
   "cell_type": "code",
   "execution_count": 68,
   "id": "7a0d1dc8",
   "metadata": {},
   "outputs": [
    {
     "data": {
      "text/html": [
       "<div>\n",
       "<style scoped>\n",
       "    .dataframe tbody tr th:only-of-type {\n",
       "        vertical-align: middle;\n",
       "    }\n",
       "\n",
       "    .dataframe tbody tr th {\n",
       "        vertical-align: top;\n",
       "    }\n",
       "\n",
       "    .dataframe thead th {\n",
       "        text-align: right;\n",
       "    }\n",
       "</style>\n",
       "<table border=\"1\" class=\"dataframe\">\n",
       "  <thead>\n",
       "    <tr style=\"text-align: right;\">\n",
       "      <th></th>\n",
       "      <th>store</th>\n",
       "      <th>week_ending</th>\n",
       "      <th>sales</th>\n",
       "      <th>baskets</th>\n",
       "      <th>card_num</th>\n",
       "      <th>age</th>\n",
       "      <th>gender</th>\n",
       "      <th>city</th>\n",
       "      <th>department</th>\n",
       "      <th>email_status</th>\n",
       "      <th>post_code</th>\n",
       "    </tr>\n",
       "  </thead>\n",
       "  <tbody>\n",
       "    <tr>\n",
       "      <th>0</th>\n",
       "      <td>MW</td>\n",
       "      <td>Apr 21, 2019</td>\n",
       "      <td>1.99</td>\n",
       "      <td>1.0</td>\n",
       "      <td>59626613925472</td>\n",
       "      <td>792.0</td>\n",
       "      <td>Female</td>\n",
       "      <td>Miami</td>\n",
       "      <td>BREAD</td>\n",
       "      <td>True</td>\n",
       "      <td>4220.0</td>\n",
       "    </tr>\n",
       "    <tr>\n",
       "      <th>1</th>\n",
       "      <td>MW</td>\n",
       "      <td>Apr 21, 2019</td>\n",
       "      <td>5.00</td>\n",
       "      <td>1.0</td>\n",
       "      <td>59626613925472</td>\n",
       "      <td>792.0</td>\n",
       "      <td>Female</td>\n",
       "      <td>Miami</td>\n",
       "      <td>CONFECTIONERY</td>\n",
       "      <td>True</td>\n",
       "      <td>4220.0</td>\n",
       "    </tr>\n",
       "    <tr>\n",
       "      <th>2</th>\n",
       "      <td>MW</td>\n",
       "      <td>Apr 21, 2019</td>\n",
       "      <td>1.00</td>\n",
       "      <td>1.0</td>\n",
       "      <td>59626613925472</td>\n",
       "      <td>792.0</td>\n",
       "      <td>Female</td>\n",
       "      <td>Miami</td>\n",
       "      <td>DAIRY</td>\n",
       "      <td>True</td>\n",
       "      <td>4220.0</td>\n",
       "    </tr>\n",
       "    <tr>\n",
       "      <th>3</th>\n",
       "      <td>MW</td>\n",
       "      <td>Apr 21, 2019</td>\n",
       "      <td>15.00</td>\n",
       "      <td>1.0</td>\n",
       "      <td>59626613925472</td>\n",
       "      <td>792.0</td>\n",
       "      <td>Female</td>\n",
       "      <td>Miami</td>\n",
       "      <td>SEASONAL LINES</td>\n",
       "      <td>True</td>\n",
       "      <td>4220.0</td>\n",
       "    </tr>\n",
       "    <tr>\n",
       "      <th>4</th>\n",
       "      <td>MW</td>\n",
       "      <td>Apr 21, 2019</td>\n",
       "      <td>3.00</td>\n",
       "      <td>1.0</td>\n",
       "      <td>59626613925472</td>\n",
       "      <td>792.0</td>\n",
       "      <td>Female</td>\n",
       "      <td>Miami</td>\n",
       "      <td>SNACKFOODS</td>\n",
       "      <td>True</td>\n",
       "      <td>4220.0</td>\n",
       "    </tr>\n",
       "    <tr>\n",
       "      <th>...</th>\n",
       "      <td>...</td>\n",
       "      <td>...</td>\n",
       "      <td>...</td>\n",
       "      <td>...</td>\n",
       "      <td>...</td>\n",
       "      <td>...</td>\n",
       "      <td>...</td>\n",
       "      <td>...</td>\n",
       "      <td>...</td>\n",
       "      <td>...</td>\n",
       "      <td>...</td>\n",
       "    </tr>\n",
       "    <tr>\n",
       "      <th>26898</th>\n",
       "      <td>MW</td>\n",
       "      <td>Jan 24, 2021</td>\n",
       "      <td>3.32</td>\n",
       "      <td>1.0</td>\n",
       "      <td>5420602479386</td>\n",
       "      <td>NaN</td>\n",
       "      <td>Unknown</td>\n",
       "      <td>NaN</td>\n",
       "      <td>SNACKFOODS</td>\n",
       "      <td>True</td>\n",
       "      <td>4218.0</td>\n",
       "    </tr>\n",
       "    <tr>\n",
       "      <th>26899</th>\n",
       "      <td>MW</td>\n",
       "      <td>Sep 15, 2019</td>\n",
       "      <td>3.00</td>\n",
       "      <td>1.0</td>\n",
       "      <td>2710202165626</td>\n",
       "      <td>NaN</td>\n",
       "      <td>Unknown</td>\n",
       "      <td>NaN</td>\n",
       "      <td>FRUIT &amp; VEG</td>\n",
       "      <td>False</td>\n",
       "      <td>NaN</td>\n",
       "    </tr>\n",
       "    <tr>\n",
       "      <th>26900</th>\n",
       "      <td>MW</td>\n",
       "      <td>Sep 15, 2019</td>\n",
       "      <td>4.59</td>\n",
       "      <td>1.0</td>\n",
       "      <td>2710202165626</td>\n",
       "      <td>NaN</td>\n",
       "      <td>Unknown</td>\n",
       "      <td>NaN</td>\n",
       "      <td>INSTORE BAKERY</td>\n",
       "      <td>False</td>\n",
       "      <td>NaN</td>\n",
       "    </tr>\n",
       "    <tr>\n",
       "      <th>26901</th>\n",
       "      <td>MW</td>\n",
       "      <td>Sep 15, 2019</td>\n",
       "      <td>4.50</td>\n",
       "      <td>1.0</td>\n",
       "      <td>2710202165626</td>\n",
       "      <td>NaN</td>\n",
       "      <td>Unknown</td>\n",
       "      <td>NaN</td>\n",
       "      <td>SNACKFOODS</td>\n",
       "      <td>False</td>\n",
       "      <td>NaN</td>\n",
       "    </tr>\n",
       "    <tr>\n",
       "      <th>26902</th>\n",
       "      <td>MW</td>\n",
       "      <td>Sep 15, 2019</td>\n",
       "      <td>2.25</td>\n",
       "      <td>1.0</td>\n",
       "      <td>2710202165626</td>\n",
       "      <td>NaN</td>\n",
       "      <td>Unknown</td>\n",
       "      <td>NaN</td>\n",
       "      <td>SOFT DRINKS</td>\n",
       "      <td>False</td>\n",
       "      <td>NaN</td>\n",
       "    </tr>\n",
       "  </tbody>\n",
       "</table>\n",
       "<p>26903 rows × 11 columns</p>\n",
       "</div>"
      ],
      "text/plain": [
       "      store   week_ending  sales  baskets        card_num    age   gender  \\\n",
       "0        MW  Apr 21, 2019   1.99      1.0  59626613925472  792.0   Female   \n",
       "1        MW  Apr 21, 2019   5.00      1.0  59626613925472  792.0   Female   \n",
       "2        MW  Apr 21, 2019   1.00      1.0  59626613925472  792.0   Female   \n",
       "3        MW  Apr 21, 2019  15.00      1.0  59626613925472  792.0   Female   \n",
       "4        MW  Apr 21, 2019   3.00      1.0  59626613925472  792.0   Female   \n",
       "...     ...           ...    ...      ...             ...    ...      ...   \n",
       "26898    MW  Jan 24, 2021   3.32      1.0   5420602479386    NaN  Unknown   \n",
       "26899    MW  Sep 15, 2019   3.00      1.0   2710202165626    NaN  Unknown   \n",
       "26900    MW  Sep 15, 2019   4.59      1.0   2710202165626    NaN  Unknown   \n",
       "26901    MW  Sep 15, 2019   4.50      1.0   2710202165626    NaN  Unknown   \n",
       "26902    MW  Sep 15, 2019   2.25      1.0   2710202165626    NaN  Unknown   \n",
       "\n",
       "        city      department  email_status  post_code  \n",
       "0      Miami           BREAD          True     4220.0  \n",
       "1      Miami   CONFECTIONERY          True     4220.0  \n",
       "2      Miami           DAIRY          True     4220.0  \n",
       "3      Miami  SEASONAL LINES          True     4220.0  \n",
       "4      Miami      SNACKFOODS          True     4220.0  \n",
       "...      ...             ...           ...        ...  \n",
       "26898    NaN      SNACKFOODS          True     4218.0  \n",
       "26899    NaN     FRUIT & VEG         False        NaN  \n",
       "26900    NaN  INSTORE BAKERY         False        NaN  \n",
       "26901    NaN      SNACKFOODS         False        NaN  \n",
       "26902    NaN     SOFT DRINKS         False        NaN  \n",
       "\n",
       "[26903 rows x 11 columns]"
      ]
     },
     "execution_count": 68,
     "metadata": {},
     "output_type": "execute_result"
    }
   ],
   "source": [
    "#.E.G. of the merged DF \n",
    "weekly_customer_fulldf"
   ]
  },
  {
   "cell_type": "code",
   "execution_count": 4,
   "id": "0116eb37",
   "metadata": {},
   "outputs": [],
   "source": [
    "## [OPTIONAL] pickle the DF:\n",
    "#weekly_customer_fulldf.to_pickle(\"./weekly_customer_fulldf.pkl\")\n",
    "#weekly_customer_fulldf = pd.read_pickle(\"./weekly_customer_fulldf.pkl\") "
   ]
  },
  {
   "cell_type": "code",
   "execution_count": null,
   "id": "f8b7b868",
   "metadata": {},
   "outputs": [],
   "source": []
  },
  {
   "cell_type": "code",
   "execution_count": null,
   "id": "b1d84e7a",
   "metadata": {},
   "outputs": [],
   "source": []
  },
  {
   "cell_type": "code",
   "execution_count": null,
   "id": "5c1bd8c6",
   "metadata": {},
   "outputs": [],
   "source": []
  },
  {
   "cell_type": "markdown",
   "id": "253f6685",
   "metadata": {},
   "source": [
    "<a id='ide'></a>\n",
    "\n",
    "## INITIAL DATA EXPLORATION"
   ]
  },
  {
   "cell_type": "code",
   "execution_count": 5,
   "id": "8e4a3bfa",
   "metadata": {},
   "outputs": [],
   "source": [
    "weekly_customer_fulldf = pd.read_pickle(\"./weekly_customer_fulldf.pkl\") "
   ]
  },
  {
   "cell_type": "code",
   "execution_count": 6,
   "id": "3f070e11",
   "metadata": {},
   "outputs": [
    {
     "data": {
      "text/html": [
       "<div>\n",
       "<style scoped>\n",
       "    .dataframe tbody tr th:only-of-type {\n",
       "        vertical-align: middle;\n",
       "    }\n",
       "\n",
       "    .dataframe tbody tr th {\n",
       "        vertical-align: top;\n",
       "    }\n",
       "\n",
       "    .dataframe thead th {\n",
       "        text-align: right;\n",
       "    }\n",
       "</style>\n",
       "<table border=\"1\" class=\"dataframe\">\n",
       "  <thead>\n",
       "    <tr style=\"text-align: right;\">\n",
       "      <th></th>\n",
       "      <th>store</th>\n",
       "      <th>week_ending</th>\n",
       "      <th>sales</th>\n",
       "      <th>baskets</th>\n",
       "      <th>card_num</th>\n",
       "      <th>age</th>\n",
       "      <th>gender</th>\n",
       "      <th>city</th>\n",
       "      <th>department</th>\n",
       "      <th>email_status</th>\n",
       "      <th>post_code</th>\n",
       "    </tr>\n",
       "  </thead>\n",
       "  <tbody>\n",
       "    <tr>\n",
       "      <th>0</th>\n",
       "      <td>MW</td>\n",
       "      <td>Apr 21, 2019</td>\n",
       "      <td>1.99</td>\n",
       "      <td>1.00</td>\n",
       "      <td>59626613925472</td>\n",
       "      <td>792.00</td>\n",
       "      <td>Female</td>\n",
       "      <td>Miami</td>\n",
       "      <td>BREAD</td>\n",
       "      <td>True</td>\n",
       "      <td>4,220.00</td>\n",
       "    </tr>\n",
       "    <tr>\n",
       "      <th>1</th>\n",
       "      <td>MW</td>\n",
       "      <td>Apr 21, 2019</td>\n",
       "      <td>5.00</td>\n",
       "      <td>1.00</td>\n",
       "      <td>59626613925472</td>\n",
       "      <td>792.00</td>\n",
       "      <td>Female</td>\n",
       "      <td>Miami</td>\n",
       "      <td>CONFECTIONERY</td>\n",
       "      <td>True</td>\n",
       "      <td>4,220.00</td>\n",
       "    </tr>\n",
       "    <tr>\n",
       "      <th>2</th>\n",
       "      <td>MW</td>\n",
       "      <td>Apr 21, 2019</td>\n",
       "      <td>1.00</td>\n",
       "      <td>1.00</td>\n",
       "      <td>59626613925472</td>\n",
       "      <td>792.00</td>\n",
       "      <td>Female</td>\n",
       "      <td>Miami</td>\n",
       "      <td>DAIRY</td>\n",
       "      <td>True</td>\n",
       "      <td>4,220.00</td>\n",
       "    </tr>\n",
       "    <tr>\n",
       "      <th>3</th>\n",
       "      <td>MW</td>\n",
       "      <td>Apr 21, 2019</td>\n",
       "      <td>15.00</td>\n",
       "      <td>1.00</td>\n",
       "      <td>59626613925472</td>\n",
       "      <td>792.00</td>\n",
       "      <td>Female</td>\n",
       "      <td>Miami</td>\n",
       "      <td>SEASONAL LINES</td>\n",
       "      <td>True</td>\n",
       "      <td>4,220.00</td>\n",
       "    </tr>\n",
       "    <tr>\n",
       "      <th>4</th>\n",
       "      <td>MW</td>\n",
       "      <td>Apr 21, 2019</td>\n",
       "      <td>3.00</td>\n",
       "      <td>1.00</td>\n",
       "      <td>59626613925472</td>\n",
       "      <td>792.00</td>\n",
       "      <td>Female</td>\n",
       "      <td>Miami</td>\n",
       "      <td>SNACKFOODS</td>\n",
       "      <td>True</td>\n",
       "      <td>4,220.00</td>\n",
       "    </tr>\n",
       "  </tbody>\n",
       "</table>\n",
       "</div>"
      ],
      "text/plain": [
       "  store   week_ending  sales  baskets        card_num    age  gender   city  \\\n",
       "0    MW  Apr 21, 2019   1.99     1.00  59626613925472 792.00  Female  Miami   \n",
       "1    MW  Apr 21, 2019   5.00     1.00  59626613925472 792.00  Female  Miami   \n",
       "2    MW  Apr 21, 2019   1.00     1.00  59626613925472 792.00  Female  Miami   \n",
       "3    MW  Apr 21, 2019  15.00     1.00  59626613925472 792.00  Female  Miami   \n",
       "4    MW  Apr 21, 2019   3.00     1.00  59626613925472 792.00  Female  Miami   \n",
       "\n",
       "       department  email_status  post_code  \n",
       "0           BREAD          True   4,220.00  \n",
       "1   CONFECTIONERY          True   4,220.00  \n",
       "2           DAIRY          True   4,220.00  \n",
       "3  SEASONAL LINES          True   4,220.00  \n",
       "4      SNACKFOODS          True   4,220.00  "
      ]
     },
     "execution_count": 6,
     "metadata": {},
     "output_type": "execute_result"
    }
   ],
   "source": [
    "#E.G. of data input for the visuals and tables\n",
    "weekly_customer_fulldf.head()"
   ]
  },
  {
   "cell_type": "code",
   "execution_count": null,
   "id": "14dcdce6",
   "metadata": {},
   "outputs": [],
   "source": []
  },
  {
   "cell_type": "markdown",
   "id": "c3127c58",
   "metadata": {},
   "source": [
    "### BRIEF INTRODUCTION TO DEPARTMENT SALES DYNAMICS \n",
    "* Unsurprisingly, Tobacco has the highest average transaction value; although, this will likely not translate into significance in our classification model as tobacco does not count towards accumulating loyalty points. \n",
    "    * The same logic holds true for EPAY/PHONECARDS and LOTTO/SCRATCHIT\n",
    "    \n",
    "* Thus, the highest average value transaction for an actual department category is meat, followed by prized-poultry (cooked, ready-to-eat, BBQ meat out of the deli-case); these items generally have a fixed cost of 10 dollars so the average is also unsurprisingly around that amount. \n",
    "\n",
    "* We also observe fairly similar average spend amounts around other categories, like: fruit & veg, grocery, deli, dairy etc. We expect at least some of these items to be significant in the classification models "
   ]
  },
  {
   "cell_type": "code",
   "execution_count": 18,
   "id": "5b8847e2",
   "metadata": {},
   "outputs": [
    {
     "data": {
      "image/png": "[encoded data removed]",
      "text/plain": [
       "<Figure size 576x396 with 1 Axes>"
      ]
     },
     "metadata": {},
     "output_type": "display_data"
    }
   ],
   "source": [
    "sns.barplot(data=weekly_customer_fulldf, y='department', x='sales')\n",
    "plt.title('Department Average Transaction Value For All Customers Over Sample Period');\n",
    "# note: fuel_discount (will be dropped eventually) is negative because it is an actual discount on check-out value"
   ]
  },
  {
   "cell_type": "markdown",
   "id": "f72fa7b9",
   "metadata": {},
   "source": [
    "### DEPARTMENT TOTAL TRANSACTION SIZES\n",
    "* In terms of total number of transactions involving these departments, there seems to be a reasonable representation for all departments with the exception of: deli-retail and seasonal lines\n",
    "    * seasonal lines is somewhat expected given these items are only available at limited times of the year, however, they may play an important role in the cusotmer email-opt in preferences if people deem these limited-availability items of high demand, thus I will leave it in the model. \n",
    "    * deli-retail is an odd one, it actually represents a few specific deli lines, measured on how the items are sold (E.G. most are sold by weight, hence deli-items, but some are by fixed bundle sizes or units- these are deli-retail). More or less, the type of item is identical to what is found by deli-items, thus the two categories could be combined or deli-retail simply dropped due to it being almost a negligible quantity. "
   ]
  },
  {
   "cell_type": "code",
   "execution_count": 22,
   "id": "dd3306fb",
   "metadata": {},
   "outputs": [
    {
     "data": {
      "image/png": "[encoded data removed]",
      "text/plain": [
       "<Figure size 576x396 with 1 Axes>"
      ]
     },
     "metadata": {},
     "output_type": "display_data"
    }
   ],
   "source": [
    "sns.barplot(data=weekly_customer_fulldf, y='department', x='sales', estimator=len)\n",
    "plt.title('Department Total Transaction Counts For All Customers Over Sample Period');"
   ]
  },
  {
   "cell_type": "code",
   "execution_count": null,
   "id": "1154d17c",
   "metadata": {},
   "outputs": [],
   "source": []
  },
  {
   "cell_type": "code",
   "execution_count": null,
   "id": "64c84b6e",
   "metadata": {},
   "outputs": [],
   "source": []
  },
  {
   "cell_type": "markdown",
   "id": "63ae0a43",
   "metadata": {},
   "source": [
    "\n",
    "## CUSTOMER AGE\n",
    "* This variable is partially \"corrupted\" - the values represent a scale; that is, smaller values = younger and larger values = older, thus it is not entirely useless. Although, I do not have access to the scale parameter to convert these values into real values that represent biological ages\n",
    "* At any rate, it can be observed that the bulk of the transactions (customers) are being made by people on the younger side of the scale\n",
    "    * This is potentially representative of the fact that younger people are more likely to adopt \"modern\" technology and be invested in customer loyalty / email marketing programs vs. their older counterparts etc.\n",
    "    \n",
    "    \n",
    "#### Important to note: age data is only available for 1/3 of the data set, meaning it cannot reliably make conclusions about the entire data set and we cannot apply CLT without first making an assumption about the distribution of the data"
   ]
  },
  {
   "cell_type": "code",
   "execution_count": 30,
   "id": "4b8bd01d",
   "metadata": {},
   "outputs": [
    {
     "data": {
      "image/png": "[encoded data removed]",
      "text/plain": [
       "<Figure size 576x396 with 1 Axes>"
      ]
     },
     "metadata": {},
     "output_type": "display_data"
    }
   ],
   "source": [
    "# definitely a skew towards the lower end of the age tier \n",
    "# this will be resolved if the variable is used in the final model by standardisation\n",
    "plt.hist(weekly_customer_fulldf.groupby(['card_num'])['age'].last())\n",
    "plt.title('Registered Age of Customer Associated with their Last Known Transaction');"
   ]
  },
  {
   "cell_type": "code",
   "execution_count": null,
   "id": "d0ce6770",
   "metadata": {},
   "outputs": [],
   "source": []
  },
  {
   "cell_type": "markdown",
   "id": "c9cfb209",
   "metadata": {},
   "source": [
    "### BREAKDOWN OF AVERAGE SALES BY AGE SCALE"
   ]
  },
  {
   "cell_type": "markdown",
   "id": "71d9f8b3",
   "metadata": {},
   "source": [
    "* NOTE: Age is scaled and does not represent true values for privacy reasons when releasing the data "
   ]
  },
  {
   "cell_type": "code",
   "execution_count": 16,
   "id": "fa5935e1",
   "metadata": {},
   "outputs": [
    {
     "data": {
      "text/html": [
       "<div>\n",
       "<style scoped>\n",
       "    .dataframe tbody tr th:only-of-type {\n",
       "        vertical-align: middle;\n",
       "    }\n",
       "\n",
       "    .dataframe tbody tr th {\n",
       "        vertical-align: top;\n",
       "    }\n",
       "\n",
       "    .dataframe thead tr th {\n",
       "        text-align: left;\n",
       "    }\n",
       "\n",
       "    .dataframe thead tr:last-of-type th {\n",
       "        text-align: right;\n",
       "    }\n",
       "</style>\n",
       "<table border=\"1\" class=\"dataframe\">\n",
       "  <thead>\n",
       "    <tr>\n",
       "      <th></th>\n",
       "      <th colspan=\"5\" halign=\"left\">sales</th>\n",
       "    </tr>\n",
       "    <tr>\n",
       "      <th>age</th>\n",
       "      <th>(-5.238, 5067.6]</th>\n",
       "      <th>(5067.6, 10115.2]</th>\n",
       "      <th>(10115.2, 15162.8]</th>\n",
       "      <th>(15162.8, 20210.4]</th>\n",
       "      <th>(20210.4, 25258.0]</th>\n",
       "    </tr>\n",
       "    <tr>\n",
       "      <th>email_status</th>\n",
       "      <th></th>\n",
       "      <th></th>\n",
       "      <th></th>\n",
       "      <th></th>\n",
       "      <th></th>\n",
       "    </tr>\n",
       "  </thead>\n",
       "  <tbody>\n",
       "    <tr>\n",
       "      <th>False</th>\n",
       "      <td>7.22</td>\n",
       "      <td>11.23</td>\n",
       "      <td>7.20</td>\n",
       "      <td>6.79</td>\n",
       "      <td>NaN</td>\n",
       "    </tr>\n",
       "    <tr>\n",
       "      <th>True</th>\n",
       "      <td>7.85</td>\n",
       "      <td>11.08</td>\n",
       "      <td>17.97</td>\n",
       "      <td>NaN</td>\n",
       "      <td>11.19</td>\n",
       "    </tr>\n",
       "  </tbody>\n",
       "</table>\n",
       "</div>"
      ],
      "text/plain": [
       "                        sales                                       \\\n",
       "age          (-5.238, 5067.6] (5067.6, 10115.2] (10115.2, 15162.8]   \n",
       "email_status                                                         \n",
       "False                    7.22             11.23               7.20   \n",
       "True                     7.85             11.08              17.97   \n",
       "\n",
       "                                                    \n",
       "age          (15162.8, 20210.4] (20210.4, 25258.0]  \n",
       "email_status                                        \n",
       "False                      6.79                NaN  \n",
       "True                        NaN              11.19  "
      ]
     },
     "execution_count": 16,
     "metadata": {},
     "output_type": "execute_result"
    }
   ],
   "source": [
    "# show average sales by age bin (1/5) increments and by email_status\n",
    "pd.pivot_table(weekly_customer_fulldf, index='email_status', columns = pd.cut(weekly_customer_fulldf['age'], bins=5),\n",
    "              values=['sales'], aggfunc='mean')"
   ]
  },
  {
   "cell_type": "code",
   "execution_count": 19,
   "id": "c1839d2a",
   "metadata": {},
   "outputs": [
    {
     "data": {
      "text/html": [
       "<div>\n",
       "<style scoped>\n",
       "    .dataframe tbody tr th:only-of-type {\n",
       "        vertical-align: middle;\n",
       "    }\n",
       "\n",
       "    .dataframe tbody tr th {\n",
       "        vertical-align: top;\n",
       "    }\n",
       "\n",
       "    .dataframe thead tr th {\n",
       "        text-align: left;\n",
       "    }\n",
       "\n",
       "    .dataframe thead tr:last-of-type th {\n",
       "        text-align: right;\n",
       "    }\n",
       "</style>\n",
       "<table border=\"1\" class=\"dataframe\">\n",
       "  <thead>\n",
       "    <tr>\n",
       "      <th></th>\n",
       "      <th colspan=\"5\" halign=\"left\">sales</th>\n",
       "    </tr>\n",
       "    <tr>\n",
       "      <th>age</th>\n",
       "      <th>(-5.238, 5067.6]</th>\n",
       "      <th>(5067.6, 10115.2]</th>\n",
       "      <th>(10115.2, 15162.8]</th>\n",
       "      <th>(15162.8, 20210.4]</th>\n",
       "      <th>(20210.4, 25258.0]</th>\n",
       "    </tr>\n",
       "    <tr>\n",
       "      <th>email_status</th>\n",
       "      <th></th>\n",
       "      <th></th>\n",
       "      <th></th>\n",
       "      <th></th>\n",
       "      <th></th>\n",
       "    </tr>\n",
       "  </thead>\n",
       "  <tbody>\n",
       "    <tr>\n",
       "      <th>False</th>\n",
       "      <td>2271</td>\n",
       "      <td>1352</td>\n",
       "      <td>309</td>\n",
       "      <td>248</td>\n",
       "      <td>0</td>\n",
       "    </tr>\n",
       "    <tr>\n",
       "      <th>True</th>\n",
       "      <td>5598</td>\n",
       "      <td>2795</td>\n",
       "      <td>1039</td>\n",
       "      <td>0</td>\n",
       "      <td>257</td>\n",
       "    </tr>\n",
       "  </tbody>\n",
       "</table>\n",
       "</div>"
      ],
      "text/plain": [
       "                        sales                                       \\\n",
       "age          (-5.238, 5067.6] (5067.6, 10115.2] (10115.2, 15162.8]   \n",
       "email_status                                                         \n",
       "False                    2271              1352                309   \n",
       "True                     5598              2795               1039   \n",
       "\n",
       "                                                    \n",
       "age          (15162.8, 20210.4] (20210.4, 25258.0]  \n",
       "email_status                                        \n",
       "False                       248                  0  \n",
       "True                          0                257  "
      ]
     },
     "execution_count": 19,
     "metadata": {},
     "output_type": "execute_result"
    }
   ],
   "source": [
    "# number of transactions in each age bin\n",
    "pd.pivot_table(weekly_customer_fulldf, index='email_status', columns = pd.cut(weekly_customer_fulldf['age'], bins=5),\n",
    "              values=['sales'], aggfunc='count')"
   ]
  },
  {
   "cell_type": "markdown",
   "id": "b83ff70c",
   "metadata": {},
   "source": [
    "* Judging from the middle age cut (3/5) which by counts is actually refering to the roughly the oldest 10% of the customer base, the average spend is indeed significantly higher among email opt-ins vs. email opt-outs (17.97 Vs. 7.20) and across the last two bins (11.19 vs 6.79)\n",
    "    * This would suggest the older customer who chooses to opt into emails is also correlated with a higher spend; the direction of the causality (emails = more sales, or more sales already = opt into emails) cannot yet be infered."
   ]
  },
  {
   "cell_type": "code",
   "execution_count": null,
   "id": "0eec33ad",
   "metadata": {},
   "outputs": [],
   "source": []
  },
  {
   "cell_type": "code",
   "execution_count": null,
   "id": "09b9c40c",
   "metadata": {},
   "outputs": [],
   "source": []
  },
  {
   "cell_type": "markdown",
   "id": "c4c13490",
   "metadata": {},
   "source": [
    "## CUSTOMER GENDER\n",
    "* Gender is known for roughly 80% of the transactions in the data-set\n",
    "* Later, in feature engineering, a separate technique to handle the unknown genders will be introduced"
   ]
  },
  {
   "cell_type": "code",
   "execution_count": 31,
   "id": "69dd4b01",
   "metadata": {},
   "outputs": [
    {
     "data": {
      "image/png": "[encoded data removed]",
      "text/plain": [
       "<Figure size 576x396 with 1 Axes>"
      ]
     },
     "metadata": {},
     "output_type": "display_data"
    }
   ],
   "source": [
    "sns.barplot(weekly_customer_fulldf['gender'].value_counts().index,\n",
    "           weekly_customer_fulldf['gender'].value_counts()).set_title(\"Total Transactions by Gender\")\n",
    "plt.show();"
   ]
  },
  {
   "cell_type": "code",
   "execution_count": null,
   "id": "5948e87b",
   "metadata": {},
   "outputs": [],
   "source": []
  },
  {
   "cell_type": "code",
   "execution_count": null,
   "id": "ebe3633d",
   "metadata": {},
   "outputs": [],
   "source": []
  },
  {
   "cell_type": "markdown",
   "id": "a3e6c1f6",
   "metadata": {},
   "source": [
    "## CUSTOMER DYNAMICS BY EMAIL STATUS\n",
    "* The majority of transactions are made by people who have opted into emails; but there remains a significant portion of transactions by people with loyalty cards who have chosen not to. Thus, the interesting problem emerges of what underlying phenomena is there to explain this divide? "
   ]
  },
  {
   "cell_type": "code",
   "execution_count": 27,
   "id": "e8302713",
   "metadata": {},
   "outputs": [
    {
     "data": {
      "image/png": "[encoded data removed]",
      "text/plain": [
       "<Figure size 576x396 with 1 Axes>"
      ]
     },
     "metadata": {},
     "output_type": "display_data"
    }
   ],
   "source": [
    "sns.barplot(weekly_customer_fulldf['email_status'].value_counts().index,\n",
    "           weekly_customer_fulldf['email_status'].value_counts()).set_title(\"Total Transactions by Email Status\")\n",
    "plt.show()"
   ]
  },
  {
   "cell_type": "code",
   "execution_count": null,
   "id": "ac58be82",
   "metadata": {},
   "outputs": [],
   "source": []
  },
  {
   "cell_type": "markdown",
   "id": "166d1f48",
   "metadata": {},
   "source": [
    "* The importance of converting people is demonstrated by the average sales value of customers who opt into email marketing being higher than those who don't; thus, it should be determined which factors can help convert these customers"
   ]
  },
  {
   "cell_type": "code",
   "execution_count": 50,
   "id": "3d5173aa",
   "metadata": {},
   "outputs": [
    {
     "data": {
      "text/html": [
       "<div>\n",
       "<style scoped>\n",
       "    .dataframe tbody tr th:only-of-type {\n",
       "        vertical-align: middle;\n",
       "    }\n",
       "\n",
       "    .dataframe tbody tr th {\n",
       "        vertical-align: top;\n",
       "    }\n",
       "\n",
       "    .dataframe thead th {\n",
       "        text-align: right;\n",
       "    }\n",
       "</style>\n",
       "<table border=\"1\" class=\"dataframe\">\n",
       "  <thead>\n",
       "    <tr style=\"text-align: right;\">\n",
       "      <th></th>\n",
       "      <th>sales</th>\n",
       "    </tr>\n",
       "    <tr>\n",
       "      <th>email_status</th>\n",
       "      <th></th>\n",
       "    </tr>\n",
       "  </thead>\n",
       "  <tbody>\n",
       "    <tr>\n",
       "      <th>False</th>\n",
       "      <td>8.70</td>\n",
       "    </tr>\n",
       "    <tr>\n",
       "      <th>True</th>\n",
       "      <td>10.04</td>\n",
       "    </tr>\n",
       "  </tbody>\n",
       "</table>\n",
       "</div>"
      ],
      "text/plain": [
       "              sales\n",
       "email_status       \n",
       "False          8.70\n",
       "True          10.04"
      ]
     },
     "execution_count": 50,
     "metadata": {},
     "output_type": "execute_result"
    }
   ],
   "source": [
    "pd.pivot_table(weekly_customer_fulldf, index='email_status',\n",
    "              values=['sales'], aggfunc='mean')"
   ]
  },
  {
   "cell_type": "code",
   "execution_count": null,
   "id": "37ca45ae",
   "metadata": {},
   "outputs": [],
   "source": []
  },
  {
   "cell_type": "markdown",
   "id": "c4b44ef3",
   "metadata": {},
   "source": [
    "#### Further breaking down the average spend by email status with gender\n",
    "* We see a great deal of the gains in average spend stem from converting males to opting into email"
   ]
  },
  {
   "cell_type": "code",
   "execution_count": 51,
   "id": "7393e1d3",
   "metadata": {},
   "outputs": [
    {
     "name": "stdout",
     "output_type": "stream",
     "text": [
      "Sales & Baskets Daily Transaction Counts By Gender & Email Status \n",
      " --------------------------------------------------\n"
     ]
    },
    {
     "data": {
      "text/html": [
       "<div>\n",
       "<style scoped>\n",
       "    .dataframe tbody tr th:only-of-type {\n",
       "        vertical-align: middle;\n",
       "    }\n",
       "\n",
       "    .dataframe tbody tr th {\n",
       "        vertical-align: top;\n",
       "    }\n",
       "\n",
       "    .dataframe thead tr th {\n",
       "        text-align: left;\n",
       "    }\n",
       "\n",
       "    .dataframe thead tr:last-of-type th {\n",
       "        text-align: right;\n",
       "    }\n",
       "</style>\n",
       "<table border=\"1\" class=\"dataframe\">\n",
       "  <thead>\n",
       "    <tr>\n",
       "      <th></th>\n",
       "      <th colspan=\"3\" halign=\"left\">sales</th>\n",
       "    </tr>\n",
       "    <tr>\n",
       "      <th>gender</th>\n",
       "      <th>Female</th>\n",
       "      <th>Male</th>\n",
       "      <th>Unknown</th>\n",
       "    </tr>\n",
       "    <tr>\n",
       "      <th>email_status</th>\n",
       "      <th></th>\n",
       "      <th></th>\n",
       "      <th></th>\n",
       "    </tr>\n",
       "  </thead>\n",
       "  <tbody>\n",
       "    <tr>\n",
       "      <th>False</th>\n",
       "      <td>9.60</td>\n",
       "      <td>6.62</td>\n",
       "      <td>9.10</td>\n",
       "    </tr>\n",
       "    <tr>\n",
       "      <th>True</th>\n",
       "      <td>9.53</td>\n",
       "      <td>10.42</td>\n",
       "      <td>10.37</td>\n",
       "    </tr>\n",
       "  </tbody>\n",
       "</table>\n",
       "</div>"
      ],
      "text/plain": [
       "              sales              \n",
       "gender       Female  Male Unknown\n",
       "email_status                     \n",
       "False          9.60  6.62    9.10\n",
       "True           9.53 10.42   10.37"
      ]
     },
     "execution_count": 51,
     "metadata": {},
     "output_type": "execute_result"
    }
   ],
   "source": [
    "print(\"Sales & Baskets Daily Transaction Counts By Gender & Email Status\", '\\n', \"--\"*25)\n",
    "\n",
    "pd.pivot_table(weekly_customer_fulldf, index='email_status', columns='gender',\n",
    "              values=['sales'], aggfunc='mean')\n"
   ]
  },
  {
   "cell_type": "code",
   "execution_count": null,
   "id": "f3376ab9",
   "metadata": {},
   "outputs": [],
   "source": []
  },
  {
   "cell_type": "code",
   "execution_count": null,
   "id": "a137de4c",
   "metadata": {},
   "outputs": [],
   "source": []
  },
  {
   "cell_type": "markdown",
   "id": "07238230",
   "metadata": {},
   "source": [
    "## Department Sales Dynamics By Email Status\n",
    "* The results are somewhat conflicting; the 3 main stay departments (tobacco, lotto, phonecards) have significantly higher average spends than their non-email counterparts; this might suggest that these items are staple/repeat purchases to customers who have already delegated the store as their chosen frequent store.\n",
    "* There are some modest gains in impulse categories (snackfoods, softdrinks) etc.\n",
    "    * although, these are generally balanced out by modest loses in other departments; resulting in a fairly neutral net outcome\n",
    "    \n",
    "    \n",
    "### NOTE: median was also performed and found virtually identical results; suggesting that the department sales distributions are not heavily skewed \n",
    "\n",
    "* Additionally, is it imperative to note that this data represents loyalty members (opt-in) vs loyalty members (email opt-out); a comparison between loyalty members in general vs. non-loyalty members average department spends would likely be more in line with expectations that loyalty members spend more than non-members. "
   ]
  },
  {
   "cell_type": "code",
   "execution_count": 76,
   "id": "87d196a5",
   "metadata": {},
   "outputs": [
    {
     "data": {
      "image/png": "[encoded data removed]",
      "text/plain": [
       "<Figure size 1008x576 with 1 Axes>"
      ]
     },
     "metadata": {},
     "output_type": "display_data"
    }
   ],
   "source": [
    "sns.set(rc={'figure.figsize':(14,8)})\n",
    "sns.barplot(x='department', y='sales', hue='email_status', data=weekly_customer_fulldf, estimator=np.mean)\n",
    "plt.xticks(rotation=70)\n",
    "plt.title('Department Sales Mean By Customer Email Status');"
   ]
  },
  {
   "cell_type": "code",
   "execution_count": null,
   "id": "21ffac4b",
   "metadata": {},
   "outputs": [],
   "source": []
  },
  {
   "cell_type": "code",
   "execution_count": null,
   "id": "a13a7ddf",
   "metadata": {},
   "outputs": [],
   "source": []
  },
  {
   "cell_type": "markdown",
   "id": "b068b028",
   "metadata": {},
   "source": [
    "## VISUALISE THE DISTRIBUTION OF INDIVIDUAL CUSTOMER'S (FIRST) TRANSACTION OVER TIME BY EMAIL STATUS\n",
    "\n",
    "* The distribution of customer first recorded loyalty transaction over the sample horizon, the data shows there are still a great deal of new customers entering the system, most of whom have opted into emails but some of whom still have chosen not to\n",
    "    * One interesting observation is the tendency for new transactions (akin to new sign-ups) clustering around December, particularly so in 2020 and 2021, meaning the holiday (summer) season is more attractive to signing up new customers\n",
    "    * Furthermore, quite a few customers have rather large first spend amounts, although the majority of customer's first transaction value is roughly 0-10 dollars; likely indicating they used it as a top-up or convenience shop"
   ]
  },
  {
   "cell_type": "code",
   "execution_count": 80,
   "id": "f4f61273",
   "metadata": {},
   "outputs": [],
   "source": [
    "# convert the DF time variable to datetime for the index of the graph\n",
    "weekly_customer_fulldf['week_ending'] = pd.to_datetime(weekly_customer_fulldf['week_ending'])"
   ]
  },
  {
   "cell_type": "code",
   "execution_count": 84,
   "id": "aaa0f04d",
   "metadata": {},
   "outputs": [
    {
     "data": {
      "image/png": "[encoded data removed]",
      "text/plain": [
       "<Figure size 1008x576 with 1 Axes>"
      ]
     },
     "metadata": {},
     "output_type": "display_data"
    }
   ],
   "source": [
    "sns.set(rc={'figure.figsize':(14,8)})\n",
    "sns.scatterplot( data=weekly_customer_fulldf.groupby('card_num').first(),\n",
    "                y='sales', x='week_ending', hue='email_status')\n",
    "plt.title('Distribution of first transaction by customer & email status over sample horizon');"
   ]
  },
  {
   "cell_type": "code",
   "execution_count": null,
   "id": "e9aed2c0",
   "metadata": {},
   "outputs": [],
   "source": []
  },
  {
   "cell_type": "markdown",
   "id": "8efb7ac0",
   "metadata": {},
   "source": [
    "### VISUALISE THE DISTRIBUTION OF INDIVIDUAL CUSTOMER'S (LAST) TRANSACTION OVER TIME BY EMAIL STATUS\n",
    "* Interesting, a lot of customers with email_status set to false made their last transactions around the same christmas time; this perhaps suggests they signed up for the holiday season and perhaps some factors contributed towards their decision not to return, or that their shopping needs/habits changed drastically after the holidays. \n",
    "\n",
    "* Interestingly, most customer's last transaction amount is less clustered around zero than their first transaction but there are far less extreme positive outliers here than in the first transaction group. (E.G. max transaction value here is ~ 65 dollars Vs. quite a few spends over 80 dollars for first transactions)"
   ]
  },
  {
   "cell_type": "code",
   "execution_count": 83,
   "id": "3e1aede3",
   "metadata": {},
   "outputs": [
    {
     "data": {
      "image/png": "[encoded data removed]",
      "text/plain": [
       "<Figure size 1008x576 with 1 Axes>"
      ]
     },
     "metadata": {},
     "output_type": "display_data"
    }
   ],
   "source": [
    "#sns.set(rc={'figure.figsize':(14,8)})\n",
    "sns.scatterplot( data=weekly_customer_fulldf.groupby('card_num').last(),\n",
    "                y='sales', x='week_ending', hue='email_status')\n",
    "plt.title('Distribution of last transaction by customer & email status over sample horizon');"
   ]
  },
  {
   "cell_type": "code",
   "execution_count": null,
   "id": "7495407d",
   "metadata": {},
   "outputs": [],
   "source": []
  },
  {
   "cell_type": "code",
   "execution_count": null,
   "id": "c2ee9ad0",
   "metadata": {},
   "outputs": [],
   "source": []
  },
  {
   "cell_type": "code",
   "execution_count": null,
   "id": "2014222a",
   "metadata": {},
   "outputs": [],
   "source": []
  },
  {
   "cell_type": "markdown",
   "id": "2832bb38",
   "metadata": {},
   "source": [
    "<a id='data_pre'></a>\n",
    "\n",
    "## DATA PREPROCESSING\n",
    "* Dummy Variable Creation For Departments"
   ]
  },
  {
   "cell_type": "code",
   "execution_count": 28,
   "id": "d1259bd8",
   "metadata": {},
   "outputs": [],
   "source": [
    "## DF with department category aggregated (No Hot Encoding / Dummies)\n",
    "## OPTIONAL: load pickle from previous step\n",
    "weekly_customer_fulldf = pd.read_pickle(\"./weekly_customer_fulldf.pkl\") "
   ]
  },
  {
   "cell_type": "code",
   "execution_count": 29,
   "id": "425c823a",
   "metadata": {},
   "outputs": [],
   "source": [
    "# create department-labeled dummy variables for each department\n",
    "dep_dummies = pd.get_dummies(weekly_customer_fulldf.department)"
   ]
  },
  {
   "cell_type": "code",
   "execution_count": 31,
   "id": "7b960a55",
   "metadata": {},
   "outputs": [],
   "source": [
    "# there are a few specialised categories with their own labels \n",
    "# E.G. tobacco, health and beauty goods, lotto, magazines: simply re-name them for convenience\n",
    "dep_dummies.rename(columns={'CIGS & TOBACCO':'TOBACCO',\n",
    "                                         'HEALTH & BEAUTY':'H_AND_B',\n",
    "                                         'LOTTO/SCRATCHIT':'LOTTO',\n",
    "                           'NEWSPAPER/MAGS':'MAGAZINES'}, inplace=True)"
   ]
  },
  {
   "cell_type": "code",
   "execution_count": 33,
   "id": "7604ea77",
   "metadata": {},
   "outputs": [],
   "source": [
    "# merge onto the main DF with the data\n",
    "weekly_customer_dep_dummies = pd.concat([weekly_customer_fulldf, \n",
    "                                        dep_dummies], axis=1)"
   ]
  },
  {
   "cell_type": "code",
   "execution_count": 34,
   "id": "bd425dd5",
   "metadata": {},
   "outputs": [
    {
     "data": {
      "text/html": [
       "<div>\n",
       "<style scoped>\n",
       "    .dataframe tbody tr th:only-of-type {\n",
       "        vertical-align: middle;\n",
       "    }\n",
       "\n",
       "    .dataframe tbody tr th {\n",
       "        vertical-align: top;\n",
       "    }\n",
       "\n",
       "    .dataframe thead th {\n",
       "        text-align: right;\n",
       "    }\n",
       "</style>\n",
       "<table border=\"1\" class=\"dataframe\">\n",
       "  <thead>\n",
       "    <tr style=\"text-align: right;\">\n",
       "      <th></th>\n",
       "      <th>store</th>\n",
       "      <th>week_ending</th>\n",
       "      <th>sales</th>\n",
       "      <th>baskets</th>\n",
       "      <th>card_num</th>\n",
       "      <th>age</th>\n",
       "      <th>gender</th>\n",
       "      <th>city</th>\n",
       "      <th>department</th>\n",
       "      <th>email_status</th>\n",
       "      <th>post_code</th>\n",
       "      <th>BREAD</th>\n",
       "      <th>TOBACCO</th>\n",
       "      <th>CONFECTIONERY</th>\n",
       "      <th>DAIRY</th>\n",
       "      <th>DELI-ITEMS</th>\n",
       "      <th>DELI-RETAIL</th>\n",
       "      <th>EPAY/PHONECARD</th>\n",
       "      <th>FROZEN</th>\n",
       "      <th>FRUIT &amp; VEG</th>\n",
       "      <th>FUEL DISCOUNT</th>\n",
       "      <th>GENERAL MERCH</th>\n",
       "      <th>GROCERY</th>\n",
       "      <th>H_AND_B</th>\n",
       "      <th>INSTORE BAKERY</th>\n",
       "      <th>LAUNDRY NEEDS</th>\n",
       "      <th>LENARDS</th>\n",
       "      <th>LOTTO</th>\n",
       "      <th>MEAT</th>\n",
       "      <th>MILK - FRESH</th>\n",
       "      <th>MAGAZINES</th>\n",
       "      <th>PET FOOD &amp; ACC</th>\n",
       "      <th>PRIZE POULTRY</th>\n",
       "      <th>SEASONAL LINES</th>\n",
       "      <th>SNACKFOODS</th>\n",
       "      <th>SOFT DRINKS</th>\n",
       "    </tr>\n",
       "  </thead>\n",
       "  <tbody>\n",
       "    <tr>\n",
       "      <th>0</th>\n",
       "      <td>MW</td>\n",
       "      <td>Apr 21, 2019</td>\n",
       "      <td>1.99</td>\n",
       "      <td>1.00</td>\n",
       "      <td>59626613925472</td>\n",
       "      <td>792.00</td>\n",
       "      <td>Female</td>\n",
       "      <td>Miami</td>\n",
       "      <td>BREAD</td>\n",
       "      <td>True</td>\n",
       "      <td>4,220.00</td>\n",
       "      <td>1</td>\n",
       "      <td>0</td>\n",
       "      <td>0</td>\n",
       "      <td>0</td>\n",
       "      <td>0</td>\n",
       "      <td>0</td>\n",
       "      <td>0</td>\n",
       "      <td>0</td>\n",
       "      <td>0</td>\n",
       "      <td>0</td>\n",
       "      <td>0</td>\n",
       "      <td>0</td>\n",
       "      <td>0</td>\n",
       "      <td>0</td>\n",
       "      <td>0</td>\n",
       "      <td>0</td>\n",
       "      <td>0</td>\n",
       "      <td>0</td>\n",
       "      <td>0</td>\n",
       "      <td>0</td>\n",
       "      <td>0</td>\n",
       "      <td>0</td>\n",
       "      <td>0</td>\n",
       "      <td>0</td>\n",
       "      <td>0</td>\n",
       "    </tr>\n",
       "    <tr>\n",
       "      <th>1</th>\n",
       "      <td>MW</td>\n",
       "      <td>Apr 21, 2019</td>\n",
       "      <td>5.00</td>\n",
       "      <td>1.00</td>\n",
       "      <td>59626613925472</td>\n",
       "      <td>792.00</td>\n",
       "      <td>Female</td>\n",
       "      <td>Miami</td>\n",
       "      <td>CONFECTIONERY</td>\n",
       "      <td>True</td>\n",
       "      <td>4,220.00</td>\n",
       "      <td>0</td>\n",
       "      <td>0</td>\n",
       "      <td>1</td>\n",
       "      <td>0</td>\n",
       "      <td>0</td>\n",
       "      <td>0</td>\n",
       "      <td>0</td>\n",
       "      <td>0</td>\n",
       "      <td>0</td>\n",
       "      <td>0</td>\n",
       "      <td>0</td>\n",
       "      <td>0</td>\n",
       "      <td>0</td>\n",
       "      <td>0</td>\n",
       "      <td>0</td>\n",
       "      <td>0</td>\n",
       "      <td>0</td>\n",
       "      <td>0</td>\n",
       "      <td>0</td>\n",
       "      <td>0</td>\n",
       "      <td>0</td>\n",
       "      <td>0</td>\n",
       "      <td>0</td>\n",
       "      <td>0</td>\n",
       "      <td>0</td>\n",
       "    </tr>\n",
       "    <tr>\n",
       "      <th>2</th>\n",
       "      <td>MW</td>\n",
       "      <td>Apr 21, 2019</td>\n",
       "      <td>1.00</td>\n",
       "      <td>1.00</td>\n",
       "      <td>59626613925472</td>\n",
       "      <td>792.00</td>\n",
       "      <td>Female</td>\n",
       "      <td>Miami</td>\n",
       "      <td>DAIRY</td>\n",
       "      <td>True</td>\n",
       "      <td>4,220.00</td>\n",
       "      <td>0</td>\n",
       "      <td>0</td>\n",
       "      <td>0</td>\n",
       "      <td>1</td>\n",
       "      <td>0</td>\n",
       "      <td>0</td>\n",
       "      <td>0</td>\n",
       "      <td>0</td>\n",
       "      <td>0</td>\n",
       "      <td>0</td>\n",
       "      <td>0</td>\n",
       "      <td>0</td>\n",
       "      <td>0</td>\n",
       "      <td>0</td>\n",
       "      <td>0</td>\n",
       "      <td>0</td>\n",
       "      <td>0</td>\n",
       "      <td>0</td>\n",
       "      <td>0</td>\n",
       "      <td>0</td>\n",
       "      <td>0</td>\n",
       "      <td>0</td>\n",
       "      <td>0</td>\n",
       "      <td>0</td>\n",
       "      <td>0</td>\n",
       "    </tr>\n",
       "    <tr>\n",
       "      <th>3</th>\n",
       "      <td>MW</td>\n",
       "      <td>Apr 21, 2019</td>\n",
       "      <td>15.00</td>\n",
       "      <td>1.00</td>\n",
       "      <td>59626613925472</td>\n",
       "      <td>792.00</td>\n",
       "      <td>Female</td>\n",
       "      <td>Miami</td>\n",
       "      <td>SEASONAL LINES</td>\n",
       "      <td>True</td>\n",
       "      <td>4,220.00</td>\n",
       "      <td>0</td>\n",
       "      <td>0</td>\n",
       "      <td>0</td>\n",
       "      <td>0</td>\n",
       "      <td>0</td>\n",
       "      <td>0</td>\n",
       "      <td>0</td>\n",
       "      <td>0</td>\n",
       "      <td>0</td>\n",
       "      <td>0</td>\n",
       "      <td>0</td>\n",
       "      <td>0</td>\n",
       "      <td>0</td>\n",
       "      <td>0</td>\n",
       "      <td>0</td>\n",
       "      <td>0</td>\n",
       "      <td>0</td>\n",
       "      <td>0</td>\n",
       "      <td>0</td>\n",
       "      <td>0</td>\n",
       "      <td>0</td>\n",
       "      <td>0</td>\n",
       "      <td>1</td>\n",
       "      <td>0</td>\n",
       "      <td>0</td>\n",
       "    </tr>\n",
       "    <tr>\n",
       "      <th>4</th>\n",
       "      <td>MW</td>\n",
       "      <td>Apr 21, 2019</td>\n",
       "      <td>3.00</td>\n",
       "      <td>1.00</td>\n",
       "      <td>59626613925472</td>\n",
       "      <td>792.00</td>\n",
       "      <td>Female</td>\n",
       "      <td>Miami</td>\n",
       "      <td>SNACKFOODS</td>\n",
       "      <td>True</td>\n",
       "      <td>4,220.00</td>\n",
       "      <td>0</td>\n",
       "      <td>0</td>\n",
       "      <td>0</td>\n",
       "      <td>0</td>\n",
       "      <td>0</td>\n",
       "      <td>0</td>\n",
       "      <td>0</td>\n",
       "      <td>0</td>\n",
       "      <td>0</td>\n",
       "      <td>0</td>\n",
       "      <td>0</td>\n",
       "      <td>0</td>\n",
       "      <td>0</td>\n",
       "      <td>0</td>\n",
       "      <td>0</td>\n",
       "      <td>0</td>\n",
       "      <td>0</td>\n",
       "      <td>0</td>\n",
       "      <td>0</td>\n",
       "      <td>0</td>\n",
       "      <td>0</td>\n",
       "      <td>0</td>\n",
       "      <td>0</td>\n",
       "      <td>1</td>\n",
       "      <td>0</td>\n",
       "    </tr>\n",
       "  </tbody>\n",
       "</table>\n",
       "</div>"
      ],
      "text/plain": [
       "  store   week_ending  sales  baskets        card_num    age  gender   city  \\\n",
       "0    MW  Apr 21, 2019   1.99     1.00  59626613925472 792.00  Female  Miami   \n",
       "1    MW  Apr 21, 2019   5.00     1.00  59626613925472 792.00  Female  Miami   \n",
       "2    MW  Apr 21, 2019   1.00     1.00  59626613925472 792.00  Female  Miami   \n",
       "3    MW  Apr 21, 2019  15.00     1.00  59626613925472 792.00  Female  Miami   \n",
       "4    MW  Apr 21, 2019   3.00     1.00  59626613925472 792.00  Female  Miami   \n",
       "\n",
       "       department  email_status  post_code  BREAD  TOBACCO  CONFECTIONERY  \\\n",
       "0           BREAD          True   4,220.00      1        0              0   \n",
       "1   CONFECTIONERY          True   4,220.00      0        0              1   \n",
       "2           DAIRY          True   4,220.00      0        0              0   \n",
       "3  SEASONAL LINES          True   4,220.00      0        0              0   \n",
       "4      SNACKFOODS          True   4,220.00      0        0              0   \n",
       "\n",
       "   DAIRY  DELI-ITEMS  DELI-RETAIL  EPAY/PHONECARD  FROZEN  FRUIT & VEG  \\\n",
       "0      0           0            0               0       0            0   \n",
       "1      0           0            0               0       0            0   \n",
       "2      1           0            0               0       0            0   \n",
       "3      0           0            0               0       0            0   \n",
       "4      0           0            0               0       0            0   \n",
       "\n",
       "   FUEL DISCOUNT  GENERAL MERCH  GROCERY  H_AND_B  INSTORE BAKERY  \\\n",
       "0              0              0        0        0               0   \n",
       "1              0              0        0        0               0   \n",
       "2              0              0        0        0               0   \n",
       "3              0              0        0        0               0   \n",
       "4              0              0        0        0               0   \n",
       "\n",
       "   LAUNDRY NEEDS  LENARDS  LOTTO  MEAT  MILK - FRESH  MAGAZINES  \\\n",
       "0              0        0      0     0             0          0   \n",
       "1              0        0      0     0             0          0   \n",
       "2              0        0      0     0             0          0   \n",
       "3              0        0      0     0             0          0   \n",
       "4              0        0      0     0             0          0   \n",
       "\n",
       "   PET FOOD & ACC  PRIZE POULTRY  SEASONAL LINES  SNACKFOODS  SOFT DRINKS  \n",
       "0               0              0               0           0            0  \n",
       "1               0              0               0           0            0  \n",
       "2               0              0               0           0            0  \n",
       "3               0              0               1           0            0  \n",
       "4               0              0               0           1            0  "
      ]
     },
     "execution_count": 34,
     "metadata": {},
     "output_type": "execute_result"
    }
   ],
   "source": [
    "# E.G. of the resulting DF \n",
    "weekly_customer_dep_dummies.head()"
   ]
  },
  {
   "cell_type": "code",
   "execution_count": null,
   "id": "4cfac602",
   "metadata": {},
   "outputs": [],
   "source": []
  },
  {
   "cell_type": "code",
   "execution_count": 36,
   "id": "09cd57ed",
   "metadata": {},
   "outputs": [],
   "source": [
    "# [OPTIONAL] pickle the DF:\n",
    "#weekly_customer_dep_dummies.to_pickle(\"./weekly_customer_dep_dummies.pkl\")\n",
    "weekly_customer_dep_dummies = pd.read_pickle(\"./weekly_customer_dep_dummies.pkl\") "
   ]
  },
  {
   "cell_type": "code",
   "execution_count": null,
   "id": "25d44d7a",
   "metadata": {},
   "outputs": [],
   "source": []
  },
  {
   "cell_type": "code",
   "execution_count": null,
   "id": "dbb122ba",
   "metadata": {},
   "outputs": [],
   "source": []
  },
  {
   "cell_type": "code",
   "execution_count": null,
   "id": "a1729526",
   "metadata": {},
   "outputs": [],
   "source": []
  },
  {
   "cell_type": "markdown",
   "id": "ac2c1501",
   "metadata": {},
   "source": [
    "<a id='feature_eng'></a>\n",
    "\n",
    "## FINAL FEATURE ENGINEERING & DATA MANIPULATION / CLEANING \n",
    "* E.G. \n",
    "    * Create a customer_duration feature (how long have they been a loyalty member)\n",
    "    * Aggregate transaction counts by department and scale the result\n",
    "    * Create a dummy variable for each gender + 3rd category for missing gender data\n",
    "    * drop unneeded variables after some iterative testing \n",
    "    \n",
    "#### POTENTIAL EXPANSION AT A LATER DATE: \n",
    "* Use NLP to infer gender from names to fill the gab of missing gender data"
   ]
  },
  {
   "cell_type": "code",
   "execution_count": 20,
   "id": "81b74b7e",
   "metadata": {},
   "outputs": [],
   "source": [
    "## read in pickle if resuming \n",
    "weekly_customer_dep_dummies = pd.read_pickle(\"./weekly_customer_dep_dummies.pkl\") "
   ]
  },
  {
   "cell_type": "code",
   "execution_count": 21,
   "id": "5327c598",
   "metadata": {},
   "outputs": [],
   "source": [
    "## NOT USED IN THE FINAL MODEL AFTER ITERATION\n",
    "\n",
    "\n",
    "# convert sales to log to assist with the highly skewed - un-even distribution \n",
    "weekly_customer_dep_dummies['log_sales'] = np.log(weekly_customer_dep_dummies.sales+1)"
   ]
  },
  {
   "cell_type": "code",
   "execution_count": null,
   "id": "e3791113",
   "metadata": {},
   "outputs": [],
   "source": []
  },
  {
   "cell_type": "markdown",
   "id": "c7cf27bd",
   "metadata": {},
   "source": [
    "### CREATE TOTAL SALES BY CUSTOMER FEATURE "
   ]
  },
  {
   "cell_type": "code",
   "execution_count": 22,
   "id": "1b77317b",
   "metadata": {},
   "outputs": [],
   "source": [
    "# for testing purposes, make a copy of DF thus far \n",
    "weekly_customer_dep_dummies_cleaned = weekly_customer_dep_dummies.copy()"
   ]
  },
  {
   "cell_type": "code",
   "execution_count": 23,
   "id": "4e1cda07",
   "metadata": {},
   "outputs": [],
   "source": [
    "# drop NaN from Log-Sales, which also dropping NaN from sales\n",
    "weekly_customer_dep_dummies_cleaned.dropna(subset=['log_sales'], inplace=True)"
   ]
  },
  {
   "cell_type": "code",
   "execution_count": null,
   "id": "c8828c51",
   "metadata": {},
   "outputs": [],
   "source": []
  },
  {
   "cell_type": "markdown",
   "id": "cefc554d",
   "metadata": {},
   "source": [
    "### DROP MISSING AGE VALUES (EXPERIMENTAL)\n",
    "* Initially excluded from the first iteration, but re-added in subsequent tests"
   ]
  },
  {
   "cell_type": "code",
   "execution_count": 26,
   "id": "164d7190",
   "metadata": {},
   "outputs": [],
   "source": [
    "# drop missing age values (roughly 25% of customer data)\n",
    "weekly_customer_dep_dummies_cleaned.dropna(subset=['age'], inplace=True)"
   ]
  },
  {
   "cell_type": "code",
   "execution_count": null,
   "id": "60848c64",
   "metadata": {},
   "outputs": [],
   "source": []
  },
  {
   "cell_type": "markdown",
   "id": "04814cbb",
   "metadata": {},
   "source": [
    "### VARIABLES TO BE DROPPED AS THEY'RE OBSOLETE / INEFFECTIVE \n",
    "* City = replaced by post_code \n",
    "* Store = all customers in this data file pertain to the same store\n",
    "* Department = replaced by individual department dummy variables\n",
    "* Baskets \n",
    "    * No longer has any meaning in the context of aggregated department frequencies\n",
    "\n",
    "    \n",
    "### DROP NAN ROWS FROM SOME VARIABLES: \n",
    "* Sales / Post Code \n",
    "\n"
   ]
  },
  {
   "cell_type": "code",
   "execution_count": 27,
   "id": "c3202b9e",
   "metadata": {},
   "outputs": [],
   "source": [
    "# drop those variables\n",
    "weekly_customer_dep_dummies_cleaned = weekly_customer_dep_dummies_cleaned.drop(['city','store', \n",
    "                                                                                'department', 'baskets'], axis=1)"
   ]
  },
  {
   "cell_type": "code",
   "execution_count": 28,
   "id": "5541ff08",
   "metadata": {},
   "outputs": [
    {
     "name": "stdout",
     "output_type": "stream",
     "text": [
      "pre (post_code) drop DF len: 13868\n",
      "post (post_code) drop DF len: 13741\n"
     ]
    }
   ],
   "source": [
    "# drop the subset of customers with missing postcodes: (not many)\n",
    "print(\"pre (post_code) drop DF len: {}\".format(len(weekly_customer_dep_dummies_cleaned)))\n",
    "weekly_customer_dep_dummies_cleaned.dropna(subset=['post_code'], inplace=True)\n",
    "print(\"post (post_code) drop DF len: {}\".format(len(weekly_customer_dep_dummies_cleaned)))"
   ]
  },
  {
   "cell_type": "code",
   "execution_count": null,
   "id": "6fed4c73",
   "metadata": {},
   "outputs": [],
   "source": []
  },
  {
   "cell_type": "markdown",
   "id": "6cb984e4",
   "metadata": {},
   "source": [
    "### Encode a dummy variable for gender (M/F) & A separate variable to indicate missing gender values\n",
    "* A potentially more sophisticated method of guessing gender based of a NLP model could be implemented at a later date "
   ]
  },
  {
   "cell_type": "code",
   "execution_count": 29,
   "id": "9da65e30",
   "metadata": {},
   "outputs": [],
   "source": [
    "# convert to string \n",
    "weekly_customer_dep_dummies_cleaned['gender'] = weekly_customer_dep_dummies_cleaned.gender.astype(str)"
   ]
  },
  {
   "cell_type": "code",
   "execution_count": 30,
   "id": "6e820ff6",
   "metadata": {},
   "outputs": [],
   "source": [
    "# if gender is unknown - set dummy to (1) else (0)\n",
    "weekly_customer_dep_dummies_cleaned['gender_unknown'] = weekly_customer_dep_dummies_cleaned['gender'].apply(\n",
    "lambda x: 1 if x=='Unknown' else 0)\n",
    "\n",
    "# in the male column: set == 1 if male; else 0 \n",
    "weekly_customer_dep_dummies_cleaned['male'] = weekly_customer_dep_dummies_cleaned['gender'].apply(\n",
    "lambda x: 1 if x=='Male' else 0)\n",
    "\n",
    "# repeat for females \n",
    "weekly_customer_dep_dummies_cleaned['female'] = weekly_customer_dep_dummies_cleaned['gender'].apply(\n",
    "lambda x: 1 if x=='Female' else 0)"
   ]
  },
  {
   "cell_type": "code",
   "execution_count": 31,
   "id": "f1826278",
   "metadata": {},
   "outputs": [],
   "source": [
    "# drop the original gender column as it is now not needed\n",
    "weekly_customer_dep_dummies_cleaned = weekly_customer_dep_dummies_cleaned.drop(['gender'], axis=1)"
   ]
  },
  {
   "cell_type": "code",
   "execution_count": 32,
   "id": "64179bbb",
   "metadata": {},
   "outputs": [
    {
     "data": {
      "text/html": [
       "<div>\n",
       "<style scoped>\n",
       "    .dataframe tbody tr th:only-of-type {\n",
       "        vertical-align: middle;\n",
       "    }\n",
       "\n",
       "    .dataframe tbody tr th {\n",
       "        vertical-align: top;\n",
       "    }\n",
       "\n",
       "    .dataframe thead th {\n",
       "        text-align: right;\n",
       "    }\n",
       "</style>\n",
       "<table border=\"1\" class=\"dataframe\">\n",
       "  <thead>\n",
       "    <tr style=\"text-align: right;\">\n",
       "      <th></th>\n",
       "      <th>week_ending</th>\n",
       "      <th>sales</th>\n",
       "      <th>card_num</th>\n",
       "      <th>age</th>\n",
       "      <th>email_status</th>\n",
       "      <th>post_code</th>\n",
       "      <th>BREAD</th>\n",
       "      <th>TOBACCO</th>\n",
       "      <th>CONFECTIONERY</th>\n",
       "      <th>DAIRY</th>\n",
       "      <th>DELI-ITEMS</th>\n",
       "      <th>DELI-RETAIL</th>\n",
       "      <th>EPAY/PHONECARD</th>\n",
       "      <th>FROZEN</th>\n",
       "      <th>FRUIT &amp; VEG</th>\n",
       "      <th>FUEL DISCOUNT</th>\n",
       "      <th>GENERAL MERCH</th>\n",
       "      <th>GROCERY</th>\n",
       "      <th>H_AND_B</th>\n",
       "      <th>INSTORE BAKERY</th>\n",
       "      <th>LAUNDRY NEEDS</th>\n",
       "      <th>LENARDS</th>\n",
       "      <th>LOTTO</th>\n",
       "      <th>MEAT</th>\n",
       "      <th>MILK - FRESH</th>\n",
       "      <th>MAGAZINES</th>\n",
       "      <th>PET FOOD &amp; ACC</th>\n",
       "      <th>PRIZE POULTRY</th>\n",
       "      <th>SEASONAL LINES</th>\n",
       "      <th>SNACKFOODS</th>\n",
       "      <th>SOFT DRINKS</th>\n",
       "      <th>log_sales</th>\n",
       "      <th>gender_unknown</th>\n",
       "      <th>male</th>\n",
       "      <th>female</th>\n",
       "    </tr>\n",
       "  </thead>\n",
       "  <tbody>\n",
       "    <tr>\n",
       "      <th>0</th>\n",
       "      <td>Apr 21, 2019</td>\n",
       "      <td>1.99</td>\n",
       "      <td>59626613925472</td>\n",
       "      <td>792.00</td>\n",
       "      <td>True</td>\n",
       "      <td>4,220.00</td>\n",
       "      <td>1</td>\n",
       "      <td>0</td>\n",
       "      <td>0</td>\n",
       "      <td>0</td>\n",
       "      <td>0</td>\n",
       "      <td>0</td>\n",
       "      <td>0</td>\n",
       "      <td>0</td>\n",
       "      <td>0</td>\n",
       "      <td>0</td>\n",
       "      <td>0</td>\n",
       "      <td>0</td>\n",
       "      <td>0</td>\n",
       "      <td>0</td>\n",
       "      <td>0</td>\n",
       "      <td>0</td>\n",
       "      <td>0</td>\n",
       "      <td>0</td>\n",
       "      <td>0</td>\n",
       "      <td>0</td>\n",
       "      <td>0</td>\n",
       "      <td>0</td>\n",
       "      <td>0</td>\n",
       "      <td>0</td>\n",
       "      <td>0</td>\n",
       "      <td>1.10</td>\n",
       "      <td>0</td>\n",
       "      <td>0</td>\n",
       "      <td>1</td>\n",
       "    </tr>\n",
       "    <tr>\n",
       "      <th>1</th>\n",
       "      <td>Apr 21, 2019</td>\n",
       "      <td>5.00</td>\n",
       "      <td>59626613925472</td>\n",
       "      <td>792.00</td>\n",
       "      <td>True</td>\n",
       "      <td>4,220.00</td>\n",
       "      <td>0</td>\n",
       "      <td>0</td>\n",
       "      <td>1</td>\n",
       "      <td>0</td>\n",
       "      <td>0</td>\n",
       "      <td>0</td>\n",
       "      <td>0</td>\n",
       "      <td>0</td>\n",
       "      <td>0</td>\n",
       "      <td>0</td>\n",
       "      <td>0</td>\n",
       "      <td>0</td>\n",
       "      <td>0</td>\n",
       "      <td>0</td>\n",
       "      <td>0</td>\n",
       "      <td>0</td>\n",
       "      <td>0</td>\n",
       "      <td>0</td>\n",
       "      <td>0</td>\n",
       "      <td>0</td>\n",
       "      <td>0</td>\n",
       "      <td>0</td>\n",
       "      <td>0</td>\n",
       "      <td>0</td>\n",
       "      <td>0</td>\n",
       "      <td>1.79</td>\n",
       "      <td>0</td>\n",
       "      <td>0</td>\n",
       "      <td>1</td>\n",
       "    </tr>\n",
       "    <tr>\n",
       "      <th>2</th>\n",
       "      <td>Apr 21, 2019</td>\n",
       "      <td>1.00</td>\n",
       "      <td>59626613925472</td>\n",
       "      <td>792.00</td>\n",
       "      <td>True</td>\n",
       "      <td>4,220.00</td>\n",
       "      <td>0</td>\n",
       "      <td>0</td>\n",
       "      <td>0</td>\n",
       "      <td>1</td>\n",
       "      <td>0</td>\n",
       "      <td>0</td>\n",
       "      <td>0</td>\n",
       "      <td>0</td>\n",
       "      <td>0</td>\n",
       "      <td>0</td>\n",
       "      <td>0</td>\n",
       "      <td>0</td>\n",
       "      <td>0</td>\n",
       "      <td>0</td>\n",
       "      <td>0</td>\n",
       "      <td>0</td>\n",
       "      <td>0</td>\n",
       "      <td>0</td>\n",
       "      <td>0</td>\n",
       "      <td>0</td>\n",
       "      <td>0</td>\n",
       "      <td>0</td>\n",
       "      <td>0</td>\n",
       "      <td>0</td>\n",
       "      <td>0</td>\n",
       "      <td>0.69</td>\n",
       "      <td>0</td>\n",
       "      <td>0</td>\n",
       "      <td>1</td>\n",
       "    </tr>\n",
       "    <tr>\n",
       "      <th>3</th>\n",
       "      <td>Apr 21, 2019</td>\n",
       "      <td>15.00</td>\n",
       "      <td>59626613925472</td>\n",
       "      <td>792.00</td>\n",
       "      <td>True</td>\n",
       "      <td>4,220.00</td>\n",
       "      <td>0</td>\n",
       "      <td>0</td>\n",
       "      <td>0</td>\n",
       "      <td>0</td>\n",
       "      <td>0</td>\n",
       "      <td>0</td>\n",
       "      <td>0</td>\n",
       "      <td>0</td>\n",
       "      <td>0</td>\n",
       "      <td>0</td>\n",
       "      <td>0</td>\n",
       "      <td>0</td>\n",
       "      <td>0</td>\n",
       "      <td>0</td>\n",
       "      <td>0</td>\n",
       "      <td>0</td>\n",
       "      <td>0</td>\n",
       "      <td>0</td>\n",
       "      <td>0</td>\n",
       "      <td>0</td>\n",
       "      <td>0</td>\n",
       "      <td>0</td>\n",
       "      <td>1</td>\n",
       "      <td>0</td>\n",
       "      <td>0</td>\n",
       "      <td>2.77</td>\n",
       "      <td>0</td>\n",
       "      <td>0</td>\n",
       "      <td>1</td>\n",
       "    </tr>\n",
       "    <tr>\n",
       "      <th>4</th>\n",
       "      <td>Apr 21, 2019</td>\n",
       "      <td>3.00</td>\n",
       "      <td>59626613925472</td>\n",
       "      <td>792.00</td>\n",
       "      <td>True</td>\n",
       "      <td>4,220.00</td>\n",
       "      <td>0</td>\n",
       "      <td>0</td>\n",
       "      <td>0</td>\n",
       "      <td>0</td>\n",
       "      <td>0</td>\n",
       "      <td>0</td>\n",
       "      <td>0</td>\n",
       "      <td>0</td>\n",
       "      <td>0</td>\n",
       "      <td>0</td>\n",
       "      <td>0</td>\n",
       "      <td>0</td>\n",
       "      <td>0</td>\n",
       "      <td>0</td>\n",
       "      <td>0</td>\n",
       "      <td>0</td>\n",
       "      <td>0</td>\n",
       "      <td>0</td>\n",
       "      <td>0</td>\n",
       "      <td>0</td>\n",
       "      <td>0</td>\n",
       "      <td>0</td>\n",
       "      <td>0</td>\n",
       "      <td>1</td>\n",
       "      <td>0</td>\n",
       "      <td>1.39</td>\n",
       "      <td>0</td>\n",
       "      <td>0</td>\n",
       "      <td>1</td>\n",
       "    </tr>\n",
       "  </tbody>\n",
       "</table>\n",
       "</div>"
      ],
      "text/plain": [
       "    week_ending  sales        card_num    age  email_status  post_code  BREAD  \\\n",
       "0  Apr 21, 2019   1.99  59626613925472 792.00          True   4,220.00      1   \n",
       "1  Apr 21, 2019   5.00  59626613925472 792.00          True   4,220.00      0   \n",
       "2  Apr 21, 2019   1.00  59626613925472 792.00          True   4,220.00      0   \n",
       "3  Apr 21, 2019  15.00  59626613925472 792.00          True   4,220.00      0   \n",
       "4  Apr 21, 2019   3.00  59626613925472 792.00          True   4,220.00      0   \n",
       "\n",
       "   TOBACCO  CONFECTIONERY  DAIRY  DELI-ITEMS  DELI-RETAIL  EPAY/PHONECARD  \\\n",
       "0        0              0      0           0            0               0   \n",
       "1        0              1      0           0            0               0   \n",
       "2        0              0      1           0            0               0   \n",
       "3        0              0      0           0            0               0   \n",
       "4        0              0      0           0            0               0   \n",
       "\n",
       "   FROZEN  FRUIT & VEG  FUEL DISCOUNT  GENERAL MERCH  GROCERY  H_AND_B  \\\n",
       "0       0            0              0              0        0        0   \n",
       "1       0            0              0              0        0        0   \n",
       "2       0            0              0              0        0        0   \n",
       "3       0            0              0              0        0        0   \n",
       "4       0            0              0              0        0        0   \n",
       "\n",
       "   INSTORE BAKERY  LAUNDRY NEEDS  LENARDS  LOTTO  MEAT  MILK - FRESH  \\\n",
       "0               0              0        0      0     0             0   \n",
       "1               0              0        0      0     0             0   \n",
       "2               0              0        0      0     0             0   \n",
       "3               0              0        0      0     0             0   \n",
       "4               0              0        0      0     0             0   \n",
       "\n",
       "   MAGAZINES  PET FOOD & ACC  PRIZE POULTRY  SEASONAL LINES  SNACKFOODS  \\\n",
       "0          0               0              0               0           0   \n",
       "1          0               0              0               0           0   \n",
       "2          0               0              0               0           0   \n",
       "3          0               0              0               1           0   \n",
       "4          0               0              0               0           1   \n",
       "\n",
       "   SOFT DRINKS  log_sales  gender_unknown  male  female  \n",
       "0            0       1.10               0     0       1  \n",
       "1            0       1.79               0     0       1  \n",
       "2            0       0.69               0     0       1  \n",
       "3            0       2.77               0     0       1  \n",
       "4            0       1.39               0     0       1  "
      ]
     },
     "execution_count": 32,
     "metadata": {},
     "output_type": "execute_result"
    }
   ],
   "source": [
    "#E.G: gender_unknown = (0) as gender is known -- then, gender = (1) for female, (0) for male\n",
    "weekly_customer_dep_dummies_cleaned.head()"
   ]
  },
  {
   "cell_type": "code",
   "execution_count": null,
   "id": "f0ee3acd",
   "metadata": {},
   "outputs": [],
   "source": []
  },
  {
   "cell_type": "code",
   "execution_count": null,
   "id": "97da4203",
   "metadata": {},
   "outputs": [],
   "source": []
  },
  {
   "cell_type": "code",
   "execution_count": null,
   "id": "02edf401",
   "metadata": {},
   "outputs": [],
   "source": []
  },
  {
   "cell_type": "markdown",
   "id": "93e10e77",
   "metadata": {},
   "source": [
    "## ADDITIONAL FEATURES CREATION \n",
    "* Average Spend by Customer Transactions\n",
    "* Customer duration (last-first transaction dates)\n",
    "\n",
    "\n",
    "#### HANDLING THE CLASS IMBALANCE: \n",
    "* This will be addressed slightly below by upscaling the minority class (resampling with replacement to match the majority class)\n",
    "    * It was possible in some models E.G. SVC to handle this directly, but other models did not support it so it was manually implemented beforehand for consistency"
   ]
  },
  {
   "cell_type": "code",
   "execution_count": null,
   "id": "e76c21ae",
   "metadata": {},
   "outputs": [],
   "source": []
  },
  {
   "cell_type": "markdown",
   "id": "cfb1a20f",
   "metadata": {},
   "source": [
    "### extract the email status and post-code of the last data entry by customer (presuming post-code doesn't change through-out the sample)\n",
    "* Essentially, extract variables that are not expected to change (excluding email status, which might change but will be handled later)"
   ]
  },
  {
   "cell_type": "code",
   "execution_count": 46,
   "id": "c2cdaeb4",
   "metadata": {},
   "outputs": [],
   "source": [
    "customer_email_postcode_df = weekly_customer_dep_dummies_cleaned.groupby(['card_num'])[\n",
    "    'email_status','post_code','gender_unknown','male','female','age'].last()"
   ]
  },
  {
   "cell_type": "code",
   "execution_count": 47,
   "id": "1bd64c24",
   "metadata": {},
   "outputs": [
    {
     "data": {
      "text/html": [
       "<div>\n",
       "<style scoped>\n",
       "    .dataframe tbody tr th:only-of-type {\n",
       "        vertical-align: middle;\n",
       "    }\n",
       "\n",
       "    .dataframe tbody tr th {\n",
       "        vertical-align: top;\n",
       "    }\n",
       "\n",
       "    .dataframe thead th {\n",
       "        text-align: right;\n",
       "    }\n",
       "</style>\n",
       "<table border=\"1\" class=\"dataframe\">\n",
       "  <thead>\n",
       "    <tr style=\"text-align: right;\">\n",
       "      <th></th>\n",
       "      <th>email_status</th>\n",
       "      <th>post_code</th>\n",
       "      <th>gender_unknown</th>\n",
       "      <th>male</th>\n",
       "      <th>female</th>\n",
       "      <th>age</th>\n",
       "    </tr>\n",
       "    <tr>\n",
       "      <th>card_num</th>\n",
       "      <th></th>\n",
       "      <th></th>\n",
       "      <th></th>\n",
       "      <th></th>\n",
       "      <th></th>\n",
       "      <th></th>\n",
       "    </tr>\n",
       "  </thead>\n",
       "  <tbody>\n",
       "    <tr>\n",
       "      <th>2710201787225</th>\n",
       "      <td>False</td>\n",
       "      <td>4,227.00</td>\n",
       "      <td>0</td>\n",
       "      <td>1</td>\n",
       "      <td>0</td>\n",
       "      <td>25.00</td>\n",
       "    </tr>\n",
       "    <tr>\n",
       "      <th>2710202677549</th>\n",
       "      <td>False</td>\n",
       "      <td>4,067.00</td>\n",
       "      <td>0</td>\n",
       "      <td>0</td>\n",
       "      <td>1</td>\n",
       "      <td>29.00</td>\n",
       "    </tr>\n",
       "    <tr>\n",
       "      <th>2710202683021</th>\n",
       "      <td>True</td>\n",
       "      <td>4,069.00</td>\n",
       "      <td>0</td>\n",
       "      <td>0</td>\n",
       "      <td>1</td>\n",
       "      <td>30.00</td>\n",
       "    </tr>\n",
       "    <tr>\n",
       "      <th>2710203126152</th>\n",
       "      <td>True</td>\n",
       "      <td>4,169.00</td>\n",
       "      <td>0</td>\n",
       "      <td>0</td>\n",
       "      <td>1</td>\n",
       "      <td>40.00</td>\n",
       "    </tr>\n",
       "    <tr>\n",
       "      <th>2710300512261</th>\n",
       "      <td>False</td>\n",
       "      <td>4,218.00</td>\n",
       "      <td>0</td>\n",
       "      <td>1</td>\n",
       "      <td>0</td>\n",
       "      <td>20.00</td>\n",
       "    </tr>\n",
       "  </tbody>\n",
       "</table>\n",
       "</div>"
      ],
      "text/plain": [
       "               email_status  post_code  gender_unknown  male  female   age\n",
       "card_num                                                                  \n",
       "2710201787225         False   4,227.00               0     1       0 25.00\n",
       "2710202677549         False   4,067.00               0     0       1 29.00\n",
       "2710202683021          True   4,069.00               0     0       1 30.00\n",
       "2710203126152          True   4,169.00               0     0       1 40.00\n",
       "2710300512261         False   4,218.00               0     1       0 20.00"
      ]
     },
     "execution_count": 47,
     "metadata": {},
     "output_type": "execute_result"
    }
   ],
   "source": [
    "customer_email_postcode_df.head()"
   ]
  },
  {
   "cell_type": "code",
   "execution_count": null,
   "id": "86491075",
   "metadata": {},
   "outputs": [],
   "source": []
  },
  {
   "cell_type": "markdown",
   "id": "074a0f79",
   "metadata": {},
   "source": [
    "### CREATE SUMMARY OF DEPARTMENT FREQUENCIES BY CUSTOMER \n",
    "* By customer, sum each departments sales values"
   ]
  },
  {
   "cell_type": "code",
   "execution_count": 48,
   "id": "b971df11",
   "metadata": {},
   "outputs": [
    {
     "name": "stdout",
     "output_type": "stream",
     "text": [
      "170\n"
     ]
    }
   ],
   "source": [
    "cust_dep_sums = weekly_customer_dep_dummies_cleaned.groupby(['card_num'])['BREAD', 'TOBACCO', 'CONFECTIONERY',\n",
    "       'DAIRY', 'DELI-ITEMS', 'DELI-RETAIL', 'EPAY/PHONECARD', 'FROZEN',\n",
    "       'FRUIT & VEG', 'FUEL DISCOUNT', 'GENERAL MERCH', 'GROCERY', 'H_AND_B',\n",
    "       'INSTORE BAKERY', 'LAUNDRY NEEDS', 'LENARDS', 'LOTTO', 'MEAT',\n",
    "       'MILK - FRESH', 'MAGAZINES', 'PET FOOD & ACC', 'PRIZE POULTRY',\n",
    "       'SEASONAL LINES', 'SNACKFOODS', 'SOFT DRINKS'].sum()\n",
    "\n",
    "# unique customer rows in the data \n",
    "print(len(cust_dep_sums))"
   ]
  },
  {
   "cell_type": "code",
   "execution_count": null,
   "id": "5fcbd1da",
   "metadata": {},
   "outputs": [],
   "source": []
  },
  {
   "cell_type": "markdown",
   "id": "c5529fd2",
   "metadata": {},
   "source": [
    "## CREATE CUSTOMER SALES FEATURES\n",
    "* Include: Total Spend & Average Spend\n"
   ]
  },
  {
   "cell_type": "code",
   "execution_count": 49,
   "id": "5251e722",
   "metadata": {},
   "outputs": [],
   "source": [
    "cust_avgspend = weekly_customer_dep_dummies_cleaned.groupby([\n",
    "    'card_num'])['sales'].mean()"
   ]
  },
  {
   "cell_type": "code",
   "execution_count": null,
   "id": "60a65772",
   "metadata": {},
   "outputs": [],
   "source": []
  },
  {
   "cell_type": "markdown",
   "id": "21d91a63",
   "metadata": {},
   "source": [
    "## Create time-spent as customer feature \n",
    "* measured by the time between their first and last shops "
   ]
  },
  {
   "cell_type": "code",
   "execution_count": 50,
   "id": "94c3f22a",
   "metadata": {},
   "outputs": [],
   "source": [
    "# if not already done, convert the week_ending to datetime format\n",
    "weekly_customer_dep_dummies_cleaned['week_ending'] = pd.to_datetime(weekly_customer_dep_dummies_cleaned['week_ending'])"
   ]
  },
  {
   "cell_type": "code",
   "execution_count": 51,
   "id": "a0b78348",
   "metadata": {},
   "outputs": [],
   "source": [
    "# create the duration variable as last transction - first transaction date by customer\n",
    "cust_duration = weekly_customer_dep_dummies_cleaned.groupby(['card_num'])['week_ending'].max() - weekly_customer_dep_dummies_cleaned.groupby(['card_num'])['week_ending'].min()"
   ]
  },
  {
   "cell_type": "code",
   "execution_count": 52,
   "id": "62fb356d",
   "metadata": {},
   "outputs": [],
   "source": [
    "# convert to DF and transpose to match dimensions of existing data\n",
    "customer_durations_df = pd.DataFrame([cust_duration]).T"
   ]
  },
  {
   "cell_type": "code",
   "execution_count": null,
   "id": "6afbb403",
   "metadata": {},
   "outputs": [],
   "source": []
  },
  {
   "cell_type": "markdown",
   "id": "255a9dfb",
   "metadata": {},
   "source": [
    "### Need to convert the data series to float (drop the .days part of the variable for the classification models)"
   ]
  },
  {
   "cell_type": "code",
   "execution_count": 53,
   "id": "738ec0b4",
   "metadata": {},
   "outputs": [],
   "source": [
    "# convert the days timedelta variable into hours \n",
    "customer_durations_df['week_ending'] = customer_durations_df['week_ending'] / np.timedelta64(1, 'h')"
   ]
  },
  {
   "cell_type": "code",
   "execution_count": 54,
   "id": "58816a41",
   "metadata": {},
   "outputs": [],
   "source": [
    "# divide the now floated (hours) variable by 24 to get back to days\n",
    "customer_durations_df['week_ending'] = customer_durations_df['week_ending'] / 24"
   ]
  },
  {
   "cell_type": "code",
   "execution_count": 55,
   "id": "2c4ef43e",
   "metadata": {},
   "outputs": [],
   "source": [
    "# rename variable for clarity \n",
    "customer_durations_df.rename(columns={'week_ending':'cust_duration'}, inplace=True)"
   ]
  },
  {
   "cell_type": "code",
   "execution_count": 56,
   "id": "7dfc43d2",
   "metadata": {},
   "outputs": [
    {
     "data": {
      "text/html": [
       "<div>\n",
       "<style scoped>\n",
       "    .dataframe tbody tr th:only-of-type {\n",
       "        vertical-align: middle;\n",
       "    }\n",
       "\n",
       "    .dataframe tbody tr th {\n",
       "        vertical-align: top;\n",
       "    }\n",
       "\n",
       "    .dataframe thead th {\n",
       "        text-align: right;\n",
       "    }\n",
       "</style>\n",
       "<table border=\"1\" class=\"dataframe\">\n",
       "  <thead>\n",
       "    <tr style=\"text-align: right;\">\n",
       "      <th></th>\n",
       "      <th>cust_duration</th>\n",
       "    </tr>\n",
       "    <tr>\n",
       "      <th>card_num</th>\n",
       "      <th></th>\n",
       "    </tr>\n",
       "  </thead>\n",
       "  <tbody>\n",
       "    <tr>\n",
       "      <th>2710201787225</th>\n",
       "      <td>0.00</td>\n",
       "    </tr>\n",
       "    <tr>\n",
       "      <th>2710202677549</th>\n",
       "      <td>0.00</td>\n",
       "    </tr>\n",
       "    <tr>\n",
       "      <th>2710202683021</th>\n",
       "      <td>0.00</td>\n",
       "    </tr>\n",
       "    <tr>\n",
       "      <th>2710203126152</th>\n",
       "      <td>0.00</td>\n",
       "    </tr>\n",
       "    <tr>\n",
       "      <th>2710300512261</th>\n",
       "      <td>0.00</td>\n",
       "    </tr>\n",
       "    <tr>\n",
       "      <th>...</th>\n",
       "      <td>...</td>\n",
       "    </tr>\n",
       "    <tr>\n",
       "      <th>512246819655144</th>\n",
       "      <td>336.00</td>\n",
       "    </tr>\n",
       "    <tr>\n",
       "      <th>542060132417800</th>\n",
       "      <td>343.00</td>\n",
       "    </tr>\n",
       "    <tr>\n",
       "      <th>761594497527545</th>\n",
       "      <td>329.00</td>\n",
       "    </tr>\n",
       "    <tr>\n",
       "      <th>894399176741730</th>\n",
       "      <td>343.00</td>\n",
       "    </tr>\n",
       "    <tr>\n",
       "      <th>937764028975188</th>\n",
       "      <td>350.00</td>\n",
       "    </tr>\n",
       "  </tbody>\n",
       "</table>\n",
       "<p>170 rows × 1 columns</p>\n",
       "</div>"
      ],
      "text/plain": [
       "                 cust_duration\n",
       "card_num                      \n",
       "2710201787225             0.00\n",
       "2710202677549             0.00\n",
       "2710202683021             0.00\n",
       "2710203126152             0.00\n",
       "2710300512261             0.00\n",
       "...                        ...\n",
       "512246819655144         336.00\n",
       "542060132417800         343.00\n",
       "761594497527545         329.00\n",
       "894399176741730         343.00\n",
       "937764028975188         350.00\n",
       "\n",
       "[170 rows x 1 columns]"
      ]
     },
     "execution_count": 56,
     "metadata": {},
     "output_type": "execute_result"
    }
   ],
   "source": [
    "# E.G. card_num and customer duration in (days)\n",
    "customer_durations_df"
   ]
  },
  {
   "cell_type": "markdown",
   "id": "51da117e",
   "metadata": {},
   "source": [
    "* customer duration == 0 would represent customers who made a single purchase on the day they signed up"
   ]
  },
  {
   "cell_type": "code",
   "execution_count": null,
   "id": "d4a6084f",
   "metadata": {},
   "outputs": [],
   "source": []
  },
  {
   "cell_type": "code",
   "execution_count": null,
   "id": "ea66bb85",
   "metadata": {},
   "outputs": [],
   "source": []
  },
  {
   "cell_type": "markdown",
   "id": "6adf7e69",
   "metadata": {},
   "source": [
    "## Aggregate (concatenate) each of the individual data feature DF(S) into one final DF for the classification models"
   ]
  },
  {
   "cell_type": "code",
   "execution_count": 57,
   "id": "2c9e7139",
   "metadata": {},
   "outputs": [],
   "source": [
    "# concatenate each of the individual aggregated (card_num) data features DFs into one\n",
    "customer_data_aggregated_df = pd.concat([customer_email_postcode_df, customer_durations_df,\n",
    "                                        cust_avgspend, cust_dep_sums], axis=1)"
   ]
  },
  {
   "cell_type": "code",
   "execution_count": 28,
   "id": "065ea436",
   "metadata": {},
   "outputs": [],
   "source": [
    "## pickle the unscaled DF [NOT USED AFTER ITERATION]\n",
    "\n",
    "#customer_data_aggregated_df.to_pickle(\"./customer_data_aggregated_df.pkl\")\n",
    "#customer_data_aggregated_df = pd.read_pickle(\"./customer_data_aggregated_df.pkl\") "
   ]
  },
  {
   "cell_type": "code",
   "execution_count": null,
   "id": "d04901d1",
   "metadata": {},
   "outputs": [],
   "source": []
  },
  {
   "cell_type": "markdown",
   "id": "1ddfe843",
   "metadata": {},
   "source": [
    "## SCALED DATA DF VERSION\n",
    "* Same as the above DF, except the aggregated department transaction frequencies will be standardised with sklearn's standard scaler; \n",
    "    * The mean_false = will be passed to preserve the sparse matrix nature of the data "
   ]
  },
  {
   "cell_type": "code",
   "execution_count": 60,
   "id": "8b5af753",
   "metadata": {},
   "outputs": [],
   "source": [
    "# create a copy of the existing DF to apply the scaling factor to\n",
    "customer_data_aggregated_df_scaled = customer_data_aggregated_df.copy()"
   ]
  },
  {
   "cell_type": "code",
   "execution_count": 61,
   "id": "b366c243",
   "metadata": {},
   "outputs": [],
   "source": [
    "# combine the departments which all belong to the aggregate department category \"deli\"\n",
    "customer_data_aggregated_df_scaled['DELI'] = customer_data_aggregated_df_scaled['DELI-ITEMS'] + customer_data_aggregated_df_scaled[\n",
    "    'DELI-RETAIL'] + customer_data_aggregated_df_scaled['PRIZE POULTRY'] + customer_data_aggregated_df_scaled['LENARDS']"
   ]
  },
  {
   "cell_type": "code",
   "execution_count": 62,
   "id": "e6ad1b0c",
   "metadata": {},
   "outputs": [],
   "source": [
    "# drop the original frames \n",
    "customer_data_aggregated_df_scaled = customer_data_aggregated_df_scaled.drop([\n",
    "    'DELI-ITEMS','DELI-RETAIL','PRIZE POULTRY','LENARDS'], axis=1)"
   ]
  },
  {
   "cell_type": "code",
   "execution_count": null,
   "id": "ca48e202",
   "metadata": {},
   "outputs": [],
   "source": []
  },
  {
   "cell_type": "code",
   "execution_count": 63,
   "id": "7018d68a",
   "metadata": {},
   "outputs": [],
   "source": [
    "# pass in \"with_mean\"=false, to account for the sparse matrix \n",
    "scale = StandardScaler(with_mean=False)\n",
    "\n",
    "# scale transform the aggregated department frequencies\n",
    "customer_data_aggregated_df_scaled[['BREAD', 'TOBACCO', 'CONFECTIONERY',\n",
    "       'DAIRY', 'EPAY/PHONECARD', 'FROZEN',\n",
    "       'FRUIT & VEG', 'FUEL DISCOUNT', 'GENERAL MERCH', 'GROCERY', 'H_AND_B',\n",
    "       'INSTORE BAKERY', 'LAUNDRY NEEDS', 'LOTTO', 'MEAT',\n",
    "       'MILK - FRESH', 'MAGAZINES', 'PET FOOD & ACC',\n",
    "       'SEASONAL LINES', 'SNACKFOODS', 'SOFT DRINKS', 'DELI']] = scale.fit_transform(\n",
    "    \n",
    "customer_data_aggregated_df_scaled[['BREAD', 'TOBACCO', 'CONFECTIONERY',\n",
    "       'DAIRY', 'EPAY/PHONECARD', 'FROZEN',\n",
    "       'FRUIT & VEG', 'FUEL DISCOUNT', 'GENERAL MERCH', 'GROCERY', 'H_AND_B',\n",
    "       'INSTORE BAKERY', 'LAUNDRY NEEDS', 'LOTTO', 'MEAT',\n",
    "       'MILK - FRESH', 'MAGAZINES', 'PET FOOD & ACC',\n",
    "       'SEASONAL LINES', 'SNACKFOODS', 'SOFT DRINKS','DELI']])"
   ]
  },
  {
   "cell_type": "code",
   "execution_count": 64,
   "id": "7a5fcd2a",
   "metadata": {},
   "outputs": [],
   "source": [
    "# scale the customer duration and sales (experimented with: mean=False and mean=True)\n",
    "scale = StandardScaler(with_mean=False)\n",
    "\n",
    "customer_data_aggregated_df_scaled[['cust_duration','sales','age']] = scale.fit_transform(\n",
    "customer_data_aggregated_df_scaled[['cust_duration','sales','age']])"
   ]
  },
  {
   "cell_type": "code",
   "execution_count": null,
   "id": "6e5caf79",
   "metadata": {},
   "outputs": [],
   "source": [
    "# could try standardising age with scaler & mean=True in subsequent iterations"
   ]
  },
  {
   "cell_type": "code",
   "execution_count": 65,
   "id": "6a735a32",
   "metadata": {},
   "outputs": [
    {
     "data": {
      "text/html": [
       "<div>\n",
       "<style scoped>\n",
       "    .dataframe tbody tr th:only-of-type {\n",
       "        vertical-align: middle;\n",
       "    }\n",
       "\n",
       "    .dataframe tbody tr th {\n",
       "        vertical-align: top;\n",
       "    }\n",
       "\n",
       "    .dataframe thead th {\n",
       "        text-align: right;\n",
       "    }\n",
       "</style>\n",
       "<table border=\"1\" class=\"dataframe\">\n",
       "  <thead>\n",
       "    <tr style=\"text-align: right;\">\n",
       "      <th></th>\n",
       "      <th>email_status</th>\n",
       "      <th>post_code</th>\n",
       "      <th>gender_unknown</th>\n",
       "      <th>male</th>\n",
       "      <th>female</th>\n",
       "      <th>age</th>\n",
       "      <th>cust_duration</th>\n",
       "      <th>sales</th>\n",
       "      <th>BREAD</th>\n",
       "      <th>TOBACCO</th>\n",
       "      <th>CONFECTIONERY</th>\n",
       "      <th>DAIRY</th>\n",
       "      <th>EPAY/PHONECARD</th>\n",
       "      <th>FROZEN</th>\n",
       "      <th>FRUIT &amp; VEG</th>\n",
       "      <th>FUEL DISCOUNT</th>\n",
       "      <th>GENERAL MERCH</th>\n",
       "      <th>GROCERY</th>\n",
       "      <th>H_AND_B</th>\n",
       "      <th>INSTORE BAKERY</th>\n",
       "      <th>LAUNDRY NEEDS</th>\n",
       "      <th>LOTTO</th>\n",
       "      <th>MEAT</th>\n",
       "      <th>MILK - FRESH</th>\n",
       "      <th>MAGAZINES</th>\n",
       "      <th>PET FOOD &amp; ACC</th>\n",
       "      <th>SEASONAL LINES</th>\n",
       "      <th>SNACKFOODS</th>\n",
       "      <th>SOFT DRINKS</th>\n",
       "      <th>DELI</th>\n",
       "    </tr>\n",
       "    <tr>\n",
       "      <th>card_num</th>\n",
       "      <th></th>\n",
       "      <th></th>\n",
       "      <th></th>\n",
       "      <th></th>\n",
       "      <th></th>\n",
       "      <th></th>\n",
       "      <th></th>\n",
       "      <th></th>\n",
       "      <th></th>\n",
       "      <th></th>\n",
       "      <th></th>\n",
       "      <th></th>\n",
       "      <th></th>\n",
       "      <th></th>\n",
       "      <th></th>\n",
       "      <th></th>\n",
       "      <th></th>\n",
       "      <th></th>\n",
       "      <th></th>\n",
       "      <th></th>\n",
       "      <th></th>\n",
       "      <th></th>\n",
       "      <th></th>\n",
       "      <th></th>\n",
       "      <th></th>\n",
       "      <th></th>\n",
       "      <th></th>\n",
       "      <th></th>\n",
       "      <th></th>\n",
       "      <th></th>\n",
       "    </tr>\n",
       "  </thead>\n",
       "  <tbody>\n",
       "    <tr>\n",
       "      <th>2710201787225</th>\n",
       "      <td>False</td>\n",
       "      <td>4,227.00</td>\n",
       "      <td>0</td>\n",
       "      <td>1</td>\n",
       "      <td>0</td>\n",
       "      <td>0.01</td>\n",
       "      <td>0.00</td>\n",
       "      <td>0.63</td>\n",
       "      <td>0.00</td>\n",
       "      <td>0.00</td>\n",
       "      <td>0.12</td>\n",
       "      <td>0.00</td>\n",
       "      <td>0.00</td>\n",
       "      <td>0.00</td>\n",
       "      <td>0.09</td>\n",
       "      <td>0.00</td>\n",
       "      <td>0.00</td>\n",
       "      <td>0.09</td>\n",
       "      <td>0.00</td>\n",
       "      <td>0.00</td>\n",
       "      <td>0.00</td>\n",
       "      <td>0.00</td>\n",
       "      <td>0.00</td>\n",
       "      <td>0.00</td>\n",
       "      <td>0.00</td>\n",
       "      <td>0.00</td>\n",
       "      <td>0.00</td>\n",
       "      <td>0.00</td>\n",
       "      <td>0.00</td>\n",
       "      <td>0.00</td>\n",
       "    </tr>\n",
       "    <tr>\n",
       "      <th>2710202677549</th>\n",
       "      <td>False</td>\n",
       "      <td>4,067.00</td>\n",
       "      <td>0</td>\n",
       "      <td>0</td>\n",
       "      <td>1</td>\n",
       "      <td>0.01</td>\n",
       "      <td>0.00</td>\n",
       "      <td>0.75</td>\n",
       "      <td>0.00</td>\n",
       "      <td>0.00</td>\n",
       "      <td>0.12</td>\n",
       "      <td>0.00</td>\n",
       "      <td>0.00</td>\n",
       "      <td>0.00</td>\n",
       "      <td>0.09</td>\n",
       "      <td>0.00</td>\n",
       "      <td>0.00</td>\n",
       "      <td>0.00</td>\n",
       "      <td>0.00</td>\n",
       "      <td>0.00</td>\n",
       "      <td>0.00</td>\n",
       "      <td>0.00</td>\n",
       "      <td>0.00</td>\n",
       "      <td>0.00</td>\n",
       "      <td>0.00</td>\n",
       "      <td>0.00</td>\n",
       "      <td>0.00</td>\n",
       "      <td>0.00</td>\n",
       "      <td>0.10</td>\n",
       "      <td>0.00</td>\n",
       "    </tr>\n",
       "    <tr>\n",
       "      <th>2710202683021</th>\n",
       "      <td>True</td>\n",
       "      <td>4,069.00</td>\n",
       "      <td>0</td>\n",
       "      <td>0</td>\n",
       "      <td>1</td>\n",
       "      <td>0.01</td>\n",
       "      <td>0.00</td>\n",
       "      <td>1.84</td>\n",
       "      <td>0.00</td>\n",
       "      <td>0.00</td>\n",
       "      <td>0.00</td>\n",
       "      <td>0.11</td>\n",
       "      <td>0.00</td>\n",
       "      <td>0.15</td>\n",
       "      <td>0.00</td>\n",
       "      <td>0.00</td>\n",
       "      <td>0.00</td>\n",
       "      <td>0.09</td>\n",
       "      <td>0.00</td>\n",
       "      <td>0.00</td>\n",
       "      <td>0.00</td>\n",
       "      <td>0.00</td>\n",
       "      <td>0.00</td>\n",
       "      <td>0.00</td>\n",
       "      <td>0.00</td>\n",
       "      <td>0.00</td>\n",
       "      <td>0.00</td>\n",
       "      <td>0.00</td>\n",
       "      <td>0.10</td>\n",
       "      <td>0.00</td>\n",
       "    </tr>\n",
       "    <tr>\n",
       "      <th>2710203126152</th>\n",
       "      <td>True</td>\n",
       "      <td>4,169.00</td>\n",
       "      <td>0</td>\n",
       "      <td>0</td>\n",
       "      <td>1</td>\n",
       "      <td>0.01</td>\n",
       "      <td>0.00</td>\n",
       "      <td>1.43</td>\n",
       "      <td>0.00</td>\n",
       "      <td>0.00</td>\n",
       "      <td>0.12</td>\n",
       "      <td>0.00</td>\n",
       "      <td>0.00</td>\n",
       "      <td>0.00</td>\n",
       "      <td>0.00</td>\n",
       "      <td>0.00</td>\n",
       "      <td>0.00</td>\n",
       "      <td>0.00</td>\n",
       "      <td>0.26</td>\n",
       "      <td>0.20</td>\n",
       "      <td>0.00</td>\n",
       "      <td>0.00</td>\n",
       "      <td>0.00</td>\n",
       "      <td>0.00</td>\n",
       "      <td>0.00</td>\n",
       "      <td>0.00</td>\n",
       "      <td>0.00</td>\n",
       "      <td>0.00</td>\n",
       "      <td>0.00</td>\n",
       "      <td>0.00</td>\n",
       "    </tr>\n",
       "    <tr>\n",
       "      <th>2710300512261</th>\n",
       "      <td>False</td>\n",
       "      <td>4,218.00</td>\n",
       "      <td>0</td>\n",
       "      <td>1</td>\n",
       "      <td>0</td>\n",
       "      <td>0.01</td>\n",
       "      <td>0.00</td>\n",
       "      <td>0.85</td>\n",
       "      <td>0.00</td>\n",
       "      <td>0.00</td>\n",
       "      <td>0.00</td>\n",
       "      <td>0.00</td>\n",
       "      <td>0.00</td>\n",
       "      <td>0.00</td>\n",
       "      <td>0.09</td>\n",
       "      <td>0.00</td>\n",
       "      <td>0.00</td>\n",
       "      <td>0.00</td>\n",
       "      <td>0.00</td>\n",
       "      <td>0.00</td>\n",
       "      <td>0.00</td>\n",
       "      <td>0.00</td>\n",
       "      <td>0.00</td>\n",
       "      <td>0.00</td>\n",
       "      <td>0.00</td>\n",
       "      <td>0.00</td>\n",
       "      <td>0.00</td>\n",
       "      <td>0.17</td>\n",
       "      <td>0.00</td>\n",
       "      <td>0.00</td>\n",
       "    </tr>\n",
       "  </tbody>\n",
       "</table>\n",
       "</div>"
      ],
      "text/plain": [
       "               email_status  post_code  gender_unknown  male  female  age  \\\n",
       "card_num                                                                    \n",
       "2710201787225         False   4,227.00               0     1       0 0.01   \n",
       "2710202677549         False   4,067.00               0     0       1 0.01   \n",
       "2710202683021          True   4,069.00               0     0       1 0.01   \n",
       "2710203126152          True   4,169.00               0     0       1 0.01   \n",
       "2710300512261         False   4,218.00               0     1       0 0.01   \n",
       "\n",
       "               cust_duration  sales  BREAD  TOBACCO  CONFECTIONERY  DAIRY  \\\n",
       "card_num                                                                    \n",
       "2710201787225           0.00   0.63   0.00     0.00           0.12   0.00   \n",
       "2710202677549           0.00   0.75   0.00     0.00           0.12   0.00   \n",
       "2710202683021           0.00   1.84   0.00     0.00           0.00   0.11   \n",
       "2710203126152           0.00   1.43   0.00     0.00           0.12   0.00   \n",
       "2710300512261           0.00   0.85   0.00     0.00           0.00   0.00   \n",
       "\n",
       "               EPAY/PHONECARD  FROZEN  FRUIT & VEG  FUEL DISCOUNT  \\\n",
       "card_num                                                            \n",
       "2710201787225            0.00    0.00         0.09           0.00   \n",
       "2710202677549            0.00    0.00         0.09           0.00   \n",
       "2710202683021            0.00    0.15         0.00           0.00   \n",
       "2710203126152            0.00    0.00         0.00           0.00   \n",
       "2710300512261            0.00    0.00         0.09           0.00   \n",
       "\n",
       "               GENERAL MERCH  GROCERY  H_AND_B  INSTORE BAKERY  LAUNDRY NEEDS  \\\n",
       "card_num                                                                        \n",
       "2710201787225           0.00     0.09     0.00            0.00           0.00   \n",
       "2710202677549           0.00     0.00     0.00            0.00           0.00   \n",
       "2710202683021           0.00     0.09     0.00            0.00           0.00   \n",
       "2710203126152           0.00     0.00     0.26            0.20           0.00   \n",
       "2710300512261           0.00     0.00     0.00            0.00           0.00   \n",
       "\n",
       "               LOTTO  MEAT  MILK - FRESH  MAGAZINES  PET FOOD & ACC  \\\n",
       "card_num                                                              \n",
       "2710201787225   0.00  0.00          0.00       0.00            0.00   \n",
       "2710202677549   0.00  0.00          0.00       0.00            0.00   \n",
       "2710202683021   0.00  0.00          0.00       0.00            0.00   \n",
       "2710203126152   0.00  0.00          0.00       0.00            0.00   \n",
       "2710300512261   0.00  0.00          0.00       0.00            0.00   \n",
       "\n",
       "               SEASONAL LINES  SNACKFOODS  SOFT DRINKS  DELI  \n",
       "card_num                                                      \n",
       "2710201787225            0.00        0.00         0.00  0.00  \n",
       "2710202677549            0.00        0.00         0.10  0.00  \n",
       "2710202683021            0.00        0.00         0.10  0.00  \n",
       "2710203126152            0.00        0.00         0.00  0.00  \n",
       "2710300512261            0.00        0.17         0.00  0.00  "
      ]
     },
     "execution_count": 65,
     "metadata": {},
     "output_type": "execute_result"
    }
   ],
   "source": [
    "#E.G. of the scaled department variables but with the sparse matrix format preserved by the transformation\n",
    "customer_data_aggregated_df_scaled.head()"
   ]
  },
  {
   "cell_type": "code",
   "execution_count": null,
   "id": "9968d602",
   "metadata": {},
   "outputs": [],
   "source": []
  },
  {
   "cell_type": "code",
   "execution_count": null,
   "id": "f57ec43e",
   "metadata": {},
   "outputs": [],
   "source": []
  },
  {
   "cell_type": "markdown",
   "id": "d3a8ecbe",
   "metadata": {},
   "source": [
    "## HOT ENCODING / DUMMY VARIABLE FOR POST-CODE\n"
   ]
  },
  {
   "cell_type": "code",
   "execution_count": 49,
   "id": "9c2233a4",
   "metadata": {},
   "outputs": [],
   "source": [
    "# scale the customer duration and sales (experimented with: mean=False and mean=True)\n",
    "#scale = StandardScaler(with_mean=False)\n",
    "\n",
    "#customer_data_aggregated_df_scaled[['post_code']] = scale.fit_transform(\n",
    "#customer_data_aggregated_df_scaled[['post_code']])"
   ]
  },
  {
   "cell_type": "code",
   "execution_count": 68,
   "id": "53f71b6c",
   "metadata": {},
   "outputs": [],
   "source": [
    "# create department-labeled dummy variables for each department\n",
    "postcode_dummies = pd.get_dummies(customer_data_aggregated_df_scaled.post_code)"
   ]
  },
  {
   "cell_type": "code",
   "execution_count": null,
   "id": "125e60d4",
   "metadata": {},
   "outputs": [],
   "source": [
    "# merge onto the main DF with the data\n",
    "weekly_customer_dep_dummies = pd.concat([weekly_customer_fulldf, \n",
    "                                        dep_dummies], axis=1)"
   ]
  },
  {
   "cell_type": "code",
   "execution_count": 71,
   "id": "46eb384a",
   "metadata": {},
   "outputs": [],
   "source": [
    "customer_data_aggregated_df_scaled_2 = pd.concat([customer_data_aggregated_df_scaled, postcode_dummies], axis=1)"
   ]
  },
  {
   "cell_type": "code",
   "execution_count": 73,
   "id": "0bfcb8f6",
   "metadata": {},
   "outputs": [],
   "source": [
    "# change name back to keep consistency; could refactor variable names later \n",
    "customer_data_aggregated_df_scaled = customer_data_aggregated_df_scaled_2.copy()"
   ]
  },
  {
   "cell_type": "code",
   "execution_count": null,
   "id": "1e2fddf2",
   "metadata": {},
   "outputs": [],
   "source": []
  },
  {
   "cell_type": "code",
   "execution_count": null,
   "id": "912b70b3",
   "metadata": {},
   "outputs": [],
   "source": []
  },
  {
   "cell_type": "markdown",
   "id": "93ea985e",
   "metadata": {},
   "source": [
    "## CREATE THE (y) VARIABLE TO BE PREDICTED: (email_status) \n",
    "* Eventually, drop this variable from the main DF into its own DF so that the data can predict the outcome variable "
   ]
  },
  {
   "cell_type": "code",
   "execution_count": 75,
   "id": "fd314b9b",
   "metadata": {},
   "outputs": [],
   "source": [
    "# define the series from the main DF\n",
    "y_emailstatus = customer_data_aggregated_df_scaled['email_status']"
   ]
  },
  {
   "cell_type": "markdown",
   "id": "f9ba956b",
   "metadata": {},
   "source": [
    "#### Convert the boolean (True/False) to (1, 0)\n",
    "* WHERE:\n",
    "    * 1 = True \n",
    "    * 0 = False"
   ]
  },
  {
   "cell_type": "code",
   "execution_count": 76,
   "id": "78d8605d",
   "metadata": {},
   "outputs": [],
   "source": [
    "# this can be achieved by * (1) for each element; \n",
    "y_emailstatus = y_emailstatus*1"
   ]
  },
  {
   "cell_type": "code",
   "execution_count": 77,
   "id": "780c0cab",
   "metadata": {},
   "outputs": [
    {
     "name": "stdout",
     "output_type": "stream",
     "text": [
      "unique customers in sample: 170\n"
     ]
    }
   ],
   "source": [
    "print(\"unique customers in sample: {}\".format(len(y_emailstatus)))"
   ]
  },
  {
   "cell_type": "code",
   "execution_count": 80,
   "id": "8ce5d568",
   "metadata": {},
   "outputs": [],
   "source": [
    "# rename the sales variable to more accurately reflect what it is now\n",
    "customer_data_aggregated_df_scaled = customer_data_aggregated_df_scaled.rename(columns={'sales':'avg_sales'})"
   ]
  },
  {
   "cell_type": "code",
   "execution_count": 81,
   "id": "9e89a738",
   "metadata": {},
   "outputs": [],
   "source": [
    "#(AFTER ITERATION) dropped deli-retail & realised \"fuel_discount\" should have already been dropped (neg values; no intuition)\n",
    "customer_data_aggregated_df_scaled.drop(['FUEL DISCOUNT'], axis=1, inplace=True)"
   ]
  },
  {
   "cell_type": "code",
   "execution_count": 82,
   "id": "2617b969",
   "metadata": {},
   "outputs": [
    {
     "data": {
      "text/html": [
       "<div>\n",
       "<style scoped>\n",
       "    .dataframe tbody tr th:only-of-type {\n",
       "        vertical-align: middle;\n",
       "    }\n",
       "\n",
       "    .dataframe tbody tr th {\n",
       "        vertical-align: top;\n",
       "    }\n",
       "\n",
       "    .dataframe thead th {\n",
       "        text-align: right;\n",
       "    }\n",
       "</style>\n",
       "<table border=\"1\" class=\"dataframe\">\n",
       "  <thead>\n",
       "    <tr style=\"text-align: right;\">\n",
       "      <th></th>\n",
       "      <th>email_status</th>\n",
       "      <th>post_code</th>\n",
       "      <th>gender_unknown</th>\n",
       "      <th>male</th>\n",
       "      <th>female</th>\n",
       "      <th>age</th>\n",
       "      <th>cust_duration</th>\n",
       "      <th>avg_sales</th>\n",
       "      <th>BREAD</th>\n",
       "      <th>TOBACCO</th>\n",
       "      <th>CONFECTIONERY</th>\n",
       "      <th>DAIRY</th>\n",
       "      <th>EPAY/PHONECARD</th>\n",
       "      <th>FROZEN</th>\n",
       "      <th>FRUIT &amp; VEG</th>\n",
       "      <th>GENERAL MERCH</th>\n",
       "      <th>GROCERY</th>\n",
       "      <th>H_AND_B</th>\n",
       "      <th>INSTORE BAKERY</th>\n",
       "      <th>LAUNDRY NEEDS</th>\n",
       "      <th>LOTTO</th>\n",
       "      <th>MEAT</th>\n",
       "      <th>MILK - FRESH</th>\n",
       "      <th>MAGAZINES</th>\n",
       "      <th>PET FOOD &amp; ACC</th>\n",
       "      <th>SEASONAL LINES</th>\n",
       "      <th>SNACKFOODS</th>\n",
       "      <th>SOFT DRINKS</th>\n",
       "      <th>DELI</th>\n",
       "      <th>2486.0</th>\n",
       "      <th>2489.0</th>\n",
       "      <th>4067.0</th>\n",
       "      <th>4069.0</th>\n",
       "      <th>4169.0</th>\n",
       "      <th>4210.0</th>\n",
       "      <th>4211.0</th>\n",
       "      <th>4213.0</th>\n",
       "      <th>4214.0</th>\n",
       "      <th>4215.0</th>\n",
       "      <th>4218.0</th>\n",
       "      <th>4220.0</th>\n",
       "      <th>4226.0</th>\n",
       "      <th>4227.0</th>\n",
       "      <th>4361.0</th>\n",
       "      <th>4370.0</th>\n",
       "      <th>4380.0</th>\n",
       "      <th>4849.0</th>\n",
       "    </tr>\n",
       "    <tr>\n",
       "      <th>card_num</th>\n",
       "      <th></th>\n",
       "      <th></th>\n",
       "      <th></th>\n",
       "      <th></th>\n",
       "      <th></th>\n",
       "      <th></th>\n",
       "      <th></th>\n",
       "      <th></th>\n",
       "      <th></th>\n",
       "      <th></th>\n",
       "      <th></th>\n",
       "      <th></th>\n",
       "      <th></th>\n",
       "      <th></th>\n",
       "      <th></th>\n",
       "      <th></th>\n",
       "      <th></th>\n",
       "      <th></th>\n",
       "      <th></th>\n",
       "      <th></th>\n",
       "      <th></th>\n",
       "      <th></th>\n",
       "      <th></th>\n",
       "      <th></th>\n",
       "      <th></th>\n",
       "      <th></th>\n",
       "      <th></th>\n",
       "      <th></th>\n",
       "      <th></th>\n",
       "      <th></th>\n",
       "      <th></th>\n",
       "      <th></th>\n",
       "      <th></th>\n",
       "      <th></th>\n",
       "      <th></th>\n",
       "      <th></th>\n",
       "      <th></th>\n",
       "      <th></th>\n",
       "      <th></th>\n",
       "      <th></th>\n",
       "      <th></th>\n",
       "      <th></th>\n",
       "      <th></th>\n",
       "      <th></th>\n",
       "      <th></th>\n",
       "      <th></th>\n",
       "      <th></th>\n",
       "    </tr>\n",
       "  </thead>\n",
       "  <tbody>\n",
       "    <tr>\n",
       "      <th>2710201787225</th>\n",
       "      <td>False</td>\n",
       "      <td>4,227.00</td>\n",
       "      <td>0</td>\n",
       "      <td>1</td>\n",
       "      <td>0</td>\n",
       "      <td>0.01</td>\n",
       "      <td>0.00</td>\n",
       "      <td>0.63</td>\n",
       "      <td>0.00</td>\n",
       "      <td>0.00</td>\n",
       "      <td>0.12</td>\n",
       "      <td>0.00</td>\n",
       "      <td>0.00</td>\n",
       "      <td>0.00</td>\n",
       "      <td>0.09</td>\n",
       "      <td>0.00</td>\n",
       "      <td>0.09</td>\n",
       "      <td>0.00</td>\n",
       "      <td>0.00</td>\n",
       "      <td>0.00</td>\n",
       "      <td>0.00</td>\n",
       "      <td>0.00</td>\n",
       "      <td>0.00</td>\n",
       "      <td>0.00</td>\n",
       "      <td>0.00</td>\n",
       "      <td>0.00</td>\n",
       "      <td>0.00</td>\n",
       "      <td>0.00</td>\n",
       "      <td>0.00</td>\n",
       "      <td>0</td>\n",
       "      <td>0</td>\n",
       "      <td>0</td>\n",
       "      <td>0</td>\n",
       "      <td>0</td>\n",
       "      <td>0</td>\n",
       "      <td>0</td>\n",
       "      <td>0</td>\n",
       "      <td>0</td>\n",
       "      <td>0</td>\n",
       "      <td>0</td>\n",
       "      <td>0</td>\n",
       "      <td>0</td>\n",
       "      <td>1</td>\n",
       "      <td>0</td>\n",
       "      <td>0</td>\n",
       "      <td>0</td>\n",
       "      <td>0</td>\n",
       "    </tr>\n",
       "    <tr>\n",
       "      <th>2710202677549</th>\n",
       "      <td>False</td>\n",
       "      <td>4,067.00</td>\n",
       "      <td>0</td>\n",
       "      <td>0</td>\n",
       "      <td>1</td>\n",
       "      <td>0.01</td>\n",
       "      <td>0.00</td>\n",
       "      <td>0.75</td>\n",
       "      <td>0.00</td>\n",
       "      <td>0.00</td>\n",
       "      <td>0.12</td>\n",
       "      <td>0.00</td>\n",
       "      <td>0.00</td>\n",
       "      <td>0.00</td>\n",
       "      <td>0.09</td>\n",
       "      <td>0.00</td>\n",
       "      <td>0.00</td>\n",
       "      <td>0.00</td>\n",
       "      <td>0.00</td>\n",
       "      <td>0.00</td>\n",
       "      <td>0.00</td>\n",
       "      <td>0.00</td>\n",
       "      <td>0.00</td>\n",
       "      <td>0.00</td>\n",
       "      <td>0.00</td>\n",
       "      <td>0.00</td>\n",
       "      <td>0.00</td>\n",
       "      <td>0.10</td>\n",
       "      <td>0.00</td>\n",
       "      <td>0</td>\n",
       "      <td>0</td>\n",
       "      <td>1</td>\n",
       "      <td>0</td>\n",
       "      <td>0</td>\n",
       "      <td>0</td>\n",
       "      <td>0</td>\n",
       "      <td>0</td>\n",
       "      <td>0</td>\n",
       "      <td>0</td>\n",
       "      <td>0</td>\n",
       "      <td>0</td>\n",
       "      <td>0</td>\n",
       "      <td>0</td>\n",
       "      <td>0</td>\n",
       "      <td>0</td>\n",
       "      <td>0</td>\n",
       "      <td>0</td>\n",
       "    </tr>\n",
       "    <tr>\n",
       "      <th>2710202683021</th>\n",
       "      <td>True</td>\n",
       "      <td>4,069.00</td>\n",
       "      <td>0</td>\n",
       "      <td>0</td>\n",
       "      <td>1</td>\n",
       "      <td>0.01</td>\n",
       "      <td>0.00</td>\n",
       "      <td>1.84</td>\n",
       "      <td>0.00</td>\n",
       "      <td>0.00</td>\n",
       "      <td>0.00</td>\n",
       "      <td>0.11</td>\n",
       "      <td>0.00</td>\n",
       "      <td>0.15</td>\n",
       "      <td>0.00</td>\n",
       "      <td>0.00</td>\n",
       "      <td>0.09</td>\n",
       "      <td>0.00</td>\n",
       "      <td>0.00</td>\n",
       "      <td>0.00</td>\n",
       "      <td>0.00</td>\n",
       "      <td>0.00</td>\n",
       "      <td>0.00</td>\n",
       "      <td>0.00</td>\n",
       "      <td>0.00</td>\n",
       "      <td>0.00</td>\n",
       "      <td>0.00</td>\n",
       "      <td>0.10</td>\n",
       "      <td>0.00</td>\n",
       "      <td>0</td>\n",
       "      <td>0</td>\n",
       "      <td>0</td>\n",
       "      <td>1</td>\n",
       "      <td>0</td>\n",
       "      <td>0</td>\n",
       "      <td>0</td>\n",
       "      <td>0</td>\n",
       "      <td>0</td>\n",
       "      <td>0</td>\n",
       "      <td>0</td>\n",
       "      <td>0</td>\n",
       "      <td>0</td>\n",
       "      <td>0</td>\n",
       "      <td>0</td>\n",
       "      <td>0</td>\n",
       "      <td>0</td>\n",
       "      <td>0</td>\n",
       "    </tr>\n",
       "    <tr>\n",
       "      <th>2710203126152</th>\n",
       "      <td>True</td>\n",
       "      <td>4,169.00</td>\n",
       "      <td>0</td>\n",
       "      <td>0</td>\n",
       "      <td>1</td>\n",
       "      <td>0.01</td>\n",
       "      <td>0.00</td>\n",
       "      <td>1.43</td>\n",
       "      <td>0.00</td>\n",
       "      <td>0.00</td>\n",
       "      <td>0.12</td>\n",
       "      <td>0.00</td>\n",
       "      <td>0.00</td>\n",
       "      <td>0.00</td>\n",
       "      <td>0.00</td>\n",
       "      <td>0.00</td>\n",
       "      <td>0.00</td>\n",
       "      <td>0.26</td>\n",
       "      <td>0.20</td>\n",
       "      <td>0.00</td>\n",
       "      <td>0.00</td>\n",
       "      <td>0.00</td>\n",
       "      <td>0.00</td>\n",
       "      <td>0.00</td>\n",
       "      <td>0.00</td>\n",
       "      <td>0.00</td>\n",
       "      <td>0.00</td>\n",
       "      <td>0.00</td>\n",
       "      <td>0.00</td>\n",
       "      <td>0</td>\n",
       "      <td>0</td>\n",
       "      <td>0</td>\n",
       "      <td>0</td>\n",
       "      <td>1</td>\n",
       "      <td>0</td>\n",
       "      <td>0</td>\n",
       "      <td>0</td>\n",
       "      <td>0</td>\n",
       "      <td>0</td>\n",
       "      <td>0</td>\n",
       "      <td>0</td>\n",
       "      <td>0</td>\n",
       "      <td>0</td>\n",
       "      <td>0</td>\n",
       "      <td>0</td>\n",
       "      <td>0</td>\n",
       "      <td>0</td>\n",
       "    </tr>\n",
       "    <tr>\n",
       "      <th>2710300512261</th>\n",
       "      <td>False</td>\n",
       "      <td>4,218.00</td>\n",
       "      <td>0</td>\n",
       "      <td>1</td>\n",
       "      <td>0</td>\n",
       "      <td>0.01</td>\n",
       "      <td>0.00</td>\n",
       "      <td>0.85</td>\n",
       "      <td>0.00</td>\n",
       "      <td>0.00</td>\n",
       "      <td>0.00</td>\n",
       "      <td>0.00</td>\n",
       "      <td>0.00</td>\n",
       "      <td>0.00</td>\n",
       "      <td>0.09</td>\n",
       "      <td>0.00</td>\n",
       "      <td>0.00</td>\n",
       "      <td>0.00</td>\n",
       "      <td>0.00</td>\n",
       "      <td>0.00</td>\n",
       "      <td>0.00</td>\n",
       "      <td>0.00</td>\n",
       "      <td>0.00</td>\n",
       "      <td>0.00</td>\n",
       "      <td>0.00</td>\n",
       "      <td>0.00</td>\n",
       "      <td>0.17</td>\n",
       "      <td>0.00</td>\n",
       "      <td>0.00</td>\n",
       "      <td>0</td>\n",
       "      <td>0</td>\n",
       "      <td>0</td>\n",
       "      <td>0</td>\n",
       "      <td>0</td>\n",
       "      <td>0</td>\n",
       "      <td>0</td>\n",
       "      <td>0</td>\n",
       "      <td>0</td>\n",
       "      <td>0</td>\n",
       "      <td>1</td>\n",
       "      <td>0</td>\n",
       "      <td>0</td>\n",
       "      <td>0</td>\n",
       "      <td>0</td>\n",
       "      <td>0</td>\n",
       "      <td>0</td>\n",
       "      <td>0</td>\n",
       "    </tr>\n",
       "  </tbody>\n",
       "</table>\n",
       "</div>"
      ],
      "text/plain": [
       "               email_status  post_code  gender_unknown  male  female  age  \\\n",
       "card_num                                                                    \n",
       "2710201787225         False   4,227.00               0     1       0 0.01   \n",
       "2710202677549         False   4,067.00               0     0       1 0.01   \n",
       "2710202683021          True   4,069.00               0     0       1 0.01   \n",
       "2710203126152          True   4,169.00               0     0       1 0.01   \n",
       "2710300512261         False   4,218.00               0     1       0 0.01   \n",
       "\n",
       "               cust_duration  avg_sales  BREAD  TOBACCO  CONFECTIONERY  DAIRY  \\\n",
       "card_num                                                                        \n",
       "2710201787225           0.00       0.63   0.00     0.00           0.12   0.00   \n",
       "2710202677549           0.00       0.75   0.00     0.00           0.12   0.00   \n",
       "2710202683021           0.00       1.84   0.00     0.00           0.00   0.11   \n",
       "2710203126152           0.00       1.43   0.00     0.00           0.12   0.00   \n",
       "2710300512261           0.00       0.85   0.00     0.00           0.00   0.00   \n",
       "\n",
       "               EPAY/PHONECARD  FROZEN  FRUIT & VEG  GENERAL MERCH  GROCERY  \\\n",
       "card_num                                                                     \n",
       "2710201787225            0.00    0.00         0.09           0.00     0.09   \n",
       "2710202677549            0.00    0.00         0.09           0.00     0.00   \n",
       "2710202683021            0.00    0.15         0.00           0.00     0.09   \n",
       "2710203126152            0.00    0.00         0.00           0.00     0.00   \n",
       "2710300512261            0.00    0.00         0.09           0.00     0.00   \n",
       "\n",
       "               H_AND_B  INSTORE BAKERY  LAUNDRY NEEDS  LOTTO  MEAT  \\\n",
       "card_num                                                             \n",
       "2710201787225     0.00            0.00           0.00   0.00  0.00   \n",
       "2710202677549     0.00            0.00           0.00   0.00  0.00   \n",
       "2710202683021     0.00            0.00           0.00   0.00  0.00   \n",
       "2710203126152     0.26            0.20           0.00   0.00  0.00   \n",
       "2710300512261     0.00            0.00           0.00   0.00  0.00   \n",
       "\n",
       "               MILK - FRESH  MAGAZINES  PET FOOD & ACC  SEASONAL LINES  \\\n",
       "card_num                                                                 \n",
       "2710201787225          0.00       0.00            0.00            0.00   \n",
       "2710202677549          0.00       0.00            0.00            0.00   \n",
       "2710202683021          0.00       0.00            0.00            0.00   \n",
       "2710203126152          0.00       0.00            0.00            0.00   \n",
       "2710300512261          0.00       0.00            0.00            0.00   \n",
       "\n",
       "               SNACKFOODS  SOFT DRINKS  DELI  2486.0  2489.0  4067.0  4069.0  \\\n",
       "card_num                                                                       \n",
       "2710201787225        0.00         0.00  0.00       0       0       0       0   \n",
       "2710202677549        0.00         0.10  0.00       0       0       1       0   \n",
       "2710202683021        0.00         0.10  0.00       0       0       0       1   \n",
       "2710203126152        0.00         0.00  0.00       0       0       0       0   \n",
       "2710300512261        0.17         0.00  0.00       0       0       0       0   \n",
       "\n",
       "               4169.0  4210.0  4211.0  4213.0  4214.0  4215.0  4218.0  4220.0  \\\n",
       "card_num                                                                        \n",
       "2710201787225       0       0       0       0       0       0       0       0   \n",
       "2710202677549       0       0       0       0       0       0       0       0   \n",
       "2710202683021       0       0       0       0       0       0       0       0   \n",
       "2710203126152       1       0       0       0       0       0       0       0   \n",
       "2710300512261       0       0       0       0       0       0       1       0   \n",
       "\n",
       "               4226.0  4227.0  4361.0  4370.0  4380.0  4849.0  \n",
       "card_num                                                       \n",
       "2710201787225       0       1       0       0       0       0  \n",
       "2710202677549       0       0       0       0       0       0  \n",
       "2710202683021       0       0       0       0       0       0  \n",
       "2710203126152       0       0       0       0       0       0  \n",
       "2710300512261       0       0       0       0       0       0  "
      ]
     },
     "execution_count": 82,
     "metadata": {},
     "output_type": "execute_result"
    }
   ],
   "source": [
    "# E.G. final DF: \n",
    "customer_data_aggregated_df_scaled.head()"
   ]
  },
  {
   "cell_type": "code",
   "execution_count": null,
   "id": "091c4436",
   "metadata": {},
   "outputs": [],
   "source": []
  },
  {
   "cell_type": "code",
   "execution_count": null,
   "id": "ebb2d85f",
   "metadata": {},
   "outputs": [],
   "source": []
  },
  {
   "cell_type": "markdown",
   "id": "12189b30",
   "metadata": {},
   "source": [
    "### pickle the featured-created DF for the classification models:"
   ]
  },
  {
   "cell_type": "code",
   "execution_count": 83,
   "id": "cc995cfc",
   "metadata": {},
   "outputs": [],
   "source": [
    "# PICKLE OBJECTS\n",
    "\n",
    "#customer_data_aggregated_df_scaled.to_pickle(\"./customer_data_aggregated_df_scaled.pkl\")\n",
    "customer_data_aggregated_df_scaled = pd.read_pickle(\"./customer_data_aggregated_df_scaled.pkl\") \n",
    "#y_emailstatus.to_pickle(\"./y_emailstatus.pkl\")\n",
    "y_emailstatus = pd.read_pickle(\"./y_emailstatus.pkl\")"
   ]
  },
  {
   "cell_type": "code",
   "execution_count": null,
   "id": "181292f5",
   "metadata": {},
   "outputs": [],
   "source": []
  },
  {
   "cell_type": "code",
   "execution_count": null,
   "id": "a4b00c62",
   "metadata": {},
   "outputs": [],
   "source": []
  },
  {
   "cell_type": "markdown",
   "id": "3e3ea806",
   "metadata": {},
   "source": [
    "## HANDLING THE EXTREME CLASS IMBALANCE PROBLEM: UP-SAMPLE MINORITY CLASS\n",
    "* Tried both up-sampling minority and down-sampling majority class; found the up-sampling method to be superior"
   ]
  },
  {
   "cell_type": "code",
   "execution_count": 85,
   "id": "2aa2f95f",
   "metadata": {},
   "outputs": [],
   "source": [
    "# import sklearns utils function for resampling with replacement\n",
    "from sklearn.utils import resample"
   ]
  },
  {
   "cell_type": "code",
   "execution_count": 87,
   "id": "86c33a9b",
   "metadata": {},
   "outputs": [],
   "source": [
    "# define the y_series from the column in the DF\n",
    "customer_data_aggregated_df_scaled['y_emailstatus'] = y_emailstatus"
   ]
  },
  {
   "cell_type": "code",
   "execution_count": 89,
   "id": "d915faec",
   "metadata": {},
   "outputs": [
    {
     "data": {
      "text/plain": [
       "1    120\n",
       "0     50\n",
       "Name: email_status, dtype: int64"
      ]
     },
     "execution_count": 89,
     "metadata": {},
     "output_type": "execute_result"
    }
   ],
   "source": [
    "# 120 to the majority class (email=True) Vs. 50 (email=False)\n",
    "y_emailstatus.value_counts()"
   ]
  },
  {
   "cell_type": "code",
   "execution_count": 88,
   "id": "2e88df0f",
   "metadata": {},
   "outputs": [],
   "source": [
    "# split the data into two separate DF based off majority and minority classes\n",
    "customer_majority = customer_data_aggregated_df_scaled[\n",
    "    customer_data_aggregated_df_scaled.y_emailstatus==1]\n",
    "\n",
    "customer_minority = customer_data_aggregated_df_scaled[\n",
    "    customer_data_aggregated_df_scaled.y_emailstatus==0]"
   ]
  },
  {
   "cell_type": "code",
   "execution_count": 92,
   "id": "f107f488",
   "metadata": {},
   "outputs": [],
   "source": [
    "# upsample the minority class with replacement to match the length of the majority class (120)\n",
    "customer_data_minority_upsampled = resample(customer_minority,\n",
    "                                                         replace=True,\n",
    "                                                         n_samples=y_emailstatus.value_counts()[1],\n",
    "                                                         random_state=123)"
   ]
  },
  {
   "cell_type": "code",
   "execution_count": 93,
   "id": "1502acc1",
   "metadata": {},
   "outputs": [],
   "source": [
    "# re-join the now upsampled minority class with the original majority class \n",
    "# should now be balanced (120:120)\n",
    "customer_majority_upsampled_df = pd.concat([customer_data_minority_upsampled, customer_majority])"
   ]
  },
  {
   "cell_type": "code",
   "execution_count": 95,
   "id": "566f619a",
   "metadata": {},
   "outputs": [],
   "source": [
    "# pickle DF [optional]\n",
    "\n",
    "#customer_majority_upsampled_df.to_pickle(\"./customer_majority_upsampled_df.pkl\")\n",
    "customer_majority_upsampled_df = pd.read_pickle(\"./customer_majority_upsampled_df.pkl\") "
   ]
  },
  {
   "cell_type": "code",
   "execution_count": null,
   "id": "50d33d32",
   "metadata": {},
   "outputs": [],
   "source": []
  },
  {
   "cell_type": "code",
   "execution_count": null,
   "id": "f15efe19",
   "metadata": {},
   "outputs": [],
   "source": []
  },
  {
   "cell_type": "markdown",
   "id": "90ea7345",
   "metadata": {},
   "source": [
    "## POST PICKLE IMPORT DROPS"
   ]
  },
  {
   "cell_type": "code",
   "execution_count": 97,
   "id": "57a23b1e",
   "metadata": {},
   "outputs": [],
   "source": [
    "# check the two classes sizes again\n",
    "y_emailstatus_upsampled = customer_majority_upsampled_df['y_emailstatus']"
   ]
  },
  {
   "cell_type": "code",
   "execution_count": 98,
   "id": "d035ea79",
   "metadata": {},
   "outputs": [
    {
     "data": {
      "text/plain": [
       "0    120\n",
       "1    120\n",
       "Name: y_emailstatus, dtype: int64"
      ]
     },
     "execution_count": 98,
     "metadata": {},
     "output_type": "execute_result"
    }
   ],
   "source": [
    "# we see the two classes are now balanced for the classification models\n",
    "y_emailstatus_upsampled.value_counts()"
   ]
  },
  {
   "cell_type": "code",
   "execution_count": 99,
   "id": "3543bc27",
   "metadata": {},
   "outputs": [],
   "source": [
    "# drop the now encoded variable: post_code & the y_variable (email_status) (as it will be the predicted series)\n",
    "customer_majority_upsampled_df = customer_majority_upsampled_df.drop(['email_status','y_emailstatus', 'post_code'], axis=1)"
   ]
  },
  {
   "cell_type": "code",
   "execution_count": null,
   "id": "f872e8d7",
   "metadata": {},
   "outputs": [],
   "source": []
  },
  {
   "cell_type": "markdown",
   "id": "9e908884",
   "metadata": {},
   "source": [
    "## CREATE THE TRAIN-TEST SPLIT FOR CLASSIFICATION MODELS"
   ]
  },
  {
   "cell_type": "code",
   "execution_count": 108,
   "id": "df9b6b45",
   "metadata": {},
   "outputs": [],
   "source": [
    "#test-train split (OG)\n",
    "X_train, X_test, y_train, y_test = train_test_split(customer_majority_upsampled_df, \n",
    "                                                   y_emailstatus_upsampled, test_size = 0.2, random_state=42)"
   ]
  },
  {
   "cell_type": "code",
   "execution_count": 109,
   "id": "0dd2b6c3",
   "metadata": {},
   "outputs": [
    {
     "name": "stdout",
     "output_type": "stream",
     "text": [
      "X_train len: 192\n",
      "X_test len: 48\n",
      "Y_train len: 192\n",
      "Y_test len: 48\n"
     ]
    }
   ],
   "source": [
    "# DF DETAILS \n",
    "print(\"X_train len: {}\".format(len(X_train)))\n",
    "print(\"X_test len: {}\".format(len(X_test)))\n",
    "print(\"Y_train len: {}\".format(len(y_train)))\n",
    "print(\"Y_test len: {}\".format(len(y_test)))"
   ]
  },
  {
   "cell_type": "code",
   "execution_count": 110,
   "id": "004bfb1a",
   "metadata": {},
   "outputs": [
    {
     "data": {
      "text/plain": [
       "(192,)"
      ]
     },
     "execution_count": 110,
     "metadata": {},
     "output_type": "execute_result"
    }
   ],
   "source": [
    "# univaraite series to be \"classified\" / predicted \n",
    "y_train.shape"
   ]
  },
  {
   "cell_type": "code",
   "execution_count": 111,
   "id": "13c9dce3",
   "metadata": {},
   "outputs": [
    {
     "data": {
      "text/plain": [
       "(192, 45)"
      ]
     },
     "execution_count": 111,
     "metadata": {},
     "output_type": "execute_result"
    }
   ],
   "source": [
    "# number of features in the data to create the predictions (45) and based of 192 rows of customer data \n",
    "X_train.shape"
   ]
  },
  {
   "cell_type": "code",
   "execution_count": null,
   "id": "e5cf8582",
   "metadata": {},
   "outputs": [],
   "source": []
  },
  {
   "cell_type": "code",
   "execution_count": null,
   "id": "15bd4a3a",
   "metadata": {},
   "outputs": [],
   "source": []
  },
  {
   "cell_type": "markdown",
   "id": "7feef191",
   "metadata": {},
   "source": [
    "<a id='models'></a>\n",
    "\n",
    "# CLASSIFICATION MODELS \n",
    "\n",
    "#### BROAD PROCEDURE\n",
    "* Import packages\n",
    "* Before initial un-tuned model testing & cross-validation to get an overview \n",
    "* Tune models (Ex. Naive Bayes) \n",
    "* Make predictions on test set to get accuracy score of tuned models \n",
    "* Results visualisation & summary"
   ]
  },
  {
   "cell_type": "code",
   "execution_count": 104,
   "id": "f10cc74b",
   "metadata": {},
   "outputs": [],
   "source": [
    "# import model packages \n",
    "from sklearn.ensemble import VotingClassifier\n",
    "from sklearn.model_selection import cross_val_score\n",
    "from sklearn.naive_bayes import GaussianNB\n",
    "from sklearn.linear_model import LogisticRegression\n",
    "from sklearn import tree\n",
    "from sklearn.neighbors import KNeighborsClassifier\n",
    "from sklearn.ensemble import RandomForestClassifier\n",
    "from xgboost import XGBClassifier\n",
    "from sklearn.svm import SVC # support vector classifier\n",
    "from sklearn.metrics import roc_auc_score"
   ]
  },
  {
   "cell_type": "code",
   "execution_count": null,
   "id": "4c25b606",
   "metadata": {},
   "outputs": [],
   "source": []
  },
  {
   "cell_type": "markdown",
   "id": "9742ce72",
   "metadata": {},
   "source": [
    "# CROSS VALIDATION\n",
    "* Get a broader-view of the performance/accuracy of the different models before actually extracting the predictions from tuned models for real use \n",
    "\n",
    "### UN-TUNED MODELS TO TEST INITIALLY: \n",
    "* Naive Bayes\n",
    "    * Baseline classification prediction\n",
    "* Logistic Regression\n",
    "* Decision Tree Classifier\n",
    "* Random Forest Classifier \n",
    "* K-Nearest Neighbors \n",
    "* Support Vector Classifier \n",
    "* XGBoost Classifier \n",
    "* (Soft) Voting Classifier "
   ]
  },
  {
   "cell_type": "code",
   "execution_count": 115,
   "id": "ab4b5da2",
   "metadata": {},
   "outputs": [],
   "source": [
    "# initalise dictionary to store and later, quickly summarise the results of a few different classifiers \n",
    "cv_results_dict = {}"
   ]
  },
  {
   "cell_type": "code",
   "execution_count": null,
   "id": "1aaf04a7",
   "metadata": {},
   "outputs": [],
   "source": []
  },
  {
   "cell_type": "markdown",
   "id": "d5f8fd88",
   "metadata": {},
   "source": [
    "## NAIVE BAYES -- BASELINE CLASSIFICATION PREDICTION"
   ]
  },
  {
   "cell_type": "code",
   "execution_count": 116,
   "id": "29319c33",
   "metadata": {},
   "outputs": [
    {
     "name": "stdout",
     "output_type": "stream",
     "text": [
      "[0.56 0.54 0.58 0.58 0.58] \n",
      " ---------------------------------------- \n",
      " CV MEAN:  0.5679\n"
     ]
    }
   ],
   "source": [
    "# initialise model instance \n",
    "gnb = GaussianNB()\n",
    "\n",
    "# pass in 5 cross-validations (randomly samples from training data and predicts on that model there)\n",
    "cv = cross_val_score(gnb, \n",
    "                     X_train, y_train, cv=5)\n",
    "\n",
    "# print cross-validation iterations & mean\n",
    "print(cv, '\\n', '--'*20, '\\n', \"CV MEAN: \", np.round(cv.mean(),4))\n",
    "cv_results_dict['Naive_Bayes'] = np.round(cv.mean(),4)"
   ]
  },
  {
   "cell_type": "markdown",
   "id": "d4360771",
   "metadata": {},
   "source": [
    "* The baseline naive-bayes prediction performs ok, all things considered. Nevertheless, there is lots of room for improvement to provide significant gains in classification accuracy with the more complicated models.\n",
    "* Also, quite a bit of variation depending on the cross-validation sub-sample, which wouldn't be ideal in practice"
   ]
  },
  {
   "cell_type": "code",
   "execution_count": null,
   "id": "ab1cf931",
   "metadata": {},
   "outputs": [],
   "source": []
  },
  {
   "cell_type": "markdown",
   "id": "392d70db",
   "metadata": {},
   "source": [
    "## LOGISTIC REGRESSION "
   ]
  },
  {
   "cell_type": "code",
   "execution_count": 117,
   "id": "512adf26",
   "metadata": {},
   "outputs": [
    {
     "name": "stdout",
     "output_type": "stream",
     "text": [
      "[0.62 0.56 0.68 0.47 0.71] \n",
      " ---------------------------------------- \n",
      " CV MEAN:  0.6096\n"
     ]
    }
   ],
   "source": [
    "lr = LogisticRegression(max_iter = 2500)\n",
    "cv = cross_val_score(lr, X_train, y_train, cv=5)\n",
    "\n",
    "print(cv, '\\n', '--'*20, '\\n', \"CV MEAN: \", np.round(cv.mean(),4))\n",
    "cv_results_dict['Logistic_Regression'] = np.round(cv.mean(),4)"
   ]
  },
  {
   "cell_type": "code",
   "execution_count": null,
   "id": "7eb30626",
   "metadata": {},
   "outputs": [],
   "source": []
  },
  {
   "cell_type": "markdown",
   "id": "76e23c72",
   "metadata": {},
   "source": [
    "## DECISION TREE CLASSIFIER "
   ]
  },
  {
   "cell_type": "code",
   "execution_count": 123,
   "id": "52f46eaf",
   "metadata": {},
   "outputs": [
    {
     "name": "stdout",
     "output_type": "stream",
     "text": [
      "[0.79 0.79 0.74 0.79 0.71] \n",
      " ---------------------------------------- \n",
      " CV MEAN:  0.7653\n"
     ]
    }
   ],
   "source": [
    "dt = tree.DecisionTreeClassifier(random_state = 1)\n",
    "cv = cross_val_score(dt, \n",
    "                     X_train, y_train,cv=5)\n",
    "\n",
    "print(cv, '\\n', '--'*20, '\\n', \"CV MEAN: \", np.round(cv.mean(),4))\n",
    "cv_results_dict['Decision_Tree'] = np.round(cv.mean(),4)"
   ]
  },
  {
   "cell_type": "code",
   "execution_count": null,
   "id": "c939c6ef",
   "metadata": {},
   "outputs": [],
   "source": []
  },
  {
   "cell_type": "markdown",
   "id": "967cbf3c",
   "metadata": {},
   "source": [
    "## RANDOM FOREST CLASSIFIER"
   ]
  },
  {
   "cell_type": "code",
   "execution_count": 124,
   "id": "c0ab0b76",
   "metadata": {},
   "outputs": [
    {
     "name": "stdout",
     "output_type": "stream",
     "text": [
      "[0.79 0.85 0.79 0.92 0.82] \n",
      " ---------------------------------------- \n",
      " CV MEAN:  0.8335\n"
     ]
    }
   ],
   "source": [
    "rf = RandomForestClassifier(random_state = 1)\n",
    "cv = cross_val_score(rf,\n",
    "                     X_train, y_train,cv=5)\n",
    "\n",
    "print(cv, '\\n', '--'*20, '\\n', \"CV MEAN: \", np.round(cv.mean(),4))\n",
    "cv_results_dict['Random_Forest'] = np.round(cv.mean(),4)"
   ]
  },
  {
   "cell_type": "code",
   "execution_count": null,
   "id": "d0b2c38c",
   "metadata": {},
   "outputs": [],
   "source": []
  },
  {
   "cell_type": "markdown",
   "id": "c698c12e",
   "metadata": {},
   "source": [
    "## K-NEAREST NEIGHBORS"
   ]
  },
  {
   "cell_type": "code",
   "execution_count": 125,
   "id": "df7076fa",
   "metadata": {},
   "outputs": [
    {
     "name": "stdout",
     "output_type": "stream",
     "text": [
      "[0.62 0.54 0.58 0.55 0.61] \n",
      " ---------------------------------------- \n",
      " CV MEAN:  0.5781\n"
     ]
    }
   ],
   "source": [
    "knn = KNeighborsClassifier()\n",
    "cv = cross_val_score(knn, \n",
    "                     X_train, y_train,cv=5)\n",
    "\n",
    "print(cv, '\\n', '--'*20, '\\n', \"CV MEAN: \", np.round(cv.mean(),4))\n",
    "cv_results_dict['K_nearest_n'] = np.round(cv.mean(),4)"
   ]
  },
  {
   "cell_type": "code",
   "execution_count": null,
   "id": "cb083f3f",
   "metadata": {},
   "outputs": [],
   "source": []
  },
  {
   "cell_type": "markdown",
   "id": "fe7568fa",
   "metadata": {},
   "source": [
    "## SUPPORT VECTOR CLASSIFIER "
   ]
  },
  {
   "cell_type": "code",
   "execution_count": 126,
   "id": "b23f40e5",
   "metadata": {},
   "outputs": [
    {
     "name": "stdout",
     "output_type": "stream",
     "text": [
      "[0.54 0.54 0.74 0.55 0.74] \n",
      " ---------------------------------------- \n",
      " CV MEAN:  0.6206\n"
     ]
    }
   ],
   "source": [
    "svc = SVC(probability = True, class_weight=None)\n",
    "cv = cross_val_score(svc, \n",
    "                     X_train, y_train, cv=5)\n",
    "\n",
    "print(cv, '\\n', '--'*20, '\\n', \"CV MEAN: \", np.round(cv.mean(),4))\n",
    "cv_results_dict['Support_Vector_Classifier'] = np.round(cv.mean(),4)"
   ]
  },
  {
   "cell_type": "code",
   "execution_count": null,
   "id": "0513057d",
   "metadata": {},
   "outputs": [],
   "source": []
  },
  {
   "cell_type": "markdown",
   "id": "d7e7e785",
   "metadata": {},
   "source": [
    "## XGBOOST CLASSIFIER (UN-TUNED)"
   ]
  },
  {
   "cell_type": "code",
   "execution_count": 131,
   "id": "9e5298fe",
   "metadata": {},
   "outputs": [
    {
     "name": "stdout",
     "output_type": "stream",
     "text": [
      "[12:35:30] WARNING: C:/Users/Administrator/workspace/xgboost-win64_release_1.3.0/src/learner.cc:1061: Starting in XGBoost 1.3.0, the default evaluation metric used with the objective 'binary:logistic' was changed from 'error' to 'logloss'. Explicitly set eval_metric if you'd like to restore the old behavior.\n",
      "[12:35:30] WARNING: C:/Users/Administrator/workspace/xgboost-win64_release_1.3.0/src/learner.cc:1061: Starting in XGBoost 1.3.0, the default evaluation metric used with the objective 'binary:logistic' was changed from 'error' to 'logloss'. Explicitly set eval_metric if you'd like to restore the old behavior.\n",
      "[12:35:30] WARNING: C:/Users/Administrator/workspace/xgboost-win64_release_1.3.0/src/learner.cc:1061: Starting in XGBoost 1.3.0, the default evaluation metric used with the objective 'binary:logistic' was changed from 'error' to 'logloss'. Explicitly set eval_metric if you'd like to restore the old behavior.\n",
      "[12:35:30] WARNING: C:/Users/Administrator/workspace/xgboost-win64_release_1.3.0/src/learner.cc:1061: Starting in XGBoost 1.3.0, the default evaluation metric used with the objective 'binary:logistic' was changed from 'error' to 'logloss'. Explicitly set eval_metric if you'd like to restore the old behavior.\n",
      "[12:35:30] WARNING: C:/Users/Administrator/workspace/xgboost-win64_release_1.3.0/src/learner.cc:1061: Starting in XGBoost 1.3.0, the default evaluation metric used with the objective 'binary:logistic' was changed from 'error' to 'logloss'. Explicitly set eval_metric if you'd like to restore the old behavior.\n",
      "[0.77 0.82 0.71 0.84 0.74] \n",
      " ---------------------------------------- \n",
      " CV MEAN:  0.7758\n"
     ]
    }
   ],
   "source": [
    "xgb = XGBClassifier(random_state =1)\n",
    "cv = cross_val_score(xgb,\n",
    "                     X_train,y_train, cv=5)\n",
    "\n",
    "print(cv, '\\n', '--'*20, '\\n', \"CV MEAN: \", np.round(cv.mean(),4))\n",
    "cv_results_dict['XGBoost_Classifier'] = np.round(cv.mean(),4)"
   ]
  },
  {
   "cell_type": "code",
   "execution_count": null,
   "id": "58212306",
   "metadata": {},
   "outputs": [],
   "source": []
  },
  {
   "cell_type": "code",
   "execution_count": null,
   "id": "ce229ba4",
   "metadata": {},
   "outputs": [],
   "source": []
  },
  {
   "cell_type": "markdown",
   "id": "89b368e8",
   "metadata": {},
   "source": [
    "## VOTING CLASSIFIER \n",
    "* Because naive-bayes won't be included, there are an even number of voting candidates (hence, we won't use \"hard\" voting, which gives each classifier a (yes/no); from which, the traditional approach of the popular vote wins is the underlying process\n",
    "* A soft classifier averages the confidence of each model\n",
    "    * Accordingly, if the average of the models is > 50%, this will be assigned a (1), else assigned a (0) \n",
    "    * Whereby, the average might be model (1) = 95% and model (2) = 30%, thus average = (95 + 30) / 2  - which is > 50"
   ]
  },
  {
   "cell_type": "code",
   "execution_count": 132,
   "id": "cb3bf2f0",
   "metadata": {},
   "outputs": [],
   "source": [
    "# define the voting classifier (execluding naive bayes)\n",
    "voting_clf = VotingClassifier(estimators = [\n",
    "    ('lr',lr),('knn',knn),('rf',rf),('gnb',gnb),('svc',svc),('xgb',xgb)], \n",
    "                              voting ='soft')"
   ]
  },
  {
   "cell_type": "code",
   "execution_count": 133,
   "id": "9a60cb2b",
   "metadata": {},
   "outputs": [
    {
     "name": "stdout",
     "output_type": "stream",
     "text": [
      "[12:35:36] WARNING: C:/Users/Administrator/workspace/xgboost-win64_release_1.3.0/src/learner.cc:1061: Starting in XGBoost 1.3.0, the default evaluation metric used with the objective 'binary:logistic' was changed from 'error' to 'logloss'. Explicitly set eval_metric if you'd like to restore the old behavior.\n",
      "[12:35:37] WARNING: C:/Users/Administrator/workspace/xgboost-win64_release_1.3.0/src/learner.cc:1061: Starting in XGBoost 1.3.0, the default evaluation metric used with the objective 'binary:logistic' was changed from 'error' to 'logloss'. Explicitly set eval_metric if you'd like to restore the old behavior.\n",
      "[12:35:37] WARNING: C:/Users/Administrator/workspace/xgboost-win64_release_1.3.0/src/learner.cc:1061: Starting in XGBoost 1.3.0, the default evaluation metric used with the objective 'binary:logistic' was changed from 'error' to 'logloss'. Explicitly set eval_metric if you'd like to restore the old behavior.\n",
      "[12:35:37] WARNING: C:/Users/Administrator/workspace/xgboost-win64_release_1.3.0/src/learner.cc:1061: Starting in XGBoost 1.3.0, the default evaluation metric used with the objective 'binary:logistic' was changed from 'error' to 'logloss'. Explicitly set eval_metric if you'd like to restore the old behavior.\n",
      "[12:35:37] WARNING: C:/Users/Administrator/workspace/xgboost-win64_release_1.3.0/src/learner.cc:1061: Starting in XGBoost 1.3.0, the default evaluation metric used with the objective 'binary:logistic' was changed from 'error' to 'logloss'. Explicitly set eval_metric if you'd like to restore the old behavior.\n",
      "[0.77 0.59 0.63 0.74 0.71] \n",
      " ---------------------------------------- \n",
      " CV MEAN:  0.6876\n"
     ]
    }
   ],
   "source": [
    "cv = cross_val_score(voting_clf,\n",
    "                     X_train, y_train,cv=5)\n",
    "print(cv, '\\n', '--'*20, '\\n', \"CV MEAN: \", np.round(cv.mean(),4))\n",
    "cv_results_dict['Voting_Classifier'] = np.round(cv.mean(),4)"
   ]
  },
  {
   "cell_type": "code",
   "execution_count": null,
   "id": "2f4d7937",
   "metadata": {},
   "outputs": [],
   "source": []
  },
  {
   "cell_type": "code",
   "execution_count": null,
   "id": "2e603cbe",
   "metadata": {},
   "outputs": [],
   "source": []
  },
  {
   "cell_type": "markdown",
   "id": "8cb0e794",
   "metadata": {},
   "source": [
    "## CROSS-VALIDATION (PRE-TUNED) CLASSIFICATION MODELS COMPARISON"
   ]
  },
  {
   "cell_type": "code",
   "execution_count": 134,
   "id": "042d82ba",
   "metadata": {},
   "outputs": [
    {
     "data": {
      "text/plain": [
       "{'Naive_Bayes': 0.5679,\n",
       " 'Logistic_Regression': 0.6096,\n",
       " 'Decision_Tree': 0.7653,\n",
       " 'Random_Forest': 0.8335,\n",
       " 'K_nearest_n': 0.5781,\n",
       " 'Support_Vector_Classifier': 0.6206,\n",
       " 'XGBoost_Classifier': 0.7758,\n",
       " 'Voting_Classifier': 0.6876}"
      ]
     },
     "execution_count": 134,
     "metadata": {},
     "output_type": "execute_result"
    }
   ],
   "source": [
    "cv_results_dict"
   ]
  },
  {
   "cell_type": "code",
   "execution_count": 135,
   "id": "87fc8e27",
   "metadata": {},
   "outputs": [
    {
     "data": {
      "image/png": "[encoded data removed]",
      "text/plain": [
       "<Figure size 720x504 with 1 Axes>"
      ]
     },
     "metadata": {},
     "output_type": "display_data"
    }
   ],
   "source": [
    "# show values in bar graph \n",
    "plt.figure(figsize=(10, 7))\n",
    "keys = cv_results_dict.keys()\n",
    "values = cv_results_dict.values()\n",
    "plt.bar(keys, values)\n",
    "plt.xticks(rotation='45')\n",
    "plt.title(\"Pre-Tuned Classificaiton CV Model Performances (Training Data)\");"
   ]
  },
  {
   "cell_type": "markdown",
   "id": "3735693d",
   "metadata": {},
   "source": [
    "## BRIEF RESULTS SUMMARY\n",
    "\n",
    "* Definitively shows that the more complex models return significant accuracy improvements over the baseline naive bayes.\n",
    "* The RF seems to perform quite well without additional tuning; the XGBoost underperforms but we can expect fairly significant accuracy gains for XGBoost and the SVC in tuning. \n",
    "* The simplier logistic_regression model doesn't outperform the baseline naive bayes by much, suggesting that investing in more sophisticated models will be worthwhile\n",
    "    \n",
    "\n"
   ]
  },
  {
   "cell_type": "code",
   "execution_count": null,
   "id": "13dea4be",
   "metadata": {},
   "outputs": [],
   "source": []
  },
  {
   "cell_type": "code",
   "execution_count": null,
   "id": "93ce1964",
   "metadata": {},
   "outputs": [],
   "source": []
  },
  {
   "cell_type": "markdown",
   "id": "88d1b62b",
   "metadata": {},
   "source": [
    "<a id='tuned_models'></a>\n",
    "\n",
    "# TUNED CLASSIFICATION MODEL PREDICTIONS \n",
    "* Tune the above models (Excluding Naive Bayes) and re-test the performance"
   ]
  },
  {
   "cell_type": "code",
   "execution_count": 136,
   "id": "5ce080e6",
   "metadata": {},
   "outputs": [],
   "source": [
    "# import additional packages for grid-searching to optimise some models \n",
    "from sklearn.model_selection import GridSearchCV, RandomizedSearchCV\n",
    "\n",
    "# pickle models to avoid having to re-run lengthy optimisation processes [optional]\n",
    "import pickle"
   ]
  },
  {
   "cell_type": "code",
   "execution_count": 137,
   "id": "924f7aa4",
   "metadata": {},
   "outputs": [],
   "source": [
    "## quick and easy print function for each model \n",
    "def model_performance_report(classifier, model_name):\n",
    "    print('\\n', \"MODEL: \", model_name, '\\n', '--'*15, '\\n', )\n",
    "    print('Best Score: ' + str(classifier.best_score_))\n",
    "    print('Best Parameters: ' + str(classifier.best_params_))"
   ]
  },
  {
   "cell_type": "code",
   "execution_count": 139,
   "id": "2014083b",
   "metadata": {},
   "outputs": [],
   "source": [
    "# initialise model_tuned performance dictionary\n",
    "cv_tuned_results_dict = {}"
   ]
  },
  {
   "cell_type": "code",
   "execution_count": null,
   "id": "a00216c5",
   "metadata": {},
   "outputs": [],
   "source": []
  },
  {
   "cell_type": "code",
   "execution_count": null,
   "id": "7cb8532d",
   "metadata": {},
   "outputs": [],
   "source": []
  },
  {
   "cell_type": "markdown",
   "id": "3f1f4857",
   "metadata": {},
   "source": [
    "# TUNED LOGISTIC REGRESSION "
   ]
  },
  {
   "cell_type": "code",
   "execution_count": 140,
   "id": "cd1cd59b",
   "metadata": {},
   "outputs": [
    {
     "name": "stdout",
     "output_type": "stream",
     "text": [
      "Fitting 5 folds for each of 40 candidates, totalling 200 fits\n",
      "\n",
      " MODEL:  Logistic Regression \n",
      " ------------------------------ \n",
      "\n",
      "Best Score: 0.6354925775978407\n",
      "Best Parameters: {'C': 4.281332398719396, 'max_iter': 2500, 'penalty': 'l2', 'solver': 'liblinear'}\n"
     ]
    }
   ],
   "source": [
    "# initialise logistic_regression instance\n",
    "lr = LogisticRegression()\n",
    "\n",
    "# initialise param_grid of parameters to be optimised in the log-regression\n",
    "## note: logspace = numbers spaced evenly on a log scale\n",
    "param_grid = {'max_iter' : [2500],\n",
    "              'penalty' : ['l1', 'l2'],\n",
    "              'C' : np.logspace(-4, 4, 20),\n",
    "              'solver' : ['liblinear']}\n",
    "\n",
    "\n",
    "# create the grid-search object CV, passing in the parameters to be optimsied from the param_grid\n",
    "# note: n_jobs = -1 (will use all processors of your computer)\n",
    "clf_lr = GridSearchCV(lr, param_grid=param_grid, \n",
    "                      cv = 5, \n",
    "                      verbose =True, \n",
    "                      n_jobs = -1)\n",
    "\n",
    "# fit model passing in the grid-search object & our data: X_train and y_train\n",
    "best_clf_lr = clf_lr.fit(X_train, y_train)\n",
    "\n",
    "# pass in the auxiliary performance reporting function for the \"best\" / optimised parameter model chosen by grid-search\n",
    "model_performance_report(best_clf_lr,'Logistic Regression')"
   ]
  },
  {
   "cell_type": "code",
   "execution_count": 141,
   "id": "c304f0f6",
   "metadata": {},
   "outputs": [],
   "source": [
    "## append results to dictionary \n",
    "cv_tuned_results_dict['tuned_logreg'] = np.round(best_clf_lr.best_score_,4)"
   ]
  },
  {
   "cell_type": "code",
   "execution_count": null,
   "id": "31957016",
   "metadata": {},
   "outputs": [],
   "source": []
  },
  {
   "cell_type": "code",
   "execution_count": null,
   "id": "da487406",
   "metadata": {},
   "outputs": [],
   "source": []
  },
  {
   "cell_type": "markdown",
   "id": "c4e66840",
   "metadata": {},
   "source": [
    "## TUNED K-NEAREST NEIGHBORS"
   ]
  },
  {
   "cell_type": "code",
   "execution_count": 142,
   "id": "1f05765f",
   "metadata": {},
   "outputs": [
    {
     "name": "stdout",
     "output_type": "stream",
     "text": [
      "Fitting 5 folds for each of 60 candidates, totalling 300 fits\n",
      "\n",
      " MODEL:  KNN \n",
      " ------------------------------ \n",
      "\n",
      "Best Score: 0.7342780026990554\n",
      "Best Parameters: {'algorithm': 'auto', 'n_neighbors': 3, 'p': 2, 'weights': 'distance'}\n"
     ]
    }
   ],
   "source": [
    "knn = KNeighborsClassifier()\n",
    "\n",
    "# KNN PARAM GRID\n",
    "param_grid = {'n_neighbors' : [3,5,7,9,11],\n",
    "              'weights' : ['uniform', 'distance'],\n",
    "              'algorithm' : ['auto', 'ball_tree','kd_tree'],\n",
    "              'p' : [1,2]}\n",
    "\n",
    "# run the KNN model with the grid_search passed in\n",
    "clf_knn = GridSearchCV(knn, param_grid=param_grid, cv=5, \n",
    "                       verbose=True, n_jobs = -1)\n",
    "\n",
    "# fit grid_searched model \n",
    "best_clf_knn = clf_knn.fit(X_train, y_train)\n",
    "\n",
    "# print brief report\n",
    "model_performance_report(best_clf_knn,'KNN')"
   ]
  },
  {
   "cell_type": "code",
   "execution_count": 143,
   "id": "c624a137",
   "metadata": {},
   "outputs": [],
   "source": [
    "## append results to dictionary \n",
    "cv_tuned_results_dict['tuned_knn'] = np.round(best_clf_knn.best_score_,4)"
   ]
  },
  {
   "cell_type": "code",
   "execution_count": null,
   "id": "f5da2b7a",
   "metadata": {},
   "outputs": [],
   "source": []
  },
  {
   "cell_type": "code",
   "execution_count": null,
   "id": "d6987b9f",
   "metadata": {},
   "outputs": [],
   "source": []
  },
  {
   "cell_type": "markdown",
   "id": "f42cb403",
   "metadata": {},
   "source": [
    "## TUNED SUPPORT VECTOR CLASSIFIER\n",
    "* PARAM: C = default (1.0); strength of the regularisation parameter "
   ]
  },
  {
   "cell_type": "markdown",
   "id": "dc0f03f3",
   "metadata": {},
   "source": [
    "#### NARROW DOWN FEATURE SPACE WITH RANDOMIZED SEARCH \n",
    "* SVC can have massive storage requirements, which increase greatly with the number of features; even sparse matrix will utilise lots of memory and the solver used in the algorithm doesn't scale efficiently with large amounts of sample\n",
    "* There are generally a few options if you are unable to perform the optimisation:\n",
    "    * Potentially try using linearSVC, which is vastly more efficient in larger sample sizes\n",
    "    * If data is sparse, replace (n) features with the average number of non-zero features in the sample vector\n",
    "    * down-scale your original majority class to match the minority class (reducing the size of the data)\n",
    "    * Tune the optimisation parameters (reduce max_iter) "
   ]
  },
  {
   "cell_type": "code",
   "execution_count": 156,
   "id": "0b6f7b78",
   "metadata": {},
   "outputs": [
    {
     "name": "stdout",
     "output_type": "stream",
     "text": [
      "Fitting 5 folds for each of 40 candidates, totalling 200 fits\n",
      "\n",
      " MODEL:  SVC_rndCV \n",
      " ------------------------------ \n",
      "\n",
      "Best Score: 0.9008097165991904\n",
      "Best Parameters: {'kernel': 'rbf', 'gamma': 10, 'C': 1}\n"
     ]
    }
   ],
   "source": [
    "# fit the SVC with probability = True (internally uses 5-fold cross-validation)\n",
    "svc = SVC(probability = True, cache_size=2000, max_iter=500)\n",
    "# this max_iter is a hard_limit on iterations within solver\n",
    "# default cache=200mb, which is too small to test many different iterations of models\n",
    "\n",
    "# initialise param grid for randomized SVC params\n",
    "param_grid = tuned_parameters = [{'kernel': ['rbf'], 'gamma': [.1,.5,1,2,5,10],\n",
    "                                  'C': [.1, 1, 10, 100]},\n",
    "                                 {'kernel': ['linear'], 'C': [.1, 1, 10, 100]},\n",
    "                                 {'kernel': ['poly'], 'degree' : [2,3,4,5], 'C': [.1, 1, 10]}]\n",
    "\n",
    "\n",
    "# run CVC model with 20 parameter settings sampled\n",
    "clf_svc_rnd = RandomizedSearchCV(svc, param_distributions=param_grid, \n",
    "                       cv= 5, verbose= True, n_jobs= -1, n_iter=40)\n",
    "\n",
    "# fit the best model \n",
    "best_clf_svc_rnd = clf_svc_rnd.fit(X_train, y_train)\n",
    "\n",
    "# print brief report\n",
    "model_performance_report(best_clf_svc_rnd,'SVC_rndCV')"
   ]
  },
  {
   "cell_type": "code",
   "execution_count": null,
   "id": "f9c8d8fc",
   "metadata": {},
   "outputs": [],
   "source": []
  },
  {
   "cell_type": "markdown",
   "id": "089da79d",
   "metadata": {},
   "source": [
    "#### OPTIMIZE AROUND THE BEST PARAMETER FROM THE N_ITER(40) / CV=5,  RANDOMIZED SEARCH\n",
    "* Although, it seems like the model isn't improved by further refinement anyhow"
   ]
  },
  {
   "cell_type": "code",
   "execution_count": 160,
   "id": "d6b2398e",
   "metadata": {},
   "outputs": [
    {
     "name": "stdout",
     "output_type": "stream",
     "text": [
      "Fitting 5 folds for each of 24 candidates, totalling 120 fits\n",
      "\n",
      " MODEL:  SVC \n",
      " ------------------------------ \n",
      "\n",
      "Best Score: 0.9008097165991904\n",
      "Best Parameters: {'C': 0.6, 'gamma': 10, 'kernel': 'rbf'}\n"
     ]
    }
   ],
   "source": [
    "# fit the SVC with probability = True (internally uses 5-fold cross-validation)\n",
    "svc = SVC(probability = True, cache_size=2000, max_iter=500)\n",
    "\n",
    "# initialise param grid for SVC params\n",
    "param_grid = tuned_parameters = [{'kernel': ['rbf'], 'gamma': [10, 15, 20],\n",
    "                                  'C': [0.5, 0.6, 0.7, 0.8, 0.9, 1, 1.25, 2]}]\n",
    "\n",
    "# run CVC model\n",
    "clf_svc = GridSearchCV(svc, param_grid=param_grid, \n",
    "                       cv= 5, verbose= True, n_jobs= -1)\n",
    "\n",
    "# fit the best model \n",
    "best_clf_svc = clf_svc.fit(X_train, y_train)\n",
    "\n",
    "# print brief report\n",
    "model_performance_report(best_clf_svc,'SVC')"
   ]
  },
  {
   "cell_type": "code",
   "execution_count": 161,
   "id": "c26c9126",
   "metadata": {},
   "outputs": [],
   "source": [
    "## append results to dictionary \n",
    "cv_tuned_results_dict['tuned_svc'] = np.round(best_clf_svc.best_score_,4)"
   ]
  },
  {
   "cell_type": "code",
   "execution_count": 162,
   "id": "b27179f6",
   "metadata": {},
   "outputs": [],
   "source": [
    "# save model [optional]\n",
    "pickle.dump(best_clf_svc, open(\"svc_best.pickle.dat\", \"wb\"))"
   ]
  },
  {
   "cell_type": "code",
   "execution_count": null,
   "id": "8c0eac2e",
   "metadata": {},
   "outputs": [],
   "source": []
  },
  {
   "cell_type": "code",
   "execution_count": null,
   "id": "b2e4de0d",
   "metadata": {},
   "outputs": [],
   "source": []
  },
  {
   "cell_type": "markdown",
   "id": "78394987",
   "metadata": {},
   "source": [
    "## TUNED RANDOM FOREST CLASSIFIER\n",
    "   \n",
    "#### Because this data set has a very large total feature space which can be very computationally intensive \n",
    "* first, perform a randomized search of the params, then do a more refined search from those params"
   ]
  },
  {
   "cell_type": "code",
   "execution_count": 144,
   "id": "a6b3bff1",
   "metadata": {},
   "outputs": [
    {
     "name": "stdout",
     "output_type": "stream",
     "text": [
      "Fitting 5 folds for each of 100 candidates, totalling 500 fits\n",
      "\n",
      " MODEL:  Random Forest \n",
      " ------------------------------ \n",
      "\n",
      "Best Score: 0.8439946018893387\n",
      "Best Parameters: {'n_estimators': 1000, 'min_samples_split': 2, 'min_samples_leaf': 1, 'max_features': 'log2', 'max_depth': None, 'bootstrap': False}\n"
     ]
    }
   ],
   "source": [
    "rf = RandomForestClassifier(random_state = 1)\n",
    "\n",
    "# initialise param grid for random_forest\n",
    "# note: default criterion is \"gini\" \n",
    "param_grid =  {'n_estimators': [100,500,1000], \n",
    "                                  'bootstrap': [True,False],\n",
    "                                  'max_depth': [3,5,10,20,50,75,100,None],\n",
    "                                  'max_features': ['auto','sqrt','log2'],\n",
    "                                  'min_samples_leaf': [1,2,4,10],\n",
    "                                  'min_samples_split': [2,5,10]}\n",
    "    \n",
    "## perform a randomized search of the params, then do a more refined search from those params\n",
    "clf_rf_rnd = RandomizedSearchCV(rf, param_distributions = param_grid, \n",
    "                                n_iter = 100, cv = 5, verbose = True, n_jobs = -1)\n",
    "\n",
    "# fit and print brief summary\n",
    "best_clf_rf_rnd = clf_rf_rnd.fit(X_train, y_train)\n",
    "model_performance_report(best_clf_rf_rnd,'Random Forest')"
   ]
  },
  {
   "cell_type": "code",
   "execution_count": null,
   "id": "883ae786",
   "metadata": {},
   "outputs": [],
   "source": []
  },
  {
   "cell_type": "code",
   "execution_count": null,
   "id": "291fe33a",
   "metadata": {},
   "outputs": [],
   "source": []
  },
  {
   "cell_type": "markdown",
   "id": "995690dc",
   "metadata": {},
   "source": [
    "## REFINED GRID-SEARCH FOR TUNED RANDOM FOREST CLASSIFIER "
   ]
  },
  {
   "cell_type": "code",
   "execution_count": 145,
   "id": "5e3d0cc3",
   "metadata": {},
   "outputs": [
    {
     "name": "stdout",
     "output_type": "stream",
     "text": [
      "Fitting 5 folds for each of 36 candidates, totalling 180 fits\n",
      "\n",
      " MODEL:  Random Forest \n",
      " ------------------------------ \n",
      "\n",
      "Best Score: 0.8492577597840756\n",
      "Best Parameters: {'bootstrap': False, 'criterion': 'gini', 'max_depth': None, 'max_features': 'log2', 'min_samples_leaf': 1, 'min_samples_split': 3, 'n_estimators': 1000}\n"
     ]
    }
   ],
   "source": [
    "rf = RandomForestClassifier(random_state = 1)\n",
    "\n",
    "# pass in a range of values roughly around the Randomized Approximation values from above\n",
    "param_grid =  {'n_estimators': [800,1000,1200],\n",
    "               'criterion':['gini','entropy'],\n",
    "                                  'bootstrap': [False],\n",
    "                                  'max_depth': [None],\n",
    "                                  'max_features': ['log2'],\n",
    "                                  'min_samples_leaf': [1,2],\n",
    "                                  'min_samples_split': [1,2,3]}\n",
    " \n",
    "# fit the grid-search object\n",
    "clf_rf = GridSearchCV(rf, param_grid = param_grid, \n",
    "                      cv = 5, verbose = True, n_jobs = -1)\n",
    "\n",
    "best_clf_rf = clf_rf.fit(X_train, y_train)\n",
    "model_performance_report(clf_rf,'Random Forest')"
   ]
  },
  {
   "cell_type": "code",
   "execution_count": 146,
   "id": "c872f150",
   "metadata": {},
   "outputs": [],
   "source": [
    "cv_tuned_results_dict['tuned_rfc'] = np.round(best_clf_rf.best_score_,4)"
   ]
  },
  {
   "cell_type": "code",
   "execution_count": 147,
   "id": "c30472ce",
   "metadata": {},
   "outputs": [],
   "source": [
    "# save model \n",
    "pickle.dump(best_clf_rf, open(\"rf_best.pickle.dat\", \"wb\"))\n",
    "\n",
    "# load model \n",
    "#best_clf_rf = pickle.load(open(\"rf_best.pickle.dat\", \"rb\"))"
   ]
  },
  {
   "cell_type": "code",
   "execution_count": null,
   "id": "4140a789",
   "metadata": {},
   "outputs": [],
   "source": []
  },
  {
   "cell_type": "code",
   "execution_count": null,
   "id": "f95e257c",
   "metadata": {},
   "outputs": [],
   "source": []
  },
  {
   "cell_type": "markdown",
   "id": "efe90808",
   "metadata": {},
   "source": [
    "### SHOW FEATURE IMPORTANCES IN RF\n",
    "* visualise the contribution of the 30 largest features in the RF classification algoirithm."
   ]
  },
  {
   "cell_type": "code",
   "execution_count": 149,
   "id": "7b85ade7",
   "metadata": {},
   "outputs": [
    {
     "data": {
      "image/png": "[encoded data removed]",
      "text/plain": [
       "<Figure size 1152x576 with 1 Axes>"
      ]
     },
     "metadata": {},
     "output_type": "display_data"
    }
   ],
   "source": [
    "best_rf = best_clf_rf.best_estimator_.fit(X_train,y_train)\n",
    "feat_importances = pd.Series(best_rf.feature_importances_, index=X_train.columns)\n",
    "plt.figure(figsize=(16,8))\n",
    "feat_importances.nlargest(30).plot(kind='barh');"
   ]
  },
  {
   "cell_type": "code",
   "execution_count": null,
   "id": "530cd499",
   "metadata": {},
   "outputs": [],
   "source": []
  },
  {
   "cell_type": "markdown",
   "id": "50e46dba",
   "metadata": {},
   "source": [
    "### BRIEF TAKEAWAYS ON RF CLASSIFIER & DEPARTMENT CONTRIBUTIONS  [FIX REQUIRED]\n",
    "\n",
    "* Fairly expected insights:\n",
    "    * Age plays an important role in informing the email-opt in decision; this is likely related to the uptake of new technologies among different age groups. \n",
    "    * (Fruit & Veg) and (Confectionery) are heavily marketed items online and in the catalogue, and is expected to be an important \"draw card\" for customer shopping / customer behaviour influence\n",
    "    * While Tobacco was a massive contributor to overall sales earlier, as expected it doesn't play a significant role in loyalty customer behaviour; likely stemming from the fact that tobacco sales do not provide loyalty points\n",
    "    * Customer duration is important, the longer you frequent the same location, the more likely you are to subscribe to the email specials for that location - fairly logical to presume but useful to see it statistically represented here.\n",
    "    * Sales are important, customers who spend more are more likely to opt into the email marketing; conversely, the causality could in a continuous cycle, as customer's who opt into the marketing also then subsequently spend more. Either way, this isn't exactly a novel discovery \n",
    "   \n",
    "   \n",
    "* somewhat surprising takeaways: \n",
    "    * Slightly surprising to see the \"top-up\" shop items: (milk, pet food, snackfoods, softdrinks) among some of the most important features as email opt-in shoppers are expected to partake in more 'staple' purchases like (meat, deli)\n",
    "    * post code (proximity to store) is not as important as expected, the most geographically close post_code only represents about the (20th) top feature. \n",
    "    * Gender is not important in the email-marketing decision\n",
    "        * Although, this was slightly supported by the non-significant difference seen in the two groups means in the initial data exploration section"
   ]
  },
  {
   "cell_type": "code",
   "execution_count": null,
   "id": "a78dbe5d",
   "metadata": {},
   "outputs": [],
   "source": []
  },
  {
   "cell_type": "code",
   "execution_count": null,
   "id": "6bd27c60",
   "metadata": {},
   "outputs": [],
   "source": []
  },
  {
   "cell_type": "markdown",
   "id": "b875d97f",
   "metadata": {},
   "source": [
    "## TUNED XGBOOST \n",
    "\n",
    "### FIRST NARROW DOWN FEATURE SPACE WITH RANDOMIZED SEARCH\n",
    "* NOTE: even the randomized search of over the param_grid options can take a long time to run, even with a fast PC. If the code is unable to finish running, try reducing the cross_validations (CV=5) or n_iter (I lowered 1000 > 250, try even 100)"
   ]
  },
  {
   "cell_type": "code",
   "execution_count": 150,
   "id": "f1ab8558",
   "metadata": {},
   "outputs": [
    {
     "name": "stdout",
     "output_type": "stream",
     "text": [
      "Fitting 5 folds for each of 250 candidates, totalling 1250 fits\n",
      "[12:46:48] WARNING: C:/Users/Administrator/workspace/xgboost-win64_release_1.3.0/src/learner.cc:1061: Starting in XGBoost 1.3.0, the default evaluation metric used with the objective 'binary:logistic' was changed from 'error' to 'logloss'. Explicitly set eval_metric if you'd like to restore the old behavior.\n",
      "\n",
      " MODEL:  XGB \n",
      " ------------------------------ \n",
      "\n",
      "Best Score: 0.8387314439946018\n",
      "Best Parameters: {'subsample': 0.8, 'sampling_method': 'uniform', 'reg_lambda': 1.5, 'reg_alpha': 0, 'n_estimators': 1000, 'min_child_weight': 0.1, 'max_depth': 15, 'learning_rate': 0.7, 'gamma': 0, 'colsample_bytree': 1}\n"
     ]
    }
   ],
   "source": [
    "xgb = XGBClassifier(random_state=1)\n",
    "\n",
    "# different param featrues to be randomly iterated over \n",
    "param_grid = {\n",
    "    'n_estimators': [20, 50, 100, 250, 500, 1000],\n",
    "    'colsample_bytree': [0.2, 0.5, 0.7, 0.8, 1],\n",
    "    'max_depth': [2, 5, 10, 15, 20, 25, None],\n",
    "    'reg_alpha': [0, 0.5, 1],\n",
    "    'reg_lambda': [1, 1.5, 2],\n",
    "    'subsample': [0.5, 0.6, 0.7, 0.8, 0.9],\n",
    "    'learning_rate':[.01, 0.1, 0.2, 0.3, 0.5, 0.7, 0.9],\n",
    "    'gamma':[0, .01, 0.1, 1, 10, 100],\n",
    "    'min_child_weight':[0, .01, 0.1, 1, 10, 100],\n",
    "    'sampling_method': ['uniform', 'gradient_based']}\n",
    "\n",
    "# run the randomized search on param grid\n",
    "clf_xgb_rnd = RandomizedSearchCV(xgb, param_distributions = param_grid, n_iter = 250, \n",
    "                                 cv = 5, verbose = True, n_jobs = -1)\n",
    "\n",
    "# fit the best randomizedsearch_CV model and print brief summary\n",
    "best_clf_xgb_rnd = clf_xgb_rnd.fit(X_train, y_train)\n",
    "model_performance_report(best_clf_xgb_rnd,'XGB')"
   ]
  },
  {
   "cell_type": "code",
   "execution_count": null,
   "id": "8f6e974d",
   "metadata": {},
   "outputs": [],
   "source": []
  },
  {
   "cell_type": "markdown",
   "id": "f320ffb5",
   "metadata": {},
   "source": [
    "## FIT A MORE REFINED XGBOOST MODEL WITH THE PREVIOUSLY OPTIMAL PARAMETERS FROM RANDOMIZED SEARCH"
   ]
  },
  {
   "cell_type": "code",
   "execution_count": 151,
   "id": "a95857b2",
   "metadata": {},
   "outputs": [
    {
     "name": "stdout",
     "output_type": "stream",
     "text": [
      "Fitting 5 folds for each of 648 candidates, totalling 3240 fits\n",
      "[12:54:30] WARNING: C:/Users/Administrator/workspace/xgboost-win64_release_1.3.0/src/learner.cc:1061: Starting in XGBoost 1.3.0, the default evaluation metric used with the objective 'binary:logistic' was changed from 'error' to 'logloss'. Explicitly set eval_metric if you'd like to restore the old behavior.\n",
      "\n",
      " MODEL:  XGB \n",
      " ------------------------------ \n",
      "\n",
      "Best Score: 0.8441295546558705\n",
      "Best Parameters: {'colsample_bytree': 1, 'gamma': 0, 'learning_rate': 0.7, 'max_depth': 13, 'min_child_weight': 0.1, 'n_estimators': 800, 'reg_alpha': 0, 'reg_lambda': 1.2, 'sampling_method': 'uniform', 'subsample': 0.8}\n"
     ]
    }
   ],
   "source": [
    "xgb = XGBClassifier(random_state=1)\n",
    "\n",
    "# refine each parameter in a small range around the above randomized-param values\n",
    "param_grid = {\n",
    "    'n_estimators': [800, 1000, 1200],\n",
    "    'colsample_bytree': [1, 1.2],\n",
    "    'max_depth': [13, 15, 17],\n",
    "    'reg_alpha': [0],\n",
    "    'reg_lambda': [1.2, 1.5, 1.7],\n",
    "    'subsample': [0.8],\n",
    "    'learning_rate':[0.7, 0.8],\n",
    "    'gamma':[0, 0.01],\n",
    "    'min_child_weight':[0.1, 0.3, 0.5],\n",
    "    'sampling_method': ['uniform']}\n",
    "\n",
    "# fit the model from the now refined-grid params\n",
    "clf_xgb = GridSearchCV(xgb, param_grid = param_grid, cv = 5, verbose = True, n_jobs = -1)\n",
    "\n",
    "# fit best model and print brief summary\n",
    "best_clf_xgb = clf_xgb.fit(X_train, y_train)\n",
    "model_performance_report(best_clf_xgb,'XGB')"
   ]
  },
  {
   "cell_type": "code",
   "execution_count": 152,
   "id": "e9ad8e8d",
   "metadata": {},
   "outputs": [],
   "source": [
    "cv_tuned_results_dict['tuned_xgb'] = np.round(best_clf_xgb.best_score_,4)"
   ]
  },
  {
   "cell_type": "code",
   "execution_count": 153,
   "id": "5b45b31b",
   "metadata": {},
   "outputs": [],
   "source": [
    "# save model \n",
    "pickle.dump(best_clf_xgb, open(\"xgboost_best.pickle.dat\", \"wb\"))"
   ]
  },
  {
   "cell_type": "code",
   "execution_count": null,
   "id": "c90897d0",
   "metadata": {},
   "outputs": [],
   "source": []
  },
  {
   "cell_type": "code",
   "execution_count": null,
   "id": "ca23d821",
   "metadata": {},
   "outputs": [],
   "source": []
  },
  {
   "cell_type": "markdown",
   "id": "8911efe2",
   "metadata": {},
   "source": [
    "## TUNED CLASSIFICATION MODEL RESULTS \n",
    "* Model scores on the training data set"
   ]
  },
  {
   "cell_type": "code",
   "execution_count": 194,
   "id": "cba16886",
   "metadata": {},
   "outputs": [
    {
     "data": {
      "text/plain": [
       "{'tuned_logreg': 0.6355,\n",
       " 'tuned_knn': 0.7343,\n",
       " 'tuned_rfc': 0.8493,\n",
       " 'tuned_xgb': 0.8441,\n",
       " 'tuned_svc': 0.9008}"
      ]
     },
     "execution_count": 194,
     "metadata": {},
     "output_type": "execute_result"
    }
   ],
   "source": [
    "cv_tuned_results_dict"
   ]
  },
  {
   "cell_type": "code",
   "execution_count": 197,
   "id": "a9c30557",
   "metadata": {},
   "outputs": [
    {
     "data": {
      "image/png": "[encoded data removed]",
      "text/plain": [
       "<Figure size 576x432 with 1 Axes>"
      ]
     },
     "metadata": {},
     "output_type": "display_data"
    }
   ],
   "source": [
    "# show values in bar graph \n",
    "plt.figure(figsize=(8, 6))\n",
    "keys = cv_tuned_results_dict.keys()\n",
    "values = cv_tuned_results_dict.values()\n",
    "plt.bar(keys, values)\n",
    "plt.xticks(rotation='45')\n",
    "plt.title(\"Tuned Classificaiton CV Model Performances (Training Data)\");"
   ]
  },
  {
   "cell_type": "markdown",
   "id": "3c6fcfbb",
   "metadata": {},
   "source": [
    "### BRIEF TAKEAWAYS: \n",
    "* Tuned logistic regression has a mild gain ~ 3%, not enough to be considered.\n",
    "* While tuned KNN sees a very generous increase: 58% to 73%, it still underperforms\n",
    "* RF classifier imrpoved only marginally, a little over 1% but its un-tuned performance means the model might have application in larger data sets with less computing power / resources to optimize the other models\n",
    "* XGB sees a modest gain of around 7%, but the computational burden is significantly higher than the RFC, and loses out in that respect\n",
    "* tuned SVC sees a massive gain 62% to 90%, a clear winner\n",
    "    * Although, the SVC may have problems adapting to larger data sets, more so than any other model, which affects its viability on a massive scale without further internal optimisations"
   ]
  },
  {
   "cell_type": "code",
   "execution_count": null,
   "id": "b3be2d10",
   "metadata": {},
   "outputs": [],
   "source": []
  },
  {
   "cell_type": "code",
   "execution_count": null,
   "id": "19d4ad06",
   "metadata": {},
   "outputs": [],
   "source": []
  },
  {
   "cell_type": "markdown",
   "id": "9929d76f",
   "metadata": {},
   "source": [
    "<a id='add_vc'></a>\n",
    "\n",
    "## ADDITIONAL MODEL APPROACHES: VOTING CLASSIFIER MODIFICATIONS \n",
    "* useful tool if we are not 100% sure which classifier is right for the problem\n",
    "\n",
    "### EXPLANATION\n",
    "* Hard = popular vote, majority wins\n",
    "* Soft = predicts the winner based on the argmax of the sums of the predicted probabilities \n",
    "    * Soft is considered superior if the classification models have been prior calibrated"
   ]
  },
  {
   "cell_type": "code",
   "execution_count": 188,
   "id": "ab3a2627",
   "metadata": {},
   "outputs": [],
   "source": [
    "# import a package to more easily visualise the results in table format\n",
    "from tabulate import tabulate"
   ]
  },
  {
   "cell_type": "code",
   "execution_count": 182,
   "id": "de4e41dc",
   "metadata": {},
   "outputs": [],
   "source": [
    "# define our best estimators from each model for clarity \n",
    "best_lr = best_clf_lr.best_estimator_     # best logistic regression \n",
    "best_knn = best_clf_knn.best_estimator_   # best k-nearest neighbors\n",
    "best_svc = best_clf_svc.best_estimator_   # best support vector classifier  \n",
    "best_rf = best_clf_rf.best_estimator_     # best random forest \n",
    "best_xgb = best_clf_xgb.best_estimator_   # best XGBoost"
   ]
  },
  {
   "cell_type": "markdown",
   "id": "347c2dca",
   "metadata": {},
   "source": [
    "* define the different iterations of voting classifiers\n",
    "    * soft vs hard\n",
    "    * sub-sample of models vs all models"
   ]
  },
  {
   "cell_type": "code",
   "execution_count": 183,
   "id": "7d061201",
   "metadata": {},
   "outputs": [],
   "source": [
    "voting_clf_soft = VotingClassifier(estimators = [('knn',best_knn),('rf',best_rf),('svc',best_svc)], \n",
    "                                   voting = 'soft') "
   ]
  },
  {
   "cell_type": "code",
   "execution_count": 184,
   "id": "f7bd2158",
   "metadata": {},
   "outputs": [],
   "source": [
    "voting_clf_hard = VotingClassifier(estimators = [('knn',best_knn),('rf',best_rf),('svc',best_svc)], \n",
    "                                   voting = 'hard') "
   ]
  },
  {
   "cell_type": "code",
   "execution_count": 185,
   "id": "2c0c2e38",
   "metadata": {},
   "outputs": [],
   "source": [
    "voting_clf_all = VotingClassifier(estimators = [('knn',best_knn),('rf',best_rf),('svc',best_svc), ('lr', best_lr)], \n",
    "                                  voting = 'soft') "
   ]
  },
  {
   "cell_type": "code",
   "execution_count": 186,
   "id": "a2c7e040",
   "metadata": {},
   "outputs": [],
   "source": [
    "voting_clf_xgb = VotingClassifier(estimators = [('knn',best_knn),('rf',best_rf),('svc',best_svc), ('xgb', best_xgb),\n",
    "                                                ('lr', best_lr)], \n",
    "                                  voting = 'soft')"
   ]
  },
  {
   "cell_type": "code",
   "execution_count": 190,
   "id": "faa16810",
   "metadata": {},
   "outputs": [
    {
     "name": "stdout",
     "output_type": "stream",
     "text": [
      "[13:08:32] WARNING: C:/Users/Administrator/workspace/xgboost-win64_release_1.3.0/src/learner.cc:1061: Starting in XGBoost 1.3.0, the default evaluation metric used with the objective 'binary:logistic' was changed from 'error' to 'logloss'. Explicitly set eval_metric if you'd like to restore the old behavior.\n",
      "[13:08:34] WARNING: C:/Users/Administrator/workspace/xgboost-win64_release_1.3.0/src/learner.cc:1061: Starting in XGBoost 1.3.0, the default evaluation metric used with the objective 'binary:logistic' was changed from 'error' to 'logloss'. Explicitly set eval_metric if you'd like to restore the old behavior.\n",
      "[13:08:35] WARNING: C:/Users/Administrator/workspace/xgboost-win64_release_1.3.0/src/learner.cc:1061: Starting in XGBoost 1.3.0, the default evaluation metric used with the objective 'binary:logistic' was changed from 'error' to 'logloss'. Explicitly set eval_metric if you'd like to restore the old behavior.\n",
      "[13:08:36] WARNING: C:/Users/Administrator/workspace/xgboost-win64_release_1.3.0/src/learner.cc:1061: Starting in XGBoost 1.3.0, the default evaluation metric used with the objective 'binary:logistic' was changed from 'error' to 'logloss'. Explicitly set eval_metric if you'd like to restore the old behavior.\n",
      "[13:08:38] WARNING: C:/Users/Administrator/workspace/xgboost-win64_release_1.3.0/src/learner.cc:1061: Starting in XGBoost 1.3.0, the default evaluation metric used with the objective 'binary:logistic' was changed from 'error' to 'logloss'. Explicitly set eval_metric if you'd like to restore the old behavior.\n",
      "+-------------------+--------------------+\n",
      "| VOTING CLASSIFIER |  MODEL 5-CV MEAN   |\n",
      "+-------------------+--------------------+\n",
      "| VOTING CLF SOFT:  | 0.843859649122807  |\n",
      "| VOTING CLF HARD:  | 0.875033738191633  |\n",
      "|  VOTING CLF ALL:  | 0.8489878542510121 |\n",
      "|  VOTING CLF XBG:  | 0.8697705802968961 |\n",
      "+-------------------+--------------------+\n"
     ]
    }
   ],
   "source": [
    "print(tabulate([['VOTING CLF SOFT:', cross_val_score(voting_clf_soft,X_train,y_train,cv=5).mean()],\n",
    "              ['VOTING CLF HARD:', cross_val_score(voting_clf_hard,X_train,y_train,cv=5).mean()],\n",
    "                ['VOTING CLF ALL: ', cross_val_score(voting_clf_all,X_train,y_train,cv=5).mean()], \n",
    "                ['VOTING CLF XBG: ',cross_val_score(voting_clf_xgb,X_train,y_train,cv=5).mean()]],\n",
    "               headers=['VOTING CLASSIFIER','MODEL 5-CV MEAN'],\n",
    "                tablefmt='pretty', numalign='center'))"
   ]
  },
  {
   "cell_type": "markdown",
   "id": "a49b75ab",
   "metadata": {},
   "source": [
    "* Conversely, the hard classifier outperforms the soft classifier with the same 3 models\n",
    "    * this might be addressed by influencing the weights of each model within the voter"
   ]
  },
  {
   "cell_type": "code",
   "execution_count": null,
   "id": "a6d4430b",
   "metadata": {},
   "outputs": [],
   "source": []
  },
  {
   "cell_type": "markdown",
   "id": "0b537e46",
   "metadata": {},
   "source": [
    "### EXPERIMENT WIHT USING DIFFERENT MODEL WEIGHTS IN THE SOFT VOTING CLASSIFIER \n",
    "* A grid search will iterate through different weightings \n",
    "\n",
    "#### TRY EXPERIMENT WITH DIFFERENT WEIGHTS ON THE TWO BEST SOFT VOTING CLASSIFIERS"
   ]
  },
  {
   "cell_type": "code",
   "execution_count": 192,
   "id": "0175caf5",
   "metadata": {},
   "outputs": [],
   "source": [
    "# initialise dictionary of param weights \n",
    "params_soft_vc = {'weights' : [[1,1,1],[1,1,2],[1,2,1],[1,2,2],\n",
    "                       [2,1,1],[2,2,1],[2,1,2]]}\n"
   ]
  },
  {
   "cell_type": "code",
   "execution_count": 193,
   "id": "929c1eea",
   "metadata": {},
   "outputs": [
    {
     "name": "stdout",
     "output_type": "stream",
     "text": [
      "Fitting 5 folds for each of 7 candidates, totalling 35 fits\n",
      "\n",
      " MODEL:  VC-soft Weights \n",
      " ------------------------------ \n",
      "\n",
      "Best Score: 0.8748987854251012\n",
      "Best Parameters: {'weights': [1, 1, 2]}\n"
     ]
    }
   ],
   "source": [
    "# pass in the weights dict as the param grid \n",
    "vote_weights = GridSearchCV(voting_clf_soft, param_grid=params_soft_vc, \n",
    "                           cv = 5, verbose = True, n_jobs = -1)\n",
    "\n",
    "# fit the best model\n",
    "best_clf_weight = vote_weights.fit(X_train, y_train)\n",
    "\n",
    "# print results\n",
    "model_performance_report(best_clf_weight,'VC-soft Weights')"
   ]
  },
  {
   "cell_type": "markdown",
   "id": "9a38a2a2",
   "metadata": {},
   "source": [
    "* adjusting the weights to further weight the SVC results in a higher score (unsurprising, as the SVC alone has a higher score than the voting classifier) "
   ]
  },
  {
   "cell_type": "code",
   "execution_count": null,
   "id": "63a0d752",
   "metadata": {},
   "outputs": [],
   "source": []
  },
  {
   "cell_type": "markdown",
   "id": "36cdd8d7",
   "metadata": {},
   "source": [
    "## Experiment with different weightings for the 5 models\n",
    "* Try iterations with more weight on the models we know performed best on the single model cross-validation steps"
   ]
  },
  {
   "cell_type": "code",
   "execution_count": 198,
   "id": "986bd0c5",
   "metadata": {},
   "outputs": [],
   "source": [
    "params_soft_xgb = {'weights' : [[1,1,1,1,1],[1,1,2,1,1],[1,1,2,2,1],[1,2,2,2,1]]}"
   ]
  },
  {
   "cell_type": "code",
   "execution_count": 199,
   "id": "d788d6f5",
   "metadata": {},
   "outputs": [
    {
     "name": "stdout",
     "output_type": "stream",
     "text": [
      "Fitting 5 folds for each of 4 candidates, totalling 20 fits\n",
      "[13:17:14] WARNING: C:/Users/Administrator/workspace/xgboost-win64_release_1.3.0/src/learner.cc:1061: Starting in XGBoost 1.3.0, the default evaluation metric used with the objective 'binary:logistic' was changed from 'error' to 'logloss'. Explicitly set eval_metric if you'd like to restore the old behavior.\n",
      "\n",
      " MODEL:  VC-soft Weights: XGB \n",
      " ------------------------------ \n",
      "\n",
      "Best Score: 0.8855600539811066\n",
      "Best Parameters: {'weights': [1, 1, 2, 2, 1]}\n"
     ]
    }
   ],
   "source": [
    "# pass in the weights dict as the param grid \n",
    "vote_weights = GridSearchCV(voting_clf_xgb, param_grid=params_soft_xgb, \n",
    "                           cv = 5, verbose = True, n_jobs = -1)\n",
    "\n",
    "# fit the best model\n",
    "best_clf_weight = vote_weights.fit(X_train, y_train)\n",
    "\n",
    "# print results\n",
    "model_performance_report(best_clf_weight,'VC-soft Weights: XGB')"
   ]
  },
  {
   "cell_type": "markdown",
   "id": "d1aa97e2",
   "metadata": {},
   "source": [
    "* Not entirely surprising that the model with extra weight on the: SVC and XGBoost performed better, given these models outperformed individually as well."
   ]
  },
  {
   "cell_type": "code",
   "execution_count": null,
   "id": "5d8c5f0c",
   "metadata": {},
   "outputs": [],
   "source": []
  },
  {
   "cell_type": "markdown",
   "id": "17226d0d",
   "metadata": {},
   "source": [
    "### BRIEF TAKEAWAYS ON THE VOTING CLASSIFIER\n",
    "* Somewhat unsurprisingly, the models with extra weight on the already outperforming models perform better. \n",
    "* Given the additional complexities of forecasting the test data set with a voting classifier and the fact it is not essentially providing any additional \"value\" by over-weighting the model we already know performs best, we will perform test-data predictions with the individual tuned models only"
   ]
  },
  {
   "cell_type": "code",
   "execution_count": null,
   "id": "02318ad2",
   "metadata": {},
   "outputs": [],
   "source": []
  },
  {
   "cell_type": "markdown",
   "id": "2364c480",
   "metadata": {},
   "source": [
    "<a id='oos_models'></a>\n",
    "\n",
    "## OUT OF SAMPLE (TEST-DF) PREDICTIONS FROM TUNED MODELS\n",
    "* Use the tuned model from the training data to predict outcomes from the test data for each of the tuned models"
   ]
  },
  {
   "cell_type": "code",
   "execution_count": 200,
   "id": "4eb64e29",
   "metadata": {},
   "outputs": [],
   "source": [
    "# initialise a dictionary for these test data results\n",
    "tuned_model_test_results = {}"
   ]
  },
  {
   "cell_type": "code",
   "execution_count": 167,
   "id": "6ea69447",
   "metadata": {},
   "outputs": [],
   "source": [
    "# define our best estimators from each model: \n",
    "best_lr = best_clf_lr.best_estimator_     # best logistic regression \n",
    "best_knn = best_clf_knn.best_estimator_   # best k-nearest neighbors\n",
    "best_svc = best_clf_svc.best_estimator_   # best support vector classifier  \n",
    "best_rf = best_clf_rf.best_estimator_     # best random forest \n",
    "best_xgb = best_clf_xgb.best_estimator_   # best XGBoost"
   ]
  },
  {
   "cell_type": "code",
   "execution_count": 168,
   "id": "1efd7a77",
   "metadata": {},
   "outputs": [],
   "source": [
    "# test model on data inputs of x_test to get results of y_test\n",
    "log_reg_pred = best_lr.predict(X_test).astype(int)\n",
    "knn_pred = best_knn.predict(X_test).astype(int)\n",
    "svc_pred = best_svc.predict(X_test).astype(int) \n",
    "rf_pred = best_rf.predict(X_test).astype(int) \n",
    "xbg_pred = best_xgb.predict(X_test).astype(int) "
   ]
  },
  {
   "cell_type": "code",
   "execution_count": 203,
   "id": "a8096cdf",
   "metadata": {},
   "outputs": [],
   "source": [
    "# append the test-df model accuracy results (using: roc_auc score)\n",
    "tuned_model_test_results['tuned_lr'] = np.round(roc_auc_score(y_test, log_reg_pred),4)\n",
    "tuned_model_test_results['tuned_knn'] = np.round(roc_auc_score(y_test, knn_pred),4)\n",
    "tuned_model_test_results['tuned_svc'] = np.round(roc_auc_score(y_test, svc_pred),4)\n",
    "tuned_model_test_results['tuned_rf'] = np.round(roc_auc_score(y_test, rf_pred),4)\n",
    "tuned_model_test_results['tuned_xgb'] = np.round(roc_auc_score(y_test, xbg_pred),4)"
   ]
  },
  {
   "cell_type": "code",
   "execution_count": null,
   "id": "4a4ceaf7",
   "metadata": {},
   "outputs": [],
   "source": []
  },
  {
   "cell_type": "markdown",
   "id": "d203d2fc",
   "metadata": {},
   "source": [
    "<a id='model_results'></a>\n",
    "\n",
    "## MODEL RESULTS SUMMARY AND DISCUSSION\n",
    "\n",
    "* Interestingly enough, (Ex. logistic regression) each of the models performed better on the test data than on the training data. \n",
    "* The RFC gained almost 10% accuracy and the SVC around 5%, this might suggests that the models were not overly fitted to the training data and actually have predictive capacity in correctly classifying new data\n",
    "    * One avenue to explore is whether the upscaling of the minority class has contributed to this in any way, thus, the total data set should be recalibrated in the future and different techniques of class balancing should be tried to ensure the results continue to hold true."
   ]
  },
  {
   "cell_type": "code",
   "execution_count": 204,
   "id": "e7f40b6e",
   "metadata": {},
   "outputs": [
    {
     "data": {
      "text/plain": [
       "{'tuned_lr': 0.625,\n",
       " 'tuned_knn': 0.75,\n",
       " 'tuned_svc': 0.9583,\n",
       " 'tuned_rf': 0.9583,\n",
       " 'tuned_xgb': 0.875}"
      ]
     },
     "execution_count": 204,
     "metadata": {},
     "output_type": "execute_result"
    }
   ],
   "source": [
    "# show results \n",
    "tuned_model_test_results"
   ]
  },
  {
   "cell_type": "code",
   "execution_count": null,
   "id": "2456fb0e",
   "metadata": {},
   "outputs": [],
   "source": []
  },
  {
   "cell_type": "code",
   "execution_count": 207,
   "id": "b6c165c5",
   "metadata": {},
   "outputs": [
    {
     "data": {
      "image/png": "[encoded data removed]",
      "text/plain": [
       "<Figure size 648x504 with 1 Axes>"
      ]
     },
     "metadata": {},
     "output_type": "display_data"
    }
   ],
   "source": [
    "# show values in bar graph \n",
    "plt.figure(figsize=(9, 7))\n",
    "keys = tuned_model_test_results.keys()\n",
    "values = tuned_model_test_results.values()\n",
    "plt.bar(keys, values)\n",
    "plt.xticks(rotation='45')\n",
    "plt.title(\"Tuned Classificaiton CV Model Performances (Test Data: ROC_AUC SCORES)\");"
   ]
  },
  {
   "cell_type": "code",
   "execution_count": null,
   "id": "e4c7f64d",
   "metadata": {},
   "outputs": [],
   "source": []
  },
  {
   "cell_type": "code",
   "execution_count": null,
   "id": "3ab2a973",
   "metadata": {},
   "outputs": [],
   "source": []
  },
  {
   "cell_type": "code",
   "execution_count": null,
   "id": "3c7bbd35",
   "metadata": {},
   "outputs": [],
   "source": []
  },
  {
   "cell_type": "code",
   "execution_count": null,
   "id": "36b0f8a6",
   "metadata": {},
   "outputs": [],
   "source": []
  }
 ],
 "metadata": {
  "kernelspec": {
   "display_name": "Python 3",
   "language": "python",
   "name": "python3"
  },
  "language_info": {
   "codemirror_mode": {
    "name": "ipython",
    "version": 3
   },
   "file_extension": ".py",
   "mimetype": "text/x-python",
   "name": "python",
   "nbconvert_exporter": "python",
   "pygments_lexer": "ipython3",
   "version": "3.8.5"
  }
 },
 "nbformat": 4,
 "nbformat_minor": 5
}
